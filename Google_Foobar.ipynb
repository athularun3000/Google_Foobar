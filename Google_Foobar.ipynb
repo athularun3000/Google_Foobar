{
 "cells": [
  {
   "cell_type": "markdown",
   "id": "928d32bc",
   "metadata": {},
   "source": [
    "## Google Foobar Challenge\n",
    "\n",
    "I entered the foobar challenge quite late (in 2022 !) at the end of my google data analytics course. I have added solutions to all problems attempted in this LONG notebook which were written by me or referred from online sources.\n",
    "\n",
    "Level 1&2 were easy to solve but beyond that I had seriously refer a lot of stackover questions related to challenges to understand about various approaches. Whenever good resources were found it's added before individual question solution ideas\n",
    "\n",
    "\n",
    "<div class=\"alert alert-warning\">\n",
    "    <b>Imp</b>: for those who are still trying this out, give a shot by yourself referrring to before referring to online help !!\n",
    "</div>"
   ]
  },
  {
   "cell_type": "code",
   "execution_count": 3,
   "id": "ffd05da7",
   "metadata": {},
   "outputs": [],
   "source": [
    "#google foobar challenge 1: partition number into largest possible squarres iteratively\n",
    "\n",
    "import numpy as np\n",
    "\n",
    "def solution(area):\n",
    "    area_copy=area\n",
    "    sols=[]\n",
    "    sol=np.int64(np.sqrt(area_copy))\n",
    "    #subtracts largest possible int sq from area and appends sq to solution\n",
    "    while sol>1:\n",
    "        sols.append(pow(sol,2))\n",
    "        area_copy=area_copy-pow(sol,2)\n",
    "        sol=np.int64(np.sqrt(area_copy))\n",
    "    while area_copy>0:\n",
    "        sols.append(1)\n",
    "        area_copy=area_copy-1\n",
    "    \n",
    "    return  sols"
   ]
  },
  {
   "cell_type": "code",
   "execution_count": 4,
   "id": "f9ddac37",
   "metadata": {},
   "outputs": [
    {
     "data": {
      "text/plain": [
       "[9, 1]"
      ]
     },
     "execution_count": 4,
     "metadata": {},
     "output_type": "execute_result"
    }
   ],
   "source": [
    "solution(10) # 10 can partioned as 9 (3^2) + 1"
   ]
  },
  {
   "cell_type": "markdown",
   "id": "0442af9f",
   "metadata": {},
   "source": [
    "## Level 2  Google Foo\n",
    "------\n",
    "\n",
    "### Gearing Up for Destruction \n",
    "\n",
    "As Commander Lambda's personal assistant, you've been assigned the task of configuring the LAMBCHOP doomsday device's axial orientation gears. It should be pretty simple -- just add gears to create the appropriate rotation ratio. But the problem is, due to the layout of the LAMBCHOP and the complicated system of beams and pipes supporting it, the pegs that will support the gears are fixed in place.\n",
    "\n",
    "The LAMBCHOP's engineers have given you lists identifying the placement of groups of pegs along various support beams. You need to place a gear on each peg (otherwise the gears will collide with unoccupied pegs). The engineers have plenty of gears in all different sizes stocked up, so you can choose gears of any size, from a radius of 1 on up. Your goal is to build a system where the last gear rotates at twice the rate (in revolutions per minute, or rpm) of the first gear, no matter the direction. Each gear (except the last) touches and turns the gear on the next peg to the right.\n",
    "\n",
    "Given a list of distinct positive integers named pegs representing the location of each peg along the support beam, write a function solution(pegs) which, if there is a solution, returns a list of two positive integers a and b representing the numerator and denominator of the first gear's radius in its simplest form in order to achieve the goal above, such that radius = a/b. The ratio a/b should be greater than or equal to 1. Not all support configurations will necessarily be capable of creating the proper rotation ratio, so if the task is impossible, the function solution(pegs) should return the list [-1, -1].\n",
    "\n",
    "For example, if the pegs are placed at [4, 30, 50], then the first gear could have a radius of 12, the second gear could have a radius of 14, and the last one a radius of 6. Thus, the last gear would rotate twice as fast as the first one. In this case, pegs would be [4, 30, 50] and solution(pegs) should return [12, 1].\n",
    "\n",
    "The list pegs will be given sorted in ascending order and will contain at least 2 and no more than 20 distinct positive integers, all between 1 and 10000 inclusive."
   ]
  },
  {
   "cell_type": "markdown",
   "id": "81826023",
   "metadata": {},
   "source": [
    "### Solution Idea:\n",
    " \n",
    " \n",
    "    Solves gear peg question by solving a linear equation of form:\n",
    "    Ar=p\n",
    "    and checks whether all elements in r >1\n",
    "    \n",
    "    [A] matrix represents system of equations\n",
    "    For example when 3 peg locations given \n",
    "    p=[p0, p1, p2] --. positions of pegs of gears\n",
    "    r: vector of radii of gear (in code np.array) with r[0] for fisrt gear\n",
    "    p'=[p1-p0, p2-p1, 0]\n",
    "    A=[ 1 1 0,\n",
    "        0 1 1,\n",
    "        1 0 -2]\n",
    "    \n",
    "    This models eq:\n",
    "    r0+r1=p1-p0\n",
    "    r1+r2=p2-p1\n",
    "    r0-2*r2=0\n",
    "    \n",
    "    last set of equation defined by constrain that final gear ratio is 2\n",
    "    \n",
    " "
   ]
  },
  {
   "cell_type": "code",
   "execution_count": 5,
   "id": "39dfe186",
   "metadata": {},
   "outputs": [],
   "source": [
    "from fractions import Fraction\n",
    "import numpy as np\n",
    "\n",
    "def solution(pegs):\n",
    "    \n",
    "    n=len(pegs) # For matrix size for solving gear constraints\n",
    "    \n",
    "    A=np.identity(n)+np.diag([1]*(n-1),1)\n",
    "    #setting the last row correctly as per eq r_0 -2*r_n=0\n",
    "    A[-1][0]=1\n",
    "    A[-1][-1]=-2\n",
    "    \n",
    "    #generate p' vectors\n",
    "    p_dash=np.diff(pegs)\n",
    "    p_dash=np.append(p_dash,0)\n",
    "    \n",
    "    #Creating r vector by solving lin eq\n",
    "    radii=np.linalg.solve(A,p_dash)\n",
    "    \n",
    "    #return radii\n",
    "    \n",
    "    #Check if any r<1 and return r0 accordingly\n",
    "    if np.sum([bool(r<1) for r in radii]) >0:\n",
    "        return [-1,-1]\n",
    "    else:\n",
    "        return [Fraction(radii[0]).limit_denominator().numerator,\\\n",
    "                Fraction(radii[0]).limit_denominator().denominator]\n",
    "    "
   ]
  },
  {
   "cell_type": "code",
   "execution_count": 6,
   "id": "39ba4e8d",
   "metadata": {},
   "outputs": [
    {
     "data": {
      "text/plain": [
       "[12, 1]"
      ]
     },
     "execution_count": 6,
     "metadata": {},
     "output_type": "execute_result"
    }
   ],
   "source": [
    "solution([4,30,50])"
   ]
  },
  {
   "cell_type": "markdown",
   "id": "fdb7c2dd",
   "metadata": {},
   "source": [
    "## Level 3: The Grandest Staircase Of Them All\n",
    "----\n",
    "\n",
    "\n",
    "With the LAMBCHOP doomsday device finished, Commander Lambda is preparing to debut on the galactic stage -- but in order to make a grand entrance, Lambda needs a grand staircase! As the Commander's personal assistant, you've been tasked with figuring out how to build the best staircase EVER. \n",
    "\n",
    "Lambda has given you an overview of the types of bricks available, plus a budget. You can buy different amounts of the different types of bricks (for example, 3 little pink bricks, or 5 blue lace bricks). Commander Lambda wants to know how many different types of staircases can be built with each amount of bricks, so they can pick the one with the most options. \n",
    "\n",
    "Each type of staircase should consist of 2 or more steps.  No two steps are allowed to be at the same height - each step must be lower than the previous one. All steps must contain at least one brick. A step's height is classified as the total amount of bricks that make up that step.\n",
    "For example, when N = 3, you have only 1 choice of how to build the staircase, with the first step having a height of 2 and the second step having a height of 1: (# indicates a brick)\n",
    "\n",
    "#\n",
    "##\n",
    "21\n",
    "\n",
    "When N = 4, you still only have 1 staircase choice:\n",
    "\n",
    "#\n",
    "#\n",
    "##\n",
    "31\n",
    " \n",
    "But when N = 5, there are two ways you can build a staircase from the given bricks. The two staircases can have heights (4, 1) or (3, 2), as shown below:\n",
    "\n",
    "#\n",
    "#\n",
    "#\n",
    "##\n",
    "41\n",
    "\n",
    "#\n",
    "##\n",
    "##\n",
    "32\n",
    "\n",
    "Write a function called solution(n) that takes a positive integer n and returns the number of different staircases that can be built from exactly n bricks. n will always be at least 3 (so you can have a staircase at all), but no more than 200, because Commander Lambda's not made of money!\n",
    "\n",
    "\n",
    "\n",
    "### Test cases\n",
    "\n",
    "-- Python cases --\n",
    "Input:\n",
    "solution.solution(200)\n",
    "Output:\n",
    "    487067745\n",
    "\n",
    "Input:\n",
    "solution.solution(3)\n",
    "Output:\n",
    "    1\n"
   ]
  },
  {
   "cell_type": "markdown",
   "id": "6bf9d674",
   "metadata": {},
   "source": [
    "### Solution Ideas\n",
    "\n",
    "\n",
    "* The fundamental idea of solving this involves partition theoram: number of distinct partions of a number which is also equal to number of odd partitions. There are implementations availble which count odd partitions which one could explore.\n",
    "\n",
    "The solution I wrote is based on stack-overflow answer: https://stackoverflow.com/questions/66779188/solve-google-foobar-staircase-problem-with-python\n",
    "\n",
    "* Let $S^N_k$ be the number of distinct partitions of N such that each of the summands is from 1 to k .\n",
    "* This follows the recurrence, $S^N_k = S^{N-k}_{k-1} + S^N_{k-1}$\n",
    "\n",
    ">Answer to the problem: $S^N_{N-1}$\n"
   ]
  },
  {
   "cell_type": "markdown",
   "id": "1d86196a",
   "metadata": {},
   "source": [
    "$S^8_i=0$ for i $\\in {1,2,3}$\n",
    "\n",
    "$S^8_4= S^4_3+S^8_3$ now $S^4_3$ =1 since only one possible soln (3,1)\n",
    "\n",
    "$S^8_5=S^3_4+S^8_4$ and $S^8_4 =1, S^3_4=2$, so $S^8_5=3$\n",
    "\n",
    "$S^8_6=S^2_5+S^8_5=1+3=4$\n",
    "\n",
    "$S^8_7=S^1_6+S^8_6=1+4=5$"
   ]
  },
  {
   "cell_type": "code",
   "execution_count": 63,
   "id": "03317a00",
   "metadata": {},
   "outputs": [],
   "source": [
    "def solution(bricks):\n",
    "    if bricks<3:\n",
    "        return 0\n",
    "    Partitions= [1]+[0]*bricks\n",
    "    for i in range(1, bricks):  \n",
    "        for j in range(bricks, i-1, -1): \n",
    "            Partitions[j] += Partitions[j-i] \n",
    "            \n",
    "        #print(i, j, Partitions) # Comment this off   \n",
    "    return Partitions[bricks]"
   ]
  },
  {
   "cell_type": "code",
   "execution_count": 64,
   "id": "26508330",
   "metadata": {},
   "outputs": [
    {
     "data": {
      "text/plain": [
       "5"
      ]
     },
     "execution_count": 64,
     "metadata": {},
     "output_type": "execute_result"
    }
   ],
   "source": [
    "solution(8)"
   ]
  },
  {
   "cell_type": "code",
   "execution_count": 65,
   "id": "9f679460",
   "metadata": {},
   "outputs": [
    {
     "data": {
      "text/plain": [
       "487067745"
      ]
     },
     "execution_count": 65,
     "metadata": {},
     "output_type": "execute_result"
    }
   ],
   "source": [
    "solution(200)"
   ]
  },
  {
   "cell_type": "markdown",
   "id": "efab0c4e",
   "metadata": {},
   "source": [
    "## Level 3: Maze Bunny Problem\n",
    "\n",
    "-----\n",
    "\n",
    "You're awfully close to destroying the LAMBCHOP doomsday device and freeing Commander Lambda's bunny workers, but once they're free of the work duties the bunnies are going to need to escape Lambda's space station via the escape pods as quickly as possible. Unfortunately, the halls of the space station are a maze of corridors and dead ends that will be a deathtrap for the escaping bunnies. Fortunately, Commander Lambda has put you in charge of a remodeling project that will give you the opportunity to make things a little easier for the bunnies. Unfortunately (again), you can't just remove all obstacles between the bunnies and the escape pods - at most you can remove one wall per escape pod path, both to maintain structural integrity of the station and to avoid arousing Commander Lambda's suspicions.\n",
    "\n",
    "You have maps of parts of the space station, each starting at a work area exit and ending at the door to an escape pod. The map is represented as a matrix of 0s and 1s, where 0s are passable space and 1s are impassable walls. The door out of the station is at the top left (0,0) and the door into an escape pod is at the bottom right (w-1,h-1).\n",
    "\n",
    "Write a function solution(map) that generates the length of the shortest path from the station door to the escape pod, where you are allowed to remove one wall as part of your remodeling plans. The path length is the total number of nodes you pass through, counting both the entrance and exit nodes. The starting and ending positions are always passable (0). The map will always be solvable, though you may or may not need to remove a wall. The height and width of the map can be from 2 to 20. Moves can only be made in cardinal directions; no diagonal moves are allowed.\n",
    "Languages\n",
    "\n",
    "\n",
    "Your code should pass the following test cases. Note that it may also be run against hidden test cases not shown here.\n",
    "\n",
    "-- Python cases -- Input: solution.solution([[0, 1, 1, 0], [0, 0, 0, 1], [1, 1, 0, 0], [1, 1, 1, 0]]) Output: 7\n",
    "\n",
    "Input: solution.solution([[0, 0, 0, 0, 0, 0], [1, 1, 1, 1, 1, 0], [0, 0, 0, 0, 0, 0], [0, 1, 1, 1, 1, 1], [0, 1, 1, 1, 1, 1], [0, 0, 0, 0, 0, 0]]) Output: 11"
   ]
  },
  {
   "cell_type": "markdown",
   "id": "df78f4cd",
   "metadata": {},
   "source": [
    "### Solution Ideas\n",
    "\n",
    "To solve binary maze I used BFS to find a solution for a given grid and implemented it inside a loop whihc generated grid by converting one of 1-->0. \n"
   ]
  },
  {
   "cell_type": "code",
   "execution_count": 1,
   "id": "5e39e0f0",
   "metadata": {},
   "outputs": [],
   "source": [
    "from collections import deque\n",
    "from copy import deepcopy\n",
    "import numpy as np\n",
    "\n",
    "# Function to find the shortest path between\n",
    "def shortest_path(grid):\n",
    "     \n",
    "    rows=len(grid)\n",
    "    cols=len(grid[0])\n",
    "\n",
    "    #Check whether given cell(row,col) is valid\n",
    "    def isValid(row, col):\n",
    "        return (0<=row<rows and 0<=col<cols)\n",
    "    \n",
    "    #Initialise matrix to check visited posints\n",
    "    visited = np.array([[False]*cols]*rows)\n",
    "    visited[0][0] = True\n",
    "     \n",
    "    # Create a queue for BFS\n",
    "    q = deque()   \n",
    "    #Enqueue source cell with dist 0\n",
    "    q.append({(0,0):0})\n",
    "     \n",
    "    # Do a BFS starting from source cell\n",
    "    while q:\n",
    "        curr = q.popleft() # Dequeue the front cell\n",
    "        dist=curr.values()[0]\n",
    "        (x,y)=curr.keys()[0]\n",
    "        \n",
    "        #Check whether destination cell reached or not\n",
    "        if (x,y)==(rows-1,cols-1):\n",
    "            #print(np.matrix(grid),dist+1)\n",
    "            return dist+1\n",
    "         \n",
    "        # Otherwise enqueue its adjacent cells\n",
    "        adj_update=[(-1,0),(0,-1),(1,0),(0,1)]\n",
    "        for cell in adj_update:\n",
    "            row = x + cell[0]\n",
    "            col = y + cell[1]\n",
    "            \n",
    "            if (isValid(row,col) and\n",
    "                grid[row][col] == 0 \n",
    "                and not visited[row][col]):\n",
    "\n",
    "                visited[row][col] = True # Mark visited Row\n",
    "                q.append({(row,col):dist+1})            \n",
    "    # Return -1 if destination cannot be reached\n",
    "\n",
    "    return -1\n",
    "\n",
    "def solution(grid):\n",
    "    width = len(grid[0])\n",
    "    height = len(grid)\n",
    "    ones = [(y,x) for x in range(width) for y in range(height) if grid[y][x] == 1]\n",
    "    min_length = float('inf')\n",
    "    for x,y in ones:\n",
    "        newgrid = deepcopy(grid)\n",
    "        newgrid[x][y] = 0\n",
    "        if min_length==width+height-1:\n",
    "            break\n",
    "        else:\n",
    "            path=shortest_path(newgrid)\n",
    "            if path>0:\n",
    "                min_length = min(min_length, path)\n",
    "    return min_length"
   ]
  },
  {
   "cell_type": "code",
   "execution_count": 2,
   "id": "edc4bd40",
   "metadata": {},
   "outputs": [
    {
     "data": {
      "text/plain": [
       "11"
      ]
     },
     "execution_count": 2,
     "metadata": {},
     "output_type": "execute_result"
    }
   ],
   "source": [
    "solution([[0, 0, 0, 0, 0, 0], [1, 1, 1, 1, 1, 0], [0, 0, 0, 0, 0, 0], [0, 1, 1, 1, 1, 1], [0, 1, 1, 1, 1, 1], [0, 0, 0, 0, 0, 0]])"
   ]
  },
  {
   "cell_type": "markdown",
   "id": "715cfb99",
   "metadata": {},
   "source": [
    "## Level 3: Doomsday Fuel\n",
    "\n",
    "--------\n",
    "\n",
    "Making fuel for the LAMBCHOP's reactor core is a tricky process because of the exotic matter involved. It starts as raw ore, then during processing, begins randomly changing between forms, eventually reaching a stable form. There may be multiple stable forms that a sample could ultimately reach, not all of which are useful as fuel. \n",
    "\n",
    "Commander Lambda has tasked you to help the scientists increase fuel creation efficiency by predicting the end state of a given ore sample. You have carefully studied the different structures that the ore can take and which transitions it undergoes. It appears that, while random, the probability of each structure transforming is fixed. That is, each time the ore is in 1 state, it has the same probabilities of entering the next state (which might be the same state).  You have recorded the observed transitions in a matrix. The others in the lab have hypothesized more exotic forms that the ore can become, but you haven't seen all of them.\n",
    "\n",
    "Write a function solution(m) that takes an array of array of nonnegative ints representing how many times that state has gone to the next state and return an array of ints for each terminal state giving the exact probabilities of each terminal state, represented as the numerator for each state, then the denominator for all of them at the end and in simplest form. The matrix is at most 10 by 10. It is guaranteed that no matter which state the ore is in, there is a path from that state to a terminal state. That is, the processing will always eventually end in a stable state. The ore starts in state 0. The denominator will fit within a signed 32-bit integer during the calculation, as long as the fraction is simplified regularly. \n",
    "\n",
    "For example, consider the matrix m:\n",
    "[\n",
    "  [0,1,0,0,0,1],  # s0, the initial state, goes to s1 and s5 with equal probability\n",
    "  [4,0,0,3,2,0],  # s1 can become s0, s3, or s4, but with different probabilities\n",
    "  [0,0,0,0,0,0],  # s2 is terminal, and unreachable (never observed in practice)\n",
    "  [0,0,0,0,0,0],  # s3 is terminal\n",
    "  [0,0,0,0,0,0],  # s4 is terminal\n",
    "  [0,0,0,0,0,0],  # s5 is terminal\n",
    "]\n",
    "So, we can consider different paths to terminal states, such as:\n",
    "s0 -> s1 -> s3\n",
    "s0 -> s1 -> s0 -> s1 -> s0 -> s1 -> s4\n",
    "s0 -> s1 -> s0 -> s5\n",
    "Tracing the probabilities of each, we find that\n",
    "s2 has probability 0\n",
    "s3 has probability 3/14\n",
    "s4 has probability 1/7\n",
    "s5 has probability 9/14\n",
    "So, putting that together, and making a common denominator, gives an answer in the form of\n",
    "[s2.numerator, s3.numerator, s4.numerator, s5.numerator, denominator] which is\n",
    "[0, 3, 2, 9, 14].\n",
    "\n",
    "\n",
    "#### Test cases\n",
    "\n",
    "--------\n",
    "Your code should pass the following test cases.\n",
    "Note that it may also be run against hidden test cases not shown here.\n",
    "\n",
    "-- Python cases --\n",
    "Input:\n",
    "solution.solution([[0, 2, 1, 0, 0], [0, 0, 0, 3, 4], [0, 0, 0, 0, 0], [0, 0, 0, 0,0], [0, 0, 0, 0, 0]])\n",
    "Output:\n",
    "    [7, 6, 8, 21]\n",
    "\n",
    "Input:\n",
    "solution.solution([[0, 1, 0, 0, 0, 1], [4, 0, 0, 3, 2, 0], [0, 0, 0, 0, 0, 0], [0, 0, 0, 0, 0, 0], [0, 0, 0, 0, 0, 0], [0, 0, 0, 0, 0, 0]])\n",
    "Output:\n",
    "    [0, 3, 2, 9, 14]\n",
    "\n",
    "Use verify [file] to test your solution and see how it does. When you are finished editing your code, use submit [file] to submit your answer. If your solution passes the test cases, it will be removed from your home folder.\n",
    "\n",
    "\n",
    "-------\n",
    "\n",
    "### Solution Ideas\n",
    "\n",
    "\n",
    "Problem can be modelled using an absorbing markov chain.\n",
    "\n",
    "ref1: https://www.math.umd.edu/~immortal/MATH401/book/ch_absorbing_markov_chains.pdf\n",
    "\n",
    "ref2: https://www.youtube.com/watch?v=bTeKu7WdbT8\n"
   ]
  },
  {
   "cell_type": "code",
   "execution_count": 4,
   "id": "0a111011",
   "metadata": {},
   "outputs": [],
   "source": [
    "from fractions import Fraction\n",
    "import numpy as np\n",
    "\n",
    "#Generate Transition matrix from input\n",
    "def convert_to_prob(mat):\n",
    "    n=len(mat)\n",
    "    Pmat=np.zeros((n,n))\n",
    "    \n",
    "    for x in range(len(mat)):\n",
    "        if np.sum(mat[x])>0:\n",
    "            Pmat[x]=np.array(mat[x])/float(np.sum(mat[x]))\n",
    "        else:\n",
    "            Pmat[x][x]=1.0\n",
    "    #Result=[[Fraction(Pmat[x,y]).limit_denominator() for y in range(n)] for x in range(n)]\n",
    "    return Pmat\n",
    "\n",
    "#Calculates FR matrix of abs. markov chain which gives result\n",
    "#R holds prob trans->terminal\n",
    "#Q matrix hold prob trans state -> trans state\n",
    "#FR=R*Inv(I-Q)\n",
    "def solution(inp1):\n",
    "    T=convert_to_prob(inp1)\n",
    "    \n",
    "    #Terminal state if diag value ==1\n",
    "    terminal_index=[x for x in range(len(T)) \\\n",
    "                    if T[x][x]==1]\n",
    "    transition_index=[x for x in range(len(T)) \\\n",
    "                      if x not in terminal_index]\n",
    "\n",
    "    R=T[np.ix_(transition_index,terminal_index)]\n",
    "    Q=T[np.ix_(transition_index,transition_index)]\n",
    "\n",
    "    #Check if initial state is not the only terminal st.\n",
    "\n",
    "    if T[0][0]==1:\n",
    "            result=[1]\n",
    "            for x in range(len(terminal_index)-1):\n",
    "                result.append(0)\n",
    "            result.append(1)\n",
    "            return result\n",
    "            \n",
    "    else:\n",
    "        FR= np.matmul(np.linalg.inv(np.eye(len(Q))-Q), R)\n",
    "        \n",
    "    numerators=[Fraction(FR[0][x]).limit_denominator().numerator \\\n",
    "                for x in range(len(FR[0]))]\n",
    "    denominators=[Fraction(FR[0][x]).limit_denominator().denominator \\\n",
    "                  for x in range(len(FR[0]))]\n",
    "    lcm=np.lcm.reduce(denominators)\n",
    "    result=[lcm*numerators[x]/denominators[x] \\\n",
    "            for x in range(len(numerators))]\n",
    "    result.append(lcm)\n",
    "    return result  \n",
    "    "
   ]
  },
  {
   "cell_type": "code",
   "execution_count": 5,
   "id": "6c83882e",
   "metadata": {},
   "outputs": [
    {
     "data": {
      "text/plain": [
       "[4, 5, 5, 4, 2, 20]"
      ]
     },
     "execution_count": 5,
     "metadata": {},
     "output_type": "execute_result"
    }
   ],
   "source": [
    "solution([\n",
    "[0, 7, 0, 17, 0, 1, 0, 5, 0, 2],\n",
    "[0, 0, 29, 0, 28, 0, 3, 0, 16, 0],\n",
    "[0, 3, 0, 0, 0, 1, 0, 0, 0, 0],\n",
    "[48, 0, 3, 0, 0, 0, 17, 0, 0, 0],\n",
    "[0, 6, 0, 0, 0, 1, 0, 0, 0, 0],\n",
    "[0, 0, 0, 0, 0, 0, 0, 0, 0, 0],\n",
    "[0, 0, 0, 0, 0, 0, 0, 0, 0, 0],\n",
    "[0, 0, 0, 0, 0, 0, 0, 0, 0, 0],\n",
    "[0, 0, 0, 0, 0, 0, 0, 0, 0, 0],\n",
    "[0, 0, 0, 0, 0, 0, 0, 0, 0, 0]])"
   ]
  },
  {
   "cell_type": "markdown",
   "id": "19b87b88",
   "metadata": {},
   "source": [
    "## Level 4 Problem 1: Bringing a Gun to a Trainer Fight\n",
    "\n",
    "Uh-oh -- you've been cornered by one of Commander Lambdas elite bunny trainers! Fortunately, you grabbed a beam weapon from an abandoned storeroom while you were running through the station, so you have a chance to fight your way out. But the beam weapon is potentially dangerous to you as well as to the bunny trainers: its beams reflect off walls, meaning you'll have to be very careful where you shoot to avoid bouncing a shot toward yourself!\n",
    "\n",
    "Luckily, the beams can only travel a certain maximum distance before becoming too weak to cause damage. You also know that if a beam hits a corner, it will bounce back in exactly the same direction. And of course, if the beam hits either you or the bunny trainer, it will stop immediately (albeit painfully).\n",
    "\n",
    "Write a function solution(dimensions, your_position, trainer_position, distance) that gives an array of 2 integers of the width and height of the room, an array of 2 integers of your x and y coordinates in the room, an array of 2 integers of the trainer's x and y coordinates in the room, and returns an integer of the number of distinct directions that you can fire to hit the elite trainer, given the maximum distance that the beam can travel.\n",
    "\n",
    "The room has integer dimensions [1 < x_dim <= 1250, 1 < y_dim <= 1250]. You and the elite trainer are both positioned on the integer lattice at different distinct positions (x, y) inside the room such that [0 < x < x_dim, 0 < y < y_dim]. Finally, the maximum distance that the beam can travel before becoming harmless will be given as an integer 1 < distance <= 10000.\n",
    "\n",
    "For example, if you and the elite trainer were positioned in a room with dimensions [3, 2], your_position [1, 1], trainer_position [2, 1], and a maximum shot distance of 4, you could shoot in seven different directions to hit the elite trainer (given as vector bearings from your location): [1, 0], [1, 2], [1, -2], [3, 2], [3, -2], [-3, 2], and [-3, -2]. As specific examples, the shot at bearing [1, 0] is the straight line horizontal shot of distance 1, the shot at bearing [-3, -2] bounces off the left wall and then the bottom wall before hitting the elite trainer with a total shot distance of sqrt(13), and the shot at bearing [1, 2] bounces off just the top wall before hitting the elite trainer with a total shot distance of sqrt(5).\n",
    "Languages\n",
    "\n",
    "\n",
    "-- Python cases -- Input: solution.solution([3,2], [1,1], [2,1], 4) Output: 7\n",
    "\n",
    "Input: solution.solution([300,275], [150,150], [185,100], 500) Output: 9\n"
   ]
  },
  {
   "cell_type": "markdown",
   "id": "863b11e4",
   "metadata": {},
   "source": [
    "### Solution Ideas\n",
    "\n",
    "Crux is to use mirror image of cells can check vaible trainer positions within laser radius. \n",
    "\n",
    "My solution shown here is largely for visualising the solution and uses plotly, pandas. The submitted code is modified version of the same. \n"
   ]
  },
  {
   "cell_type": "code",
   "execution_count": 10,
   "id": "b0dc4117",
   "metadata": {},
   "outputs": [],
   "source": [
    "import matplotlib.pyplot as plt\n",
    "import plotly.graph_objects as go\n",
    "import plotly.express as px\n",
    "\n",
    "import pandas as pd\n",
    "import numpy as np\n",
    "\n",
    "def mirror_pos_array2(pos, laser_range, room_coord):\n",
    "    \"\"\"\n",
    "    Params:\n",
    "    ----------\n",
    "    your_pos: x or y cord of position in room\n",
    "    laser_range: range of laser\n",
    "    room_coord: x or y coord of room\n",
    "    \n",
    "     ------- (room coord)\n",
    "    |       |\n",
    "    |       |\n",
    "     -------\n",
    "    (0,0)\n",
    "    \n",
    "    \"\"\"\n",
    "    curr_pos=[pos]\n",
    "    temp_pos=pos\n",
    "    d1_yp, d2_yp=pos-0, room_coord-pos\n",
    "    \n",
    "    while temp_pos<=curr_pos[0]+laser_range:\n",
    "        curr_pos.append(temp_pos+2*d2_yp)\n",
    "        temp_pos+=2*d2_yp\n",
    "        curr_pos.append(temp_pos+2*d1_yp)\n",
    "        temp_pos+=2*d1_yp\n",
    "        \n",
    "    temp_pos=pos\n",
    "    while temp_pos>=curr_pos[0]-laser_range: \n",
    "        curr_pos.append(temp_pos-2*d1_yp)\n",
    "        temp_pos-=2*d1_yp\n",
    "        curr_pos.append(temp_pos-2*d2_yp)\n",
    "        temp_pos-=2*d2_yp\n",
    "    curr_pos.sort()\n",
    "    return curr_pos\n",
    "\n",
    "\n",
    "#Generate x, y cord reflected positions\n",
    "def mirror_pos2(x_arr, y_arr, your_pos, laser_range):\n",
    "    \n",
    "    x_pos=np.array(x_arr*len(y_arr))\n",
    "    y_pos=np.array([[y_arr[i]]*len(x_arr) for i in range(len(y_arr))])\n",
    "    y_pos=y_pos.flatten()\n",
    "    df=pd.DataFrame({'x': x_pos, 'y':y_pos})\n",
    "    df[\"x-x0\"]=df[\"x\"]-your_pos[0]\n",
    "    df[\"y-y0\"]=df[\"y\"]-your_pos[1]\n",
    "    df[\"Angle\"]=np.arctan2(df[\"y-y0\"],df[\"x-x0\"])\n",
    "    df[\"dist\"]=np.sqrt((df[\"y-y0\"])**2+(df[\"x-x0\"])**2)\n",
    "    df.sort_values(by=[\"dist\"],inplace=True)\n",
    "    df.drop_duplicates(subset=[\"Angle\"],inplace=True )\n",
    "    mask_range=df[\"dist\"]<=laser_range\n",
    "    \n",
    "    return df[mask_range].reset_index(drop=True)\n"
   ]
  },
  {
   "cell_type": "code",
   "execution_count": 11,
   "id": "3432b235",
   "metadata": {},
   "outputs": [],
   "source": [
    "def result_plot(room_size, your_pos, trainer_pos, laser_range):\n",
    "    your_X=mirror_pos_array2(your_pos[0], laser_range, room_size[0])\n",
    "    your_Y=mirror_pos_array2(your_pos[1], laser_range, room_size[1])\n",
    "\n",
    "    trainer_X=mirror_pos_array2(trainer_pos[0], laser_range, room_size[0])\n",
    "    trainer_Y=mirror_pos_array2(trainer_pos[1], laser_range, room_size[1])\n",
    "\n",
    "\n",
    "    your_pos_grid=mirror_pos2(your_X, your_Y,your_pos, laser_range)\n",
    "    your_pos_grid.drop([0],axis=0, inplace=True)\n",
    "    trainer_pos_grid=mirror_pos2(trainer_X, trainer_Y, your_pos, laser_range)\n",
    "\n",
    "    limit=int((1.5*laser_range)/min(room_size))\n",
    "    rect_x=[i*room_size[0] for i in range(-limit,limit+1)]\n",
    "    rect_y=[i*room_size[1] for i in range(-limit,limit+1)]\n",
    "    \n",
    "    angle_unique=[angle for angle in trainer_pos_grid[\"Angle\"].unique()\\\n",
    "                if angle not in your_pos_grid[\"Angle\"].unique()]\n",
    "    angle_comm=np.array([angle for angle in trainer_pos_grid[\"Angle\"].unique()\\\n",
    "                if angle in your_pos_grid[\"Angle\"].unique()])\n",
    "    \n",
    "    #Creating two of common angle and then compare them by dist\n",
    "    #if dist in trainer pos is less, it is added to angle_unique (sol)\n",
    "    df1=trainer_pos_grid[trainer_pos_grid[\"Angle\"].isin(angle_comm)]\n",
    "    \n",
    "    df2=your_pos_grid[your_pos_grid[\"Angle\"].isin(angle_comm)]\n",
    "    \n",
    "    df=pd.merge(df1,df2, on=\"Angle\", suffixes=[\"1\",\"2\"]).set_index(\"Angle\")\n",
    "    \n",
    "    angle_unique=np.append(angle_unique, df[df[\"dist1\"]<df[\"dist2\"]].index)\n",
    "\n",
    "    trainer_pos_grid=trainer_pos_grid[trainer_pos_grid[\"Angle\"].isin(angle_unique)].reset_index(drop=True)\n",
    "    \n",
    "    fig = go.Figure()\n",
    "    fig.update_xaxes(range=[your_pos[0]-laser_range*1.2, your_pos[0]+1.2*laser_range], zeroline=False) ; \n",
    "    fig.update_yaxes(range=[your_pos[1]-laser_range*1.2, your_pos[1]+1.2*laser_range])\n",
    "    \n",
    "    for i in range(-limit,limit+1): \n",
    "        for j in range(-limit,limit+1):\n",
    "            fig.add_shape(type=\"rect\", x0=rect_x[i], y0=rect_y[j],x1=rect_x[i+1], y1=rect_y[j+1])\n",
    "    \n",
    "    #Plotting lines connecting your_pos and trainer_positions\n",
    "    for i in range(len(trainer_pos_grid)): \n",
    "            fig.add_shape(type=\"line\", x0=your_pos[0], y0=your_pos[1],\\\n",
    "                          x1=trainer_pos_grid['x'][i], y1=trainer_pos_grid['y'][i],\\\n",
    "                         line=dict(color=\"Green\",width=2))\n",
    "    \n",
    "    #PLotting reflected positions\n",
    "    fig.add_trace(go.Scatter(x=your_pos_grid['x'], y=your_pos_grid['y'],\\\n",
    "                             mode='markers', marker_color='red',name=\"your reflected pos\"))\n",
    "    fig.add_trace(go.Scatter(x=trainer_pos_grid['x'], y=trainer_pos_grid['y'],\\\n",
    "                             mode='markers', marker_color='blue',name=\"trainer reflected pos\"))\n",
    "    \n",
    "    #Adding range circle\n",
    "    fig.add_shape(type='circle', x0=your_pos[0]-laser_range, y0=your_pos[1]-laser_range,\\\n",
    "                  x1=your_pos[0]+laser_range, y1=your_pos[1]+laser_range, \\\n",
    "                 line_color=\"LightSeaGreen\")\n",
    "    fig.add_trace(go.Scatter(x=[laser_range],y=[laser_range],\\\n",
    "                            mode=\"lines\",name=\"range circle\",line_color=\"LightSeaGreen\"))\n",
    "    fig.update_layout(width=800, height=800, title=\"Beam Directions\")\n",
    "    fig.show()"
   ]
  },
  {
   "cell_type": "code",
   "execution_count": 12,
   "id": "cade871c",
   "metadata": {},
   "outputs": [
    {
     "data": {
      "application/vnd.plotly.v1+json": {
       "config": {
        "plotlyServerURL": "https://plot.ly"
       },
       "data": [
        {
         "marker": {
          "color": "red"
         },
         "mode": "markers",
         "name": "your reflected pos",
         "type": "scatter",
         "x": [
          -1,
          1,
          1,
          -1,
          -1
         ],
         "y": [
          1,
          -1,
          3,
          3,
          -1
         ]
        },
        {
         "marker": {
          "color": "blue"
         },
         "mode": "markers",
         "name": "trainer reflected pos",
         "type": "scatter",
         "x": [
          2,
          2,
          2,
          4,
          -2,
          4,
          -2
         ],
         "y": [
          1,
          3,
          -1,
          3,
          3,
          -1,
          -1
         ]
        },
        {
         "line": {
          "color": "LightSeaGreen"
         },
         "mode": "lines",
         "name": "range circle",
         "type": "scatter",
         "x": [
          4
         ],
         "y": [
          4
         ]
        }
       ],
       "layout": {
        "height": 800,
        "shapes": [
         {
          "type": "rect",
          "x0": 3,
          "x1": 6,
          "y0": 2,
          "y1": 4
         },
         {
          "type": "rect",
          "x0": 3,
          "x1": 6,
          "y0": 4,
          "y1": 6
         },
         {
          "type": "rect",
          "x0": 3,
          "x1": 6,
          "y0": 6,
          "y1": -6
         },
         {
          "type": "rect",
          "x0": 3,
          "x1": 6,
          "y0": -6,
          "y1": -4
         },
         {
          "type": "rect",
          "x0": 3,
          "x1": 6,
          "y0": -4,
          "y1": -2
         },
         {
          "type": "rect",
          "x0": 3,
          "x1": 6,
          "y0": -2,
          "y1": 0
         },
         {
          "type": "rect",
          "x0": 3,
          "x1": 6,
          "y0": 0,
          "y1": 2
         },
         {
          "type": "rect",
          "x0": 6,
          "x1": 9,
          "y0": 2,
          "y1": 4
         },
         {
          "type": "rect",
          "x0": 6,
          "x1": 9,
          "y0": 4,
          "y1": 6
         },
         {
          "type": "rect",
          "x0": 6,
          "x1": 9,
          "y0": 6,
          "y1": -6
         },
         {
          "type": "rect",
          "x0": 6,
          "x1": 9,
          "y0": -6,
          "y1": -4
         },
         {
          "type": "rect",
          "x0": 6,
          "x1": 9,
          "y0": -4,
          "y1": -2
         },
         {
          "type": "rect",
          "x0": 6,
          "x1": 9,
          "y0": -2,
          "y1": 0
         },
         {
          "type": "rect",
          "x0": 6,
          "x1": 9,
          "y0": 0,
          "y1": 2
         },
         {
          "type": "rect",
          "x0": 9,
          "x1": -9,
          "y0": 2,
          "y1": 4
         },
         {
          "type": "rect",
          "x0": 9,
          "x1": -9,
          "y0": 4,
          "y1": 6
         },
         {
          "type": "rect",
          "x0": 9,
          "x1": -9,
          "y0": 6,
          "y1": -6
         },
         {
          "type": "rect",
          "x0": 9,
          "x1": -9,
          "y0": -6,
          "y1": -4
         },
         {
          "type": "rect",
          "x0": 9,
          "x1": -9,
          "y0": -4,
          "y1": -2
         },
         {
          "type": "rect",
          "x0": 9,
          "x1": -9,
          "y0": -2,
          "y1": 0
         },
         {
          "type": "rect",
          "x0": 9,
          "x1": -9,
          "y0": 0,
          "y1": 2
         },
         {
          "type": "rect",
          "x0": -9,
          "x1": -6,
          "y0": 2,
          "y1": 4
         },
         {
          "type": "rect",
          "x0": -9,
          "x1": -6,
          "y0": 4,
          "y1": 6
         },
         {
          "type": "rect",
          "x0": -9,
          "x1": -6,
          "y0": 6,
          "y1": -6
         },
         {
          "type": "rect",
          "x0": -9,
          "x1": -6,
          "y0": -6,
          "y1": -4
         },
         {
          "type": "rect",
          "x0": -9,
          "x1": -6,
          "y0": -4,
          "y1": -2
         },
         {
          "type": "rect",
          "x0": -9,
          "x1": -6,
          "y0": -2,
          "y1": 0
         },
         {
          "type": "rect",
          "x0": -9,
          "x1": -6,
          "y0": 0,
          "y1": 2
         },
         {
          "type": "rect",
          "x0": -6,
          "x1": -3,
          "y0": 2,
          "y1": 4
         },
         {
          "type": "rect",
          "x0": -6,
          "x1": -3,
          "y0": 4,
          "y1": 6
         },
         {
          "type": "rect",
          "x0": -6,
          "x1": -3,
          "y0": 6,
          "y1": -6
         },
         {
          "type": "rect",
          "x0": -6,
          "x1": -3,
          "y0": -6,
          "y1": -4
         },
         {
          "type": "rect",
          "x0": -6,
          "x1": -3,
          "y0": -4,
          "y1": -2
         },
         {
          "type": "rect",
          "x0": -6,
          "x1": -3,
          "y0": -2,
          "y1": 0
         },
         {
          "type": "rect",
          "x0": -6,
          "x1": -3,
          "y0": 0,
          "y1": 2
         },
         {
          "type": "rect",
          "x0": -3,
          "x1": 0,
          "y0": 2,
          "y1": 4
         },
         {
          "type": "rect",
          "x0": -3,
          "x1": 0,
          "y0": 4,
          "y1": 6
         },
         {
          "type": "rect",
          "x0": -3,
          "x1": 0,
          "y0": 6,
          "y1": -6
         },
         {
          "type": "rect",
          "x0": -3,
          "x1": 0,
          "y0": -6,
          "y1": -4
         },
         {
          "type": "rect",
          "x0": -3,
          "x1": 0,
          "y0": -4,
          "y1": -2
         },
         {
          "type": "rect",
          "x0": -3,
          "x1": 0,
          "y0": -2,
          "y1": 0
         },
         {
          "type": "rect",
          "x0": -3,
          "x1": 0,
          "y0": 0,
          "y1": 2
         },
         {
          "type": "rect",
          "x0": 0,
          "x1": 3,
          "y0": 2,
          "y1": 4
         },
         {
          "type": "rect",
          "x0": 0,
          "x1": 3,
          "y0": 4,
          "y1": 6
         },
         {
          "type": "rect",
          "x0": 0,
          "x1": 3,
          "y0": 6,
          "y1": -6
         },
         {
          "type": "rect",
          "x0": 0,
          "x1": 3,
          "y0": -6,
          "y1": -4
         },
         {
          "type": "rect",
          "x0": 0,
          "x1": 3,
          "y0": -4,
          "y1": -2
         },
         {
          "type": "rect",
          "x0": 0,
          "x1": 3,
          "y0": -2,
          "y1": 0
         },
         {
          "type": "rect",
          "x0": 0,
          "x1": 3,
          "y0": 0,
          "y1": 2
         },
         {
          "line": {
           "color": "Green",
           "width": 2
          },
          "type": "line",
          "x0": 1,
          "x1": 2,
          "y0": 1,
          "y1": 1
         },
         {
          "line": {
           "color": "Green",
           "width": 2
          },
          "type": "line",
          "x0": 1,
          "x1": 2,
          "y0": 1,
          "y1": 3
         },
         {
          "line": {
           "color": "Green",
           "width": 2
          },
          "type": "line",
          "x0": 1,
          "x1": 2,
          "y0": 1,
          "y1": -1
         },
         {
          "line": {
           "color": "Green",
           "width": 2
          },
          "type": "line",
          "x0": 1,
          "x1": 4,
          "y0": 1,
          "y1": 3
         },
         {
          "line": {
           "color": "Green",
           "width": 2
          },
          "type": "line",
          "x0": 1,
          "x1": -2,
          "y0": 1,
          "y1": 3
         },
         {
          "line": {
           "color": "Green",
           "width": 2
          },
          "type": "line",
          "x0": 1,
          "x1": 4,
          "y0": 1,
          "y1": -1
         },
         {
          "line": {
           "color": "Green",
           "width": 2
          },
          "type": "line",
          "x0": 1,
          "x1": -2,
          "y0": 1,
          "y1": -1
         },
         {
          "line": {
           "color": "LightSeaGreen"
          },
          "type": "circle",
          "x0": -3,
          "x1": 5,
          "y0": -3,
          "y1": 5
         }
        ],
        "template": {
         "data": {
          "bar": [
           {
            "error_x": {
             "color": "#2a3f5f"
            },
            "error_y": {
             "color": "#2a3f5f"
            },
            "marker": {
             "line": {
              "color": "#E5ECF6",
              "width": 0.5
             }
            },
            "type": "bar"
           }
          ],
          "barpolar": [
           {
            "marker": {
             "line": {
              "color": "#E5ECF6",
              "width": 0.5
             }
            },
            "type": "barpolar"
           }
          ],
          "carpet": [
           {
            "aaxis": {
             "endlinecolor": "#2a3f5f",
             "gridcolor": "white",
             "linecolor": "white",
             "minorgridcolor": "white",
             "startlinecolor": "#2a3f5f"
            },
            "baxis": {
             "endlinecolor": "#2a3f5f",
             "gridcolor": "white",
             "linecolor": "white",
             "minorgridcolor": "white",
             "startlinecolor": "#2a3f5f"
            },
            "type": "carpet"
           }
          ],
          "choropleth": [
           {
            "colorbar": {
             "outlinewidth": 0,
             "ticks": ""
            },
            "type": "choropleth"
           }
          ],
          "contour": [
           {
            "colorbar": {
             "outlinewidth": 0,
             "ticks": ""
            },
            "colorscale": [
             [
              0,
              "#0d0887"
             ],
             [
              0.1111111111111111,
              "#46039f"
             ],
             [
              0.2222222222222222,
              "#7201a8"
             ],
             [
              0.3333333333333333,
              "#9c179e"
             ],
             [
              0.4444444444444444,
              "#bd3786"
             ],
             [
              0.5555555555555556,
              "#d8576b"
             ],
             [
              0.6666666666666666,
              "#ed7953"
             ],
             [
              0.7777777777777778,
              "#fb9f3a"
             ],
             [
              0.8888888888888888,
              "#fdca26"
             ],
             [
              1,
              "#f0f921"
             ]
            ],
            "type": "contour"
           }
          ],
          "contourcarpet": [
           {
            "colorbar": {
             "outlinewidth": 0,
             "ticks": ""
            },
            "type": "contourcarpet"
           }
          ],
          "heatmap": [
           {
            "colorbar": {
             "outlinewidth": 0,
             "ticks": ""
            },
            "colorscale": [
             [
              0,
              "#0d0887"
             ],
             [
              0.1111111111111111,
              "#46039f"
             ],
             [
              0.2222222222222222,
              "#7201a8"
             ],
             [
              0.3333333333333333,
              "#9c179e"
             ],
             [
              0.4444444444444444,
              "#bd3786"
             ],
             [
              0.5555555555555556,
              "#d8576b"
             ],
             [
              0.6666666666666666,
              "#ed7953"
             ],
             [
              0.7777777777777778,
              "#fb9f3a"
             ],
             [
              0.8888888888888888,
              "#fdca26"
             ],
             [
              1,
              "#f0f921"
             ]
            ],
            "type": "heatmap"
           }
          ],
          "heatmapgl": [
           {
            "colorbar": {
             "outlinewidth": 0,
             "ticks": ""
            },
            "colorscale": [
             [
              0,
              "#0d0887"
             ],
             [
              0.1111111111111111,
              "#46039f"
             ],
             [
              0.2222222222222222,
              "#7201a8"
             ],
             [
              0.3333333333333333,
              "#9c179e"
             ],
             [
              0.4444444444444444,
              "#bd3786"
             ],
             [
              0.5555555555555556,
              "#d8576b"
             ],
             [
              0.6666666666666666,
              "#ed7953"
             ],
             [
              0.7777777777777778,
              "#fb9f3a"
             ],
             [
              0.8888888888888888,
              "#fdca26"
             ],
             [
              1,
              "#f0f921"
             ]
            ],
            "type": "heatmapgl"
           }
          ],
          "histogram": [
           {
            "marker": {
             "colorbar": {
              "outlinewidth": 0,
              "ticks": ""
             }
            },
            "type": "histogram"
           }
          ],
          "histogram2d": [
           {
            "colorbar": {
             "outlinewidth": 0,
             "ticks": ""
            },
            "colorscale": [
             [
              0,
              "#0d0887"
             ],
             [
              0.1111111111111111,
              "#46039f"
             ],
             [
              0.2222222222222222,
              "#7201a8"
             ],
             [
              0.3333333333333333,
              "#9c179e"
             ],
             [
              0.4444444444444444,
              "#bd3786"
             ],
             [
              0.5555555555555556,
              "#d8576b"
             ],
             [
              0.6666666666666666,
              "#ed7953"
             ],
             [
              0.7777777777777778,
              "#fb9f3a"
             ],
             [
              0.8888888888888888,
              "#fdca26"
             ],
             [
              1,
              "#f0f921"
             ]
            ],
            "type": "histogram2d"
           }
          ],
          "histogram2dcontour": [
           {
            "colorbar": {
             "outlinewidth": 0,
             "ticks": ""
            },
            "colorscale": [
             [
              0,
              "#0d0887"
             ],
             [
              0.1111111111111111,
              "#46039f"
             ],
             [
              0.2222222222222222,
              "#7201a8"
             ],
             [
              0.3333333333333333,
              "#9c179e"
             ],
             [
              0.4444444444444444,
              "#bd3786"
             ],
             [
              0.5555555555555556,
              "#d8576b"
             ],
             [
              0.6666666666666666,
              "#ed7953"
             ],
             [
              0.7777777777777778,
              "#fb9f3a"
             ],
             [
              0.8888888888888888,
              "#fdca26"
             ],
             [
              1,
              "#f0f921"
             ]
            ],
            "type": "histogram2dcontour"
           }
          ],
          "mesh3d": [
           {
            "colorbar": {
             "outlinewidth": 0,
             "ticks": ""
            },
            "type": "mesh3d"
           }
          ],
          "parcoords": [
           {
            "line": {
             "colorbar": {
              "outlinewidth": 0,
              "ticks": ""
             }
            },
            "type": "parcoords"
           }
          ],
          "pie": [
           {
            "automargin": true,
            "type": "pie"
           }
          ],
          "scatter": [
           {
            "marker": {
             "colorbar": {
              "outlinewidth": 0,
              "ticks": ""
             }
            },
            "type": "scatter"
           }
          ],
          "scatter3d": [
           {
            "line": {
             "colorbar": {
              "outlinewidth": 0,
              "ticks": ""
             }
            },
            "marker": {
             "colorbar": {
              "outlinewidth": 0,
              "ticks": ""
             }
            },
            "type": "scatter3d"
           }
          ],
          "scattercarpet": [
           {
            "marker": {
             "colorbar": {
              "outlinewidth": 0,
              "ticks": ""
             }
            },
            "type": "scattercarpet"
           }
          ],
          "scattergeo": [
           {
            "marker": {
             "colorbar": {
              "outlinewidth": 0,
              "ticks": ""
             }
            },
            "type": "scattergeo"
           }
          ],
          "scattergl": [
           {
            "marker": {
             "colorbar": {
              "outlinewidth": 0,
              "ticks": ""
             }
            },
            "type": "scattergl"
           }
          ],
          "scattermapbox": [
           {
            "marker": {
             "colorbar": {
              "outlinewidth": 0,
              "ticks": ""
             }
            },
            "type": "scattermapbox"
           }
          ],
          "scatterpolar": [
           {
            "marker": {
             "colorbar": {
              "outlinewidth": 0,
              "ticks": ""
             }
            },
            "type": "scatterpolar"
           }
          ],
          "scatterpolargl": [
           {
            "marker": {
             "colorbar": {
              "outlinewidth": 0,
              "ticks": ""
             }
            },
            "type": "scatterpolargl"
           }
          ],
          "scatterternary": [
           {
            "marker": {
             "colorbar": {
              "outlinewidth": 0,
              "ticks": ""
             }
            },
            "type": "scatterternary"
           }
          ],
          "surface": [
           {
            "colorbar": {
             "outlinewidth": 0,
             "ticks": ""
            },
            "colorscale": [
             [
              0,
              "#0d0887"
             ],
             [
              0.1111111111111111,
              "#46039f"
             ],
             [
              0.2222222222222222,
              "#7201a8"
             ],
             [
              0.3333333333333333,
              "#9c179e"
             ],
             [
              0.4444444444444444,
              "#bd3786"
             ],
             [
              0.5555555555555556,
              "#d8576b"
             ],
             [
              0.6666666666666666,
              "#ed7953"
             ],
             [
              0.7777777777777778,
              "#fb9f3a"
             ],
             [
              0.8888888888888888,
              "#fdca26"
             ],
             [
              1,
              "#f0f921"
             ]
            ],
            "type": "surface"
           }
          ],
          "table": [
           {
            "cells": {
             "fill": {
              "color": "#EBF0F8"
             },
             "line": {
              "color": "white"
             }
            },
            "header": {
             "fill": {
              "color": "#C8D4E3"
             },
             "line": {
              "color": "white"
             }
            },
            "type": "table"
           }
          ]
         },
         "layout": {
          "annotationdefaults": {
           "arrowcolor": "#2a3f5f",
           "arrowhead": 0,
           "arrowwidth": 1
          },
          "autotypenumbers": "strict",
          "coloraxis": {
           "colorbar": {
            "outlinewidth": 0,
            "ticks": ""
           }
          },
          "colorscale": {
           "diverging": [
            [
             0,
             "#8e0152"
            ],
            [
             0.1,
             "#c51b7d"
            ],
            [
             0.2,
             "#de77ae"
            ],
            [
             0.3,
             "#f1b6da"
            ],
            [
             0.4,
             "#fde0ef"
            ],
            [
             0.5,
             "#f7f7f7"
            ],
            [
             0.6,
             "#e6f5d0"
            ],
            [
             0.7,
             "#b8e186"
            ],
            [
             0.8,
             "#7fbc41"
            ],
            [
             0.9,
             "#4d9221"
            ],
            [
             1,
             "#276419"
            ]
           ],
           "sequential": [
            [
             0,
             "#0d0887"
            ],
            [
             0.1111111111111111,
             "#46039f"
            ],
            [
             0.2222222222222222,
             "#7201a8"
            ],
            [
             0.3333333333333333,
             "#9c179e"
            ],
            [
             0.4444444444444444,
             "#bd3786"
            ],
            [
             0.5555555555555556,
             "#d8576b"
            ],
            [
             0.6666666666666666,
             "#ed7953"
            ],
            [
             0.7777777777777778,
             "#fb9f3a"
            ],
            [
             0.8888888888888888,
             "#fdca26"
            ],
            [
             1,
             "#f0f921"
            ]
           ],
           "sequentialminus": [
            [
             0,
             "#0d0887"
            ],
            [
             0.1111111111111111,
             "#46039f"
            ],
            [
             0.2222222222222222,
             "#7201a8"
            ],
            [
             0.3333333333333333,
             "#9c179e"
            ],
            [
             0.4444444444444444,
             "#bd3786"
            ],
            [
             0.5555555555555556,
             "#d8576b"
            ],
            [
             0.6666666666666666,
             "#ed7953"
            ],
            [
             0.7777777777777778,
             "#fb9f3a"
            ],
            [
             0.8888888888888888,
             "#fdca26"
            ],
            [
             1,
             "#f0f921"
            ]
           ]
          },
          "colorway": [
           "#636efa",
           "#EF553B",
           "#00cc96",
           "#ab63fa",
           "#FFA15A",
           "#19d3f3",
           "#FF6692",
           "#B6E880",
           "#FF97FF",
           "#FECB52"
          ],
          "font": {
           "color": "#2a3f5f"
          },
          "geo": {
           "bgcolor": "white",
           "lakecolor": "white",
           "landcolor": "#E5ECF6",
           "showlakes": true,
           "showland": true,
           "subunitcolor": "white"
          },
          "hoverlabel": {
           "align": "left"
          },
          "hovermode": "closest",
          "mapbox": {
           "style": "light"
          },
          "paper_bgcolor": "white",
          "plot_bgcolor": "#E5ECF6",
          "polar": {
           "angularaxis": {
            "gridcolor": "white",
            "linecolor": "white",
            "ticks": ""
           },
           "bgcolor": "#E5ECF6",
           "radialaxis": {
            "gridcolor": "white",
            "linecolor": "white",
            "ticks": ""
           }
          },
          "scene": {
           "xaxis": {
            "backgroundcolor": "#E5ECF6",
            "gridcolor": "white",
            "gridwidth": 2,
            "linecolor": "white",
            "showbackground": true,
            "ticks": "",
            "zerolinecolor": "white"
           },
           "yaxis": {
            "backgroundcolor": "#E5ECF6",
            "gridcolor": "white",
            "gridwidth": 2,
            "linecolor": "white",
            "showbackground": true,
            "ticks": "",
            "zerolinecolor": "white"
           },
           "zaxis": {
            "backgroundcolor": "#E5ECF6",
            "gridcolor": "white",
            "gridwidth": 2,
            "linecolor": "white",
            "showbackground": true,
            "ticks": "",
            "zerolinecolor": "white"
           }
          },
          "shapedefaults": {
           "line": {
            "color": "#2a3f5f"
           }
          },
          "ternary": {
           "aaxis": {
            "gridcolor": "white",
            "linecolor": "white",
            "ticks": ""
           },
           "baxis": {
            "gridcolor": "white",
            "linecolor": "white",
            "ticks": ""
           },
           "bgcolor": "#E5ECF6",
           "caxis": {
            "gridcolor": "white",
            "linecolor": "white",
            "ticks": ""
           }
          },
          "title": {
           "x": 0.05
          },
          "xaxis": {
           "automargin": true,
           "gridcolor": "white",
           "linecolor": "white",
           "ticks": "",
           "title": {
            "standoff": 15
           },
           "zerolinecolor": "white",
           "zerolinewidth": 2
          },
          "yaxis": {
           "automargin": true,
           "gridcolor": "white",
           "linecolor": "white",
           "ticks": "",
           "title": {
            "standoff": 15
           },
           "zerolinecolor": "white",
           "zerolinewidth": 2
          }
         }
        },
        "title": {
         "text": "Beam Directions"
        },
        "width": 800,
        "xaxis": {
         "range": [
          -3.8,
          5.8
         ],
         "zeroline": false
        },
        "yaxis": {
         "range": [
          -3.8,
          5.8
         ]
        }
       }
      },
      "text/html": [
       "<div>                            <div id=\"b846cdf5-f89f-46e2-ae76-1af953b01c55\" class=\"plotly-graph-div\" style=\"height:800px; width:800px;\"></div>            <script type=\"text/javascript\">                require([\"plotly\"], function(Plotly) {                    window.PLOTLYENV=window.PLOTLYENV || {};                                    if (document.getElementById(\"b846cdf5-f89f-46e2-ae76-1af953b01c55\")) {                    Plotly.newPlot(                        \"b846cdf5-f89f-46e2-ae76-1af953b01c55\",                        [{\"marker\": {\"color\": \"red\"}, \"mode\": \"markers\", \"name\": \"your reflected pos\", \"type\": \"scatter\", \"x\": [-1, 1, 1, -1, -1], \"y\": [1, -1, 3, 3, -1]}, {\"marker\": {\"color\": \"blue\"}, \"mode\": \"markers\", \"name\": \"trainer reflected pos\", \"type\": \"scatter\", \"x\": [2, 2, 2, 4, -2, 4, -2], \"y\": [1, 3, -1, 3, 3, -1, -1]}, {\"line\": {\"color\": \"LightSeaGreen\"}, \"mode\": \"lines\", \"name\": \"range circle\", \"type\": \"scatter\", \"x\": [4], \"y\": [4]}],                        {\"height\": 800, \"shapes\": [{\"type\": \"rect\", \"x0\": 3, \"x1\": 6, \"y0\": 2, \"y1\": 4}, {\"type\": \"rect\", \"x0\": 3, \"x1\": 6, \"y0\": 4, \"y1\": 6}, {\"type\": \"rect\", \"x0\": 3, \"x1\": 6, \"y0\": 6, \"y1\": -6}, {\"type\": \"rect\", \"x0\": 3, \"x1\": 6, \"y0\": -6, \"y1\": -4}, {\"type\": \"rect\", \"x0\": 3, \"x1\": 6, \"y0\": -4, \"y1\": -2}, {\"type\": \"rect\", \"x0\": 3, \"x1\": 6, \"y0\": -2, \"y1\": 0}, {\"type\": \"rect\", \"x0\": 3, \"x1\": 6, \"y0\": 0, \"y1\": 2}, {\"type\": \"rect\", \"x0\": 6, \"x1\": 9, \"y0\": 2, \"y1\": 4}, {\"type\": \"rect\", \"x0\": 6, \"x1\": 9, \"y0\": 4, \"y1\": 6}, {\"type\": \"rect\", \"x0\": 6, \"x1\": 9, \"y0\": 6, \"y1\": -6}, {\"type\": \"rect\", \"x0\": 6, \"x1\": 9, \"y0\": -6, \"y1\": -4}, {\"type\": \"rect\", \"x0\": 6, \"x1\": 9, \"y0\": -4, \"y1\": -2}, {\"type\": \"rect\", \"x0\": 6, \"x1\": 9, \"y0\": -2, \"y1\": 0}, {\"type\": \"rect\", \"x0\": 6, \"x1\": 9, \"y0\": 0, \"y1\": 2}, {\"type\": \"rect\", \"x0\": 9, \"x1\": -9, \"y0\": 2, \"y1\": 4}, {\"type\": \"rect\", \"x0\": 9, \"x1\": -9, \"y0\": 4, \"y1\": 6}, {\"type\": \"rect\", \"x0\": 9, \"x1\": -9, \"y0\": 6, \"y1\": -6}, {\"type\": \"rect\", \"x0\": 9, \"x1\": -9, \"y0\": -6, \"y1\": -4}, {\"type\": \"rect\", \"x0\": 9, \"x1\": -9, \"y0\": -4, \"y1\": -2}, {\"type\": \"rect\", \"x0\": 9, \"x1\": -9, \"y0\": -2, \"y1\": 0}, {\"type\": \"rect\", \"x0\": 9, \"x1\": -9, \"y0\": 0, \"y1\": 2}, {\"type\": \"rect\", \"x0\": -9, \"x1\": -6, \"y0\": 2, \"y1\": 4}, {\"type\": \"rect\", \"x0\": -9, \"x1\": -6, \"y0\": 4, \"y1\": 6}, {\"type\": \"rect\", \"x0\": -9, \"x1\": -6, \"y0\": 6, \"y1\": -6}, {\"type\": \"rect\", \"x0\": -9, \"x1\": -6, \"y0\": -6, \"y1\": -4}, {\"type\": \"rect\", \"x0\": -9, \"x1\": -6, \"y0\": -4, \"y1\": -2}, {\"type\": \"rect\", \"x0\": -9, \"x1\": -6, \"y0\": -2, \"y1\": 0}, {\"type\": \"rect\", \"x0\": -9, \"x1\": -6, \"y0\": 0, \"y1\": 2}, {\"type\": \"rect\", \"x0\": -6, \"x1\": -3, \"y0\": 2, \"y1\": 4}, {\"type\": \"rect\", \"x0\": -6, \"x1\": -3, \"y0\": 4, \"y1\": 6}, {\"type\": \"rect\", \"x0\": -6, \"x1\": -3, \"y0\": 6, \"y1\": -6}, {\"type\": \"rect\", \"x0\": -6, \"x1\": -3, \"y0\": -6, \"y1\": -4}, {\"type\": \"rect\", \"x0\": -6, \"x1\": -3, \"y0\": -4, \"y1\": -2}, {\"type\": \"rect\", \"x0\": -6, \"x1\": -3, \"y0\": -2, \"y1\": 0}, {\"type\": \"rect\", \"x0\": -6, \"x1\": -3, \"y0\": 0, \"y1\": 2}, {\"type\": \"rect\", \"x0\": -3, \"x1\": 0, \"y0\": 2, \"y1\": 4}, {\"type\": \"rect\", \"x0\": -3, \"x1\": 0, \"y0\": 4, \"y1\": 6}, {\"type\": \"rect\", \"x0\": -3, \"x1\": 0, \"y0\": 6, \"y1\": -6}, {\"type\": \"rect\", \"x0\": -3, \"x1\": 0, \"y0\": -6, \"y1\": -4}, {\"type\": \"rect\", \"x0\": -3, \"x1\": 0, \"y0\": -4, \"y1\": -2}, {\"type\": \"rect\", \"x0\": -3, \"x1\": 0, \"y0\": -2, \"y1\": 0}, {\"type\": \"rect\", \"x0\": -3, \"x1\": 0, \"y0\": 0, \"y1\": 2}, {\"type\": \"rect\", \"x0\": 0, \"x1\": 3, \"y0\": 2, \"y1\": 4}, {\"type\": \"rect\", \"x0\": 0, \"x1\": 3, \"y0\": 4, \"y1\": 6}, {\"type\": \"rect\", \"x0\": 0, \"x1\": 3, \"y0\": 6, \"y1\": -6}, {\"type\": \"rect\", \"x0\": 0, \"x1\": 3, \"y0\": -6, \"y1\": -4}, {\"type\": \"rect\", \"x0\": 0, \"x1\": 3, \"y0\": -4, \"y1\": -2}, {\"type\": \"rect\", \"x0\": 0, \"x1\": 3, \"y0\": -2, \"y1\": 0}, {\"type\": \"rect\", \"x0\": 0, \"x1\": 3, \"y0\": 0, \"y1\": 2}, {\"line\": {\"color\": \"Green\", \"width\": 2}, \"type\": \"line\", \"x0\": 1, \"x1\": 2, \"y0\": 1, \"y1\": 1}, {\"line\": {\"color\": \"Green\", \"width\": 2}, \"type\": \"line\", \"x0\": 1, \"x1\": 2, \"y0\": 1, \"y1\": 3}, {\"line\": {\"color\": \"Green\", \"width\": 2}, \"type\": \"line\", \"x0\": 1, \"x1\": 2, \"y0\": 1, \"y1\": -1}, {\"line\": {\"color\": \"Green\", \"width\": 2}, \"type\": \"line\", \"x0\": 1, \"x1\": 4, \"y0\": 1, \"y1\": 3}, {\"line\": {\"color\": \"Green\", \"width\": 2}, \"type\": \"line\", \"x0\": 1, \"x1\": -2, \"y0\": 1, \"y1\": 3}, {\"line\": {\"color\": \"Green\", \"width\": 2}, \"type\": \"line\", \"x0\": 1, \"x1\": 4, \"y0\": 1, \"y1\": -1}, {\"line\": {\"color\": \"Green\", \"width\": 2}, \"type\": \"line\", \"x0\": 1, \"x1\": -2, \"y0\": 1, \"y1\": -1}, {\"line\": {\"color\": \"LightSeaGreen\"}, \"type\": \"circle\", \"x0\": -3, \"x1\": 5, \"y0\": -3, \"y1\": 5}], \"template\": {\"data\": {\"bar\": [{\"error_x\": {\"color\": \"#2a3f5f\"}, \"error_y\": {\"color\": \"#2a3f5f\"}, \"marker\": {\"line\": {\"color\": \"#E5ECF6\", \"width\": 0.5}}, \"type\": \"bar\"}], \"barpolar\": [{\"marker\": {\"line\": {\"color\": \"#E5ECF6\", \"width\": 0.5}}, \"type\": \"barpolar\"}], \"carpet\": [{\"aaxis\": {\"endlinecolor\": \"#2a3f5f\", \"gridcolor\": \"white\", \"linecolor\": \"white\", \"minorgridcolor\": \"white\", \"startlinecolor\": \"#2a3f5f\"}, \"baxis\": {\"endlinecolor\": \"#2a3f5f\", \"gridcolor\": \"white\", \"linecolor\": \"white\", \"minorgridcolor\": \"white\", \"startlinecolor\": \"#2a3f5f\"}, \"type\": \"carpet\"}], \"choropleth\": [{\"colorbar\": {\"outlinewidth\": 0, \"ticks\": \"\"}, \"type\": \"choropleth\"}], \"contour\": [{\"colorbar\": {\"outlinewidth\": 0, \"ticks\": \"\"}, \"colorscale\": [[0.0, \"#0d0887\"], [0.1111111111111111, \"#46039f\"], [0.2222222222222222, \"#7201a8\"], [0.3333333333333333, \"#9c179e\"], [0.4444444444444444, \"#bd3786\"], [0.5555555555555556, \"#d8576b\"], [0.6666666666666666, \"#ed7953\"], [0.7777777777777778, \"#fb9f3a\"], [0.8888888888888888, \"#fdca26\"], [1.0, \"#f0f921\"]], \"type\": \"contour\"}], \"contourcarpet\": [{\"colorbar\": {\"outlinewidth\": 0, \"ticks\": \"\"}, \"type\": \"contourcarpet\"}], \"heatmap\": [{\"colorbar\": {\"outlinewidth\": 0, \"ticks\": \"\"}, \"colorscale\": [[0.0, \"#0d0887\"], [0.1111111111111111, \"#46039f\"], [0.2222222222222222, \"#7201a8\"], [0.3333333333333333, \"#9c179e\"], [0.4444444444444444, \"#bd3786\"], [0.5555555555555556, \"#d8576b\"], [0.6666666666666666, \"#ed7953\"], [0.7777777777777778, \"#fb9f3a\"], [0.8888888888888888, \"#fdca26\"], [1.0, \"#f0f921\"]], \"type\": \"heatmap\"}], \"heatmapgl\": [{\"colorbar\": {\"outlinewidth\": 0, \"ticks\": \"\"}, \"colorscale\": [[0.0, \"#0d0887\"], [0.1111111111111111, \"#46039f\"], [0.2222222222222222, \"#7201a8\"], [0.3333333333333333, \"#9c179e\"], [0.4444444444444444, \"#bd3786\"], [0.5555555555555556, \"#d8576b\"], [0.6666666666666666, \"#ed7953\"], [0.7777777777777778, \"#fb9f3a\"], [0.8888888888888888, \"#fdca26\"], [1.0, \"#f0f921\"]], \"type\": \"heatmapgl\"}], \"histogram\": [{\"marker\": {\"colorbar\": {\"outlinewidth\": 0, \"ticks\": \"\"}}, \"type\": \"histogram\"}], \"histogram2d\": [{\"colorbar\": {\"outlinewidth\": 0, \"ticks\": \"\"}, \"colorscale\": [[0.0, \"#0d0887\"], [0.1111111111111111, \"#46039f\"], [0.2222222222222222, \"#7201a8\"], [0.3333333333333333, \"#9c179e\"], [0.4444444444444444, \"#bd3786\"], [0.5555555555555556, \"#d8576b\"], [0.6666666666666666, \"#ed7953\"], [0.7777777777777778, \"#fb9f3a\"], [0.8888888888888888, \"#fdca26\"], [1.0, \"#f0f921\"]], \"type\": \"histogram2d\"}], \"histogram2dcontour\": [{\"colorbar\": {\"outlinewidth\": 0, \"ticks\": \"\"}, \"colorscale\": [[0.0, \"#0d0887\"], [0.1111111111111111, \"#46039f\"], [0.2222222222222222, \"#7201a8\"], [0.3333333333333333, \"#9c179e\"], [0.4444444444444444, \"#bd3786\"], [0.5555555555555556, \"#d8576b\"], [0.6666666666666666, \"#ed7953\"], [0.7777777777777778, \"#fb9f3a\"], [0.8888888888888888, \"#fdca26\"], [1.0, \"#f0f921\"]], \"type\": \"histogram2dcontour\"}], \"mesh3d\": [{\"colorbar\": {\"outlinewidth\": 0, \"ticks\": \"\"}, \"type\": \"mesh3d\"}], \"parcoords\": [{\"line\": {\"colorbar\": {\"outlinewidth\": 0, \"ticks\": \"\"}}, \"type\": \"parcoords\"}], \"pie\": [{\"automargin\": true, \"type\": \"pie\"}], \"scatter\": [{\"marker\": {\"colorbar\": {\"outlinewidth\": 0, \"ticks\": \"\"}}, \"type\": \"scatter\"}], \"scatter3d\": [{\"line\": {\"colorbar\": {\"outlinewidth\": 0, \"ticks\": \"\"}}, \"marker\": {\"colorbar\": {\"outlinewidth\": 0, \"ticks\": \"\"}}, \"type\": \"scatter3d\"}], \"scattercarpet\": [{\"marker\": {\"colorbar\": {\"outlinewidth\": 0, \"ticks\": \"\"}}, \"type\": \"scattercarpet\"}], \"scattergeo\": [{\"marker\": {\"colorbar\": {\"outlinewidth\": 0, \"ticks\": \"\"}}, \"type\": \"scattergeo\"}], \"scattergl\": [{\"marker\": {\"colorbar\": {\"outlinewidth\": 0, \"ticks\": \"\"}}, \"type\": \"scattergl\"}], \"scattermapbox\": [{\"marker\": {\"colorbar\": {\"outlinewidth\": 0, \"ticks\": \"\"}}, \"type\": \"scattermapbox\"}], \"scatterpolar\": [{\"marker\": {\"colorbar\": {\"outlinewidth\": 0, \"ticks\": \"\"}}, \"type\": \"scatterpolar\"}], \"scatterpolargl\": [{\"marker\": {\"colorbar\": {\"outlinewidth\": 0, \"ticks\": \"\"}}, \"type\": \"scatterpolargl\"}], \"scatterternary\": [{\"marker\": {\"colorbar\": {\"outlinewidth\": 0, \"ticks\": \"\"}}, \"type\": \"scatterternary\"}], \"surface\": [{\"colorbar\": {\"outlinewidth\": 0, \"ticks\": \"\"}, \"colorscale\": [[0.0, \"#0d0887\"], [0.1111111111111111, \"#46039f\"], [0.2222222222222222, \"#7201a8\"], [0.3333333333333333, \"#9c179e\"], [0.4444444444444444, \"#bd3786\"], [0.5555555555555556, \"#d8576b\"], [0.6666666666666666, \"#ed7953\"], [0.7777777777777778, \"#fb9f3a\"], [0.8888888888888888, \"#fdca26\"], [1.0, \"#f0f921\"]], \"type\": \"surface\"}], \"table\": [{\"cells\": {\"fill\": {\"color\": \"#EBF0F8\"}, \"line\": {\"color\": \"white\"}}, \"header\": {\"fill\": {\"color\": \"#C8D4E3\"}, \"line\": {\"color\": \"white\"}}, \"type\": \"table\"}]}, \"layout\": {\"annotationdefaults\": {\"arrowcolor\": \"#2a3f5f\", \"arrowhead\": 0, \"arrowwidth\": 1}, \"autotypenumbers\": \"strict\", \"coloraxis\": {\"colorbar\": {\"outlinewidth\": 0, \"ticks\": \"\"}}, \"colorscale\": {\"diverging\": [[0, \"#8e0152\"], [0.1, \"#c51b7d\"], [0.2, \"#de77ae\"], [0.3, \"#f1b6da\"], [0.4, \"#fde0ef\"], [0.5, \"#f7f7f7\"], [0.6, \"#e6f5d0\"], [0.7, \"#b8e186\"], [0.8, \"#7fbc41\"], [0.9, \"#4d9221\"], [1, \"#276419\"]], \"sequential\": [[0.0, \"#0d0887\"], [0.1111111111111111, \"#46039f\"], [0.2222222222222222, \"#7201a8\"], [0.3333333333333333, \"#9c179e\"], [0.4444444444444444, \"#bd3786\"], [0.5555555555555556, \"#d8576b\"], [0.6666666666666666, \"#ed7953\"], [0.7777777777777778, \"#fb9f3a\"], [0.8888888888888888, \"#fdca26\"], [1.0, \"#f0f921\"]], \"sequentialminus\": [[0.0, \"#0d0887\"], [0.1111111111111111, \"#46039f\"], [0.2222222222222222, \"#7201a8\"], [0.3333333333333333, \"#9c179e\"], [0.4444444444444444, \"#bd3786\"], [0.5555555555555556, \"#d8576b\"], [0.6666666666666666, \"#ed7953\"], [0.7777777777777778, \"#fb9f3a\"], [0.8888888888888888, \"#fdca26\"], [1.0, \"#f0f921\"]]}, \"colorway\": [\"#636efa\", \"#EF553B\", \"#00cc96\", \"#ab63fa\", \"#FFA15A\", \"#19d3f3\", \"#FF6692\", \"#B6E880\", \"#FF97FF\", \"#FECB52\"], \"font\": {\"color\": \"#2a3f5f\"}, \"geo\": {\"bgcolor\": \"white\", \"lakecolor\": \"white\", \"landcolor\": \"#E5ECF6\", \"showlakes\": true, \"showland\": true, \"subunitcolor\": \"white\"}, \"hoverlabel\": {\"align\": \"left\"}, \"hovermode\": \"closest\", \"mapbox\": {\"style\": \"light\"}, \"paper_bgcolor\": \"white\", \"plot_bgcolor\": \"#E5ECF6\", \"polar\": {\"angularaxis\": {\"gridcolor\": \"white\", \"linecolor\": \"white\", \"ticks\": \"\"}, \"bgcolor\": \"#E5ECF6\", \"radialaxis\": {\"gridcolor\": \"white\", \"linecolor\": \"white\", \"ticks\": \"\"}}, \"scene\": {\"xaxis\": {\"backgroundcolor\": \"#E5ECF6\", \"gridcolor\": \"white\", \"gridwidth\": 2, \"linecolor\": \"white\", \"showbackground\": true, \"ticks\": \"\", \"zerolinecolor\": \"white\"}, \"yaxis\": {\"backgroundcolor\": \"#E5ECF6\", \"gridcolor\": \"white\", \"gridwidth\": 2, \"linecolor\": \"white\", \"showbackground\": true, \"ticks\": \"\", \"zerolinecolor\": \"white\"}, \"zaxis\": {\"backgroundcolor\": \"#E5ECF6\", \"gridcolor\": \"white\", \"gridwidth\": 2, \"linecolor\": \"white\", \"showbackground\": true, \"ticks\": \"\", \"zerolinecolor\": \"white\"}}, \"shapedefaults\": {\"line\": {\"color\": \"#2a3f5f\"}}, \"ternary\": {\"aaxis\": {\"gridcolor\": \"white\", \"linecolor\": \"white\", \"ticks\": \"\"}, \"baxis\": {\"gridcolor\": \"white\", \"linecolor\": \"white\", \"ticks\": \"\"}, \"bgcolor\": \"#E5ECF6\", \"caxis\": {\"gridcolor\": \"white\", \"linecolor\": \"white\", \"ticks\": \"\"}}, \"title\": {\"x\": 0.05}, \"xaxis\": {\"automargin\": true, \"gridcolor\": \"white\", \"linecolor\": \"white\", \"ticks\": \"\", \"title\": {\"standoff\": 15}, \"zerolinecolor\": \"white\", \"zerolinewidth\": 2}, \"yaxis\": {\"automargin\": true, \"gridcolor\": \"white\", \"linecolor\": \"white\", \"ticks\": \"\", \"title\": {\"standoff\": 15}, \"zerolinecolor\": \"white\", \"zerolinewidth\": 2}}}, \"title\": {\"text\": \"Beam Directions\"}, \"width\": 800, \"xaxis\": {\"range\": [-3.8, 5.8], \"zeroline\": false}, \"yaxis\": {\"range\": [-3.8, 5.8]}},                        {\"responsive\": true}                    ).then(function(){\n",
       "                            \n",
       "var gd = document.getElementById('b846cdf5-f89f-46e2-ae76-1af953b01c55');\n",
       "var x = new MutationObserver(function (mutations, observer) {{\n",
       "        var display = window.getComputedStyle(gd).display;\n",
       "        if (!display || display === 'none') {{\n",
       "            console.log([gd, 'removed!']);\n",
       "            Plotly.purge(gd);\n",
       "            observer.disconnect();\n",
       "        }}\n",
       "}});\n",
       "\n",
       "// Listen for the removal of the full notebook cells\n",
       "var notebookContainer = gd.closest('#notebook-container');\n",
       "if (notebookContainer) {{\n",
       "    x.observe(notebookContainer, {childList: true});\n",
       "}}\n",
       "\n",
       "// Listen for the clearing of the current output cell\n",
       "var outputEl = gd.closest('.output');\n",
       "if (outputEl) {{\n",
       "    x.observe(outputEl, {childList: true});\n",
       "}}\n",
       "\n",
       "                        })                };                });            </script>        </div>"
      ]
     },
     "metadata": {},
     "output_type": "display_data"
    }
   ],
   "source": [
    "result_plot([3,2], [1,1], [2,1], 4)"
   ]
  },
  {
   "cell_type": "code",
   "execution_count": 15,
   "id": "9fab14e9",
   "metadata": {
    "scrolled": true
   },
   "outputs": [
    {
     "data": {
      "application/vnd.plotly.v1+json": {
       "config": {
        "plotlyServerURL": "https://plot.ly"
       },
       "data": [
        {
         "marker": {
          "color": "red"
         },
         "mode": "markers",
         "name": "your reflected pos",
         "type": "scatter",
         "x": [
          -1,
          1,
          3,
          -1,
          -3,
          5,
          1,
          3,
          -1,
          7,
          -3,
          -5,
          5,
          -5,
          7,
          9,
          -7,
          -7,
          9,
          3,
          -1,
          -1,
          3,
          -3,
          5,
          -3,
          11,
          -9,
          5
         ],
         "y": [
          2,
          -2,
          -2,
          -2,
          -2,
          -2,
          8,
          8,
          8,
          -2,
          8,
          -2,
          8,
          8,
          8,
          -2,
          -2,
          8,
          8,
          12,
          -8,
          12,
          -8,
          -8,
          -8,
          12,
          -2,
          -2,
          12
         ]
        },
        {
         "marker": {
          "color": "blue"
         },
         "mode": "markers",
         "name": "trainer reflected pos",
         "type": "scatter",
         "x": [
          1,
          -1,
          3,
          3,
          -1,
          -3,
          5,
          -1,
          3,
          7,
          -5,
          5,
          -3,
          -5,
          7,
          -1,
          9,
          3,
          -7,
          7,
          -5,
          9,
          -7,
          11,
          -9,
          -9,
          11
         ],
         "y": [
          4,
          4,
          4,
          6,
          6,
          4,
          4,
          -4,
          -4,
          4,
          4,
          -4,
          -4,
          6,
          6,
          -6,
          4,
          -6,
          4,
          -6,
          -6,
          -4,
          -4,
          4,
          4,
          6,
          6
         ]
        },
        {
         "line": {
          "color": "LightSeaGreen"
         },
         "mode": "lines",
         "name": "range circle",
         "type": "scatter",
         "x": [
          11
         ],
         "y": [
          11
         ]
        }
       ],
       "layout": {
        "height": 800,
        "shapes": [
         {
          "type": "rect",
          "x0": 2,
          "x1": 4,
          "y0": 5,
          "y1": 10
         },
         {
          "type": "rect",
          "x0": 2,
          "x1": 4,
          "y0": 10,
          "y1": 15
         },
         {
          "type": "rect",
          "x0": 2,
          "x1": 4,
          "y0": 15,
          "y1": 20
         },
         {
          "type": "rect",
          "x0": 2,
          "x1": 4,
          "y0": 20,
          "y1": 25
         },
         {
          "type": "rect",
          "x0": 2,
          "x1": 4,
          "y0": 25,
          "y1": 30
         },
         {
          "type": "rect",
          "x0": 2,
          "x1": 4,
          "y0": 30,
          "y1": 35
         },
         {
          "type": "rect",
          "x0": 2,
          "x1": 4,
          "y0": 35,
          "y1": 40
         },
         {
          "type": "rect",
          "x0": 2,
          "x1": 4,
          "y0": 40,
          "y1": -40
         },
         {
          "type": "rect",
          "x0": 2,
          "x1": 4,
          "y0": -40,
          "y1": -35
         },
         {
          "type": "rect",
          "x0": 2,
          "x1": 4,
          "y0": -35,
          "y1": -30
         },
         {
          "type": "rect",
          "x0": 2,
          "x1": 4,
          "y0": -30,
          "y1": -25
         },
         {
          "type": "rect",
          "x0": 2,
          "x1": 4,
          "y0": -25,
          "y1": -20
         },
         {
          "type": "rect",
          "x0": 2,
          "x1": 4,
          "y0": -20,
          "y1": -15
         },
         {
          "type": "rect",
          "x0": 2,
          "x1": 4,
          "y0": -15,
          "y1": -10
         },
         {
          "type": "rect",
          "x0": 2,
          "x1": 4,
          "y0": -10,
          "y1": -5
         },
         {
          "type": "rect",
          "x0": 2,
          "x1": 4,
          "y0": -5,
          "y1": 0
         },
         {
          "type": "rect",
          "x0": 2,
          "x1": 4,
          "y0": 0,
          "y1": 5
         },
         {
          "type": "rect",
          "x0": 4,
          "x1": 6,
          "y0": 5,
          "y1": 10
         },
         {
          "type": "rect",
          "x0": 4,
          "x1": 6,
          "y0": 10,
          "y1": 15
         },
         {
          "type": "rect",
          "x0": 4,
          "x1": 6,
          "y0": 15,
          "y1": 20
         },
         {
          "type": "rect",
          "x0": 4,
          "x1": 6,
          "y0": 20,
          "y1": 25
         },
         {
          "type": "rect",
          "x0": 4,
          "x1": 6,
          "y0": 25,
          "y1": 30
         },
         {
          "type": "rect",
          "x0": 4,
          "x1": 6,
          "y0": 30,
          "y1": 35
         },
         {
          "type": "rect",
          "x0": 4,
          "x1": 6,
          "y0": 35,
          "y1": 40
         },
         {
          "type": "rect",
          "x0": 4,
          "x1": 6,
          "y0": 40,
          "y1": -40
         },
         {
          "type": "rect",
          "x0": 4,
          "x1": 6,
          "y0": -40,
          "y1": -35
         },
         {
          "type": "rect",
          "x0": 4,
          "x1": 6,
          "y0": -35,
          "y1": -30
         },
         {
          "type": "rect",
          "x0": 4,
          "x1": 6,
          "y0": -30,
          "y1": -25
         },
         {
          "type": "rect",
          "x0": 4,
          "x1": 6,
          "y0": -25,
          "y1": -20
         },
         {
          "type": "rect",
          "x0": 4,
          "x1": 6,
          "y0": -20,
          "y1": -15
         },
         {
          "type": "rect",
          "x0": 4,
          "x1": 6,
          "y0": -15,
          "y1": -10
         },
         {
          "type": "rect",
          "x0": 4,
          "x1": 6,
          "y0": -10,
          "y1": -5
         },
         {
          "type": "rect",
          "x0": 4,
          "x1": 6,
          "y0": -5,
          "y1": 0
         },
         {
          "type": "rect",
          "x0": 4,
          "x1": 6,
          "y0": 0,
          "y1": 5
         },
         {
          "type": "rect",
          "x0": 6,
          "x1": 8,
          "y0": 5,
          "y1": 10
         },
         {
          "type": "rect",
          "x0": 6,
          "x1": 8,
          "y0": 10,
          "y1": 15
         },
         {
          "type": "rect",
          "x0": 6,
          "x1": 8,
          "y0": 15,
          "y1": 20
         },
         {
          "type": "rect",
          "x0": 6,
          "x1": 8,
          "y0": 20,
          "y1": 25
         },
         {
          "type": "rect",
          "x0": 6,
          "x1": 8,
          "y0": 25,
          "y1": 30
         },
         {
          "type": "rect",
          "x0": 6,
          "x1": 8,
          "y0": 30,
          "y1": 35
         },
         {
          "type": "rect",
          "x0": 6,
          "x1": 8,
          "y0": 35,
          "y1": 40
         },
         {
          "type": "rect",
          "x0": 6,
          "x1": 8,
          "y0": 40,
          "y1": -40
         },
         {
          "type": "rect",
          "x0": 6,
          "x1": 8,
          "y0": -40,
          "y1": -35
         },
         {
          "type": "rect",
          "x0": 6,
          "x1": 8,
          "y0": -35,
          "y1": -30
         },
         {
          "type": "rect",
          "x0": 6,
          "x1": 8,
          "y0": -30,
          "y1": -25
         },
         {
          "type": "rect",
          "x0": 6,
          "x1": 8,
          "y0": -25,
          "y1": -20
         },
         {
          "type": "rect",
          "x0": 6,
          "x1": 8,
          "y0": -20,
          "y1": -15
         },
         {
          "type": "rect",
          "x0": 6,
          "x1": 8,
          "y0": -15,
          "y1": -10
         },
         {
          "type": "rect",
          "x0": 6,
          "x1": 8,
          "y0": -10,
          "y1": -5
         },
         {
          "type": "rect",
          "x0": 6,
          "x1": 8,
          "y0": -5,
          "y1": 0
         },
         {
          "type": "rect",
          "x0": 6,
          "x1": 8,
          "y0": 0,
          "y1": 5
         },
         {
          "type": "rect",
          "x0": 8,
          "x1": 10,
          "y0": 5,
          "y1": 10
         },
         {
          "type": "rect",
          "x0": 8,
          "x1": 10,
          "y0": 10,
          "y1": 15
         },
         {
          "type": "rect",
          "x0": 8,
          "x1": 10,
          "y0": 15,
          "y1": 20
         },
         {
          "type": "rect",
          "x0": 8,
          "x1": 10,
          "y0": 20,
          "y1": 25
         },
         {
          "type": "rect",
          "x0": 8,
          "x1": 10,
          "y0": 25,
          "y1": 30
         },
         {
          "type": "rect",
          "x0": 8,
          "x1": 10,
          "y0": 30,
          "y1": 35
         },
         {
          "type": "rect",
          "x0": 8,
          "x1": 10,
          "y0": 35,
          "y1": 40
         },
         {
          "type": "rect",
          "x0": 8,
          "x1": 10,
          "y0": 40,
          "y1": -40
         },
         {
          "type": "rect",
          "x0": 8,
          "x1": 10,
          "y0": -40,
          "y1": -35
         },
         {
          "type": "rect",
          "x0": 8,
          "x1": 10,
          "y0": -35,
          "y1": -30
         },
         {
          "type": "rect",
          "x0": 8,
          "x1": 10,
          "y0": -30,
          "y1": -25
         },
         {
          "type": "rect",
          "x0": 8,
          "x1": 10,
          "y0": -25,
          "y1": -20
         },
         {
          "type": "rect",
          "x0": 8,
          "x1": 10,
          "y0": -20,
          "y1": -15
         },
         {
          "type": "rect",
          "x0": 8,
          "x1": 10,
          "y0": -15,
          "y1": -10
         },
         {
          "type": "rect",
          "x0": 8,
          "x1": 10,
          "y0": -10,
          "y1": -5
         },
         {
          "type": "rect",
          "x0": 8,
          "x1": 10,
          "y0": -5,
          "y1": 0
         },
         {
          "type": "rect",
          "x0": 8,
          "x1": 10,
          "y0": 0,
          "y1": 5
         },
         {
          "type": "rect",
          "x0": 10,
          "x1": 12,
          "y0": 5,
          "y1": 10
         },
         {
          "type": "rect",
          "x0": 10,
          "x1": 12,
          "y0": 10,
          "y1": 15
         },
         {
          "type": "rect",
          "x0": 10,
          "x1": 12,
          "y0": 15,
          "y1": 20
         },
         {
          "type": "rect",
          "x0": 10,
          "x1": 12,
          "y0": 20,
          "y1": 25
         },
         {
          "type": "rect",
          "x0": 10,
          "x1": 12,
          "y0": 25,
          "y1": 30
         },
         {
          "type": "rect",
          "x0": 10,
          "x1": 12,
          "y0": 30,
          "y1": 35
         },
         {
          "type": "rect",
          "x0": 10,
          "x1": 12,
          "y0": 35,
          "y1": 40
         },
         {
          "type": "rect",
          "x0": 10,
          "x1": 12,
          "y0": 40,
          "y1": -40
         },
         {
          "type": "rect",
          "x0": 10,
          "x1": 12,
          "y0": -40,
          "y1": -35
         },
         {
          "type": "rect",
          "x0": 10,
          "x1": 12,
          "y0": -35,
          "y1": -30
         },
         {
          "type": "rect",
          "x0": 10,
          "x1": 12,
          "y0": -30,
          "y1": -25
         },
         {
          "type": "rect",
          "x0": 10,
          "x1": 12,
          "y0": -25,
          "y1": -20
         },
         {
          "type": "rect",
          "x0": 10,
          "x1": 12,
          "y0": -20,
          "y1": -15
         },
         {
          "type": "rect",
          "x0": 10,
          "x1": 12,
          "y0": -15,
          "y1": -10
         },
         {
          "type": "rect",
          "x0": 10,
          "x1": 12,
          "y0": -10,
          "y1": -5
         },
         {
          "type": "rect",
          "x0": 10,
          "x1": 12,
          "y0": -5,
          "y1": 0
         },
         {
          "type": "rect",
          "x0": 10,
          "x1": 12,
          "y0": 0,
          "y1": 5
         },
         {
          "type": "rect",
          "x0": 12,
          "x1": 14,
          "y0": 5,
          "y1": 10
         },
         {
          "type": "rect",
          "x0": 12,
          "x1": 14,
          "y0": 10,
          "y1": 15
         },
         {
          "type": "rect",
          "x0": 12,
          "x1": 14,
          "y0": 15,
          "y1": 20
         },
         {
          "type": "rect",
          "x0": 12,
          "x1": 14,
          "y0": 20,
          "y1": 25
         },
         {
          "type": "rect",
          "x0": 12,
          "x1": 14,
          "y0": 25,
          "y1": 30
         },
         {
          "type": "rect",
          "x0": 12,
          "x1": 14,
          "y0": 30,
          "y1": 35
         },
         {
          "type": "rect",
          "x0": 12,
          "x1": 14,
          "y0": 35,
          "y1": 40
         },
         {
          "type": "rect",
          "x0": 12,
          "x1": 14,
          "y0": 40,
          "y1": -40
         },
         {
          "type": "rect",
          "x0": 12,
          "x1": 14,
          "y0": -40,
          "y1": -35
         },
         {
          "type": "rect",
          "x0": 12,
          "x1": 14,
          "y0": -35,
          "y1": -30
         },
         {
          "type": "rect",
          "x0": 12,
          "x1": 14,
          "y0": -30,
          "y1": -25
         },
         {
          "type": "rect",
          "x0": 12,
          "x1": 14,
          "y0": -25,
          "y1": -20
         },
         {
          "type": "rect",
          "x0": 12,
          "x1": 14,
          "y0": -20,
          "y1": -15
         },
         {
          "type": "rect",
          "x0": 12,
          "x1": 14,
          "y0": -15,
          "y1": -10
         },
         {
          "type": "rect",
          "x0": 12,
          "x1": 14,
          "y0": -10,
          "y1": -5
         },
         {
          "type": "rect",
          "x0": 12,
          "x1": 14,
          "y0": -5,
          "y1": 0
         },
         {
          "type": "rect",
          "x0": 12,
          "x1": 14,
          "y0": 0,
          "y1": 5
         },
         {
          "type": "rect",
          "x0": 14,
          "x1": 16,
          "y0": 5,
          "y1": 10
         },
         {
          "type": "rect",
          "x0": 14,
          "x1": 16,
          "y0": 10,
          "y1": 15
         },
         {
          "type": "rect",
          "x0": 14,
          "x1": 16,
          "y0": 15,
          "y1": 20
         },
         {
          "type": "rect",
          "x0": 14,
          "x1": 16,
          "y0": 20,
          "y1": 25
         },
         {
          "type": "rect",
          "x0": 14,
          "x1": 16,
          "y0": 25,
          "y1": 30
         },
         {
          "type": "rect",
          "x0": 14,
          "x1": 16,
          "y0": 30,
          "y1": 35
         },
         {
          "type": "rect",
          "x0": 14,
          "x1": 16,
          "y0": 35,
          "y1": 40
         },
         {
          "type": "rect",
          "x0": 14,
          "x1": 16,
          "y0": 40,
          "y1": -40
         },
         {
          "type": "rect",
          "x0": 14,
          "x1": 16,
          "y0": -40,
          "y1": -35
         },
         {
          "type": "rect",
          "x0": 14,
          "x1": 16,
          "y0": -35,
          "y1": -30
         },
         {
          "type": "rect",
          "x0": 14,
          "x1": 16,
          "y0": -30,
          "y1": -25
         },
         {
          "type": "rect",
          "x0": 14,
          "x1": 16,
          "y0": -25,
          "y1": -20
         },
         {
          "type": "rect",
          "x0": 14,
          "x1": 16,
          "y0": -20,
          "y1": -15
         },
         {
          "type": "rect",
          "x0": 14,
          "x1": 16,
          "y0": -15,
          "y1": -10
         },
         {
          "type": "rect",
          "x0": 14,
          "x1": 16,
          "y0": -10,
          "y1": -5
         },
         {
          "type": "rect",
          "x0": 14,
          "x1": 16,
          "y0": -5,
          "y1": 0
         },
         {
          "type": "rect",
          "x0": 14,
          "x1": 16,
          "y0": 0,
          "y1": 5
         },
         {
          "type": "rect",
          "x0": 16,
          "x1": -16,
          "y0": 5,
          "y1": 10
         },
         {
          "type": "rect",
          "x0": 16,
          "x1": -16,
          "y0": 10,
          "y1": 15
         },
         {
          "type": "rect",
          "x0": 16,
          "x1": -16,
          "y0": 15,
          "y1": 20
         },
         {
          "type": "rect",
          "x0": 16,
          "x1": -16,
          "y0": 20,
          "y1": 25
         },
         {
          "type": "rect",
          "x0": 16,
          "x1": -16,
          "y0": 25,
          "y1": 30
         },
         {
          "type": "rect",
          "x0": 16,
          "x1": -16,
          "y0": 30,
          "y1": 35
         },
         {
          "type": "rect",
          "x0": 16,
          "x1": -16,
          "y0": 35,
          "y1": 40
         },
         {
          "type": "rect",
          "x0": 16,
          "x1": -16,
          "y0": 40,
          "y1": -40
         },
         {
          "type": "rect",
          "x0": 16,
          "x1": -16,
          "y0": -40,
          "y1": -35
         },
         {
          "type": "rect",
          "x0": 16,
          "x1": -16,
          "y0": -35,
          "y1": -30
         },
         {
          "type": "rect",
          "x0": 16,
          "x1": -16,
          "y0": -30,
          "y1": -25
         },
         {
          "type": "rect",
          "x0": 16,
          "x1": -16,
          "y0": -25,
          "y1": -20
         },
         {
          "type": "rect",
          "x0": 16,
          "x1": -16,
          "y0": -20,
          "y1": -15
         },
         {
          "type": "rect",
          "x0": 16,
          "x1": -16,
          "y0": -15,
          "y1": -10
         },
         {
          "type": "rect",
          "x0": 16,
          "x1": -16,
          "y0": -10,
          "y1": -5
         },
         {
          "type": "rect",
          "x0": 16,
          "x1": -16,
          "y0": -5,
          "y1": 0
         },
         {
          "type": "rect",
          "x0": 16,
          "x1": -16,
          "y0": 0,
          "y1": 5
         },
         {
          "type": "rect",
          "x0": -16,
          "x1": -14,
          "y0": 5,
          "y1": 10
         },
         {
          "type": "rect",
          "x0": -16,
          "x1": -14,
          "y0": 10,
          "y1": 15
         },
         {
          "type": "rect",
          "x0": -16,
          "x1": -14,
          "y0": 15,
          "y1": 20
         },
         {
          "type": "rect",
          "x0": -16,
          "x1": -14,
          "y0": 20,
          "y1": 25
         },
         {
          "type": "rect",
          "x0": -16,
          "x1": -14,
          "y0": 25,
          "y1": 30
         },
         {
          "type": "rect",
          "x0": -16,
          "x1": -14,
          "y0": 30,
          "y1": 35
         },
         {
          "type": "rect",
          "x0": -16,
          "x1": -14,
          "y0": 35,
          "y1": 40
         },
         {
          "type": "rect",
          "x0": -16,
          "x1": -14,
          "y0": 40,
          "y1": -40
         },
         {
          "type": "rect",
          "x0": -16,
          "x1": -14,
          "y0": -40,
          "y1": -35
         },
         {
          "type": "rect",
          "x0": -16,
          "x1": -14,
          "y0": -35,
          "y1": -30
         },
         {
          "type": "rect",
          "x0": -16,
          "x1": -14,
          "y0": -30,
          "y1": -25
         },
         {
          "type": "rect",
          "x0": -16,
          "x1": -14,
          "y0": -25,
          "y1": -20
         },
         {
          "type": "rect",
          "x0": -16,
          "x1": -14,
          "y0": -20,
          "y1": -15
         },
         {
          "type": "rect",
          "x0": -16,
          "x1": -14,
          "y0": -15,
          "y1": -10
         },
         {
          "type": "rect",
          "x0": -16,
          "x1": -14,
          "y0": -10,
          "y1": -5
         },
         {
          "type": "rect",
          "x0": -16,
          "x1": -14,
          "y0": -5,
          "y1": 0
         },
         {
          "type": "rect",
          "x0": -16,
          "x1": -14,
          "y0": 0,
          "y1": 5
         },
         {
          "type": "rect",
          "x0": -14,
          "x1": -12,
          "y0": 5,
          "y1": 10
         },
         {
          "type": "rect",
          "x0": -14,
          "x1": -12,
          "y0": 10,
          "y1": 15
         },
         {
          "type": "rect",
          "x0": -14,
          "x1": -12,
          "y0": 15,
          "y1": 20
         },
         {
          "type": "rect",
          "x0": -14,
          "x1": -12,
          "y0": 20,
          "y1": 25
         },
         {
          "type": "rect",
          "x0": -14,
          "x1": -12,
          "y0": 25,
          "y1": 30
         },
         {
          "type": "rect",
          "x0": -14,
          "x1": -12,
          "y0": 30,
          "y1": 35
         },
         {
          "type": "rect",
          "x0": -14,
          "x1": -12,
          "y0": 35,
          "y1": 40
         },
         {
          "type": "rect",
          "x0": -14,
          "x1": -12,
          "y0": 40,
          "y1": -40
         },
         {
          "type": "rect",
          "x0": -14,
          "x1": -12,
          "y0": -40,
          "y1": -35
         },
         {
          "type": "rect",
          "x0": -14,
          "x1": -12,
          "y0": -35,
          "y1": -30
         },
         {
          "type": "rect",
          "x0": -14,
          "x1": -12,
          "y0": -30,
          "y1": -25
         },
         {
          "type": "rect",
          "x0": -14,
          "x1": -12,
          "y0": -25,
          "y1": -20
         },
         {
          "type": "rect",
          "x0": -14,
          "x1": -12,
          "y0": -20,
          "y1": -15
         },
         {
          "type": "rect",
          "x0": -14,
          "x1": -12,
          "y0": -15,
          "y1": -10
         },
         {
          "type": "rect",
          "x0": -14,
          "x1": -12,
          "y0": -10,
          "y1": -5
         },
         {
          "type": "rect",
          "x0": -14,
          "x1": -12,
          "y0": -5,
          "y1": 0
         },
         {
          "type": "rect",
          "x0": -14,
          "x1": -12,
          "y0": 0,
          "y1": 5
         },
         {
          "type": "rect",
          "x0": -12,
          "x1": -10,
          "y0": 5,
          "y1": 10
         },
         {
          "type": "rect",
          "x0": -12,
          "x1": -10,
          "y0": 10,
          "y1": 15
         },
         {
          "type": "rect",
          "x0": -12,
          "x1": -10,
          "y0": 15,
          "y1": 20
         },
         {
          "type": "rect",
          "x0": -12,
          "x1": -10,
          "y0": 20,
          "y1": 25
         },
         {
          "type": "rect",
          "x0": -12,
          "x1": -10,
          "y0": 25,
          "y1": 30
         },
         {
          "type": "rect",
          "x0": -12,
          "x1": -10,
          "y0": 30,
          "y1": 35
         },
         {
          "type": "rect",
          "x0": -12,
          "x1": -10,
          "y0": 35,
          "y1": 40
         },
         {
          "type": "rect",
          "x0": -12,
          "x1": -10,
          "y0": 40,
          "y1": -40
         },
         {
          "type": "rect",
          "x0": -12,
          "x1": -10,
          "y0": -40,
          "y1": -35
         },
         {
          "type": "rect",
          "x0": -12,
          "x1": -10,
          "y0": -35,
          "y1": -30
         },
         {
          "type": "rect",
          "x0": -12,
          "x1": -10,
          "y0": -30,
          "y1": -25
         },
         {
          "type": "rect",
          "x0": -12,
          "x1": -10,
          "y0": -25,
          "y1": -20
         },
         {
          "type": "rect",
          "x0": -12,
          "x1": -10,
          "y0": -20,
          "y1": -15
         },
         {
          "type": "rect",
          "x0": -12,
          "x1": -10,
          "y0": -15,
          "y1": -10
         },
         {
          "type": "rect",
          "x0": -12,
          "x1": -10,
          "y0": -10,
          "y1": -5
         },
         {
          "type": "rect",
          "x0": -12,
          "x1": -10,
          "y0": -5,
          "y1": 0
         },
         {
          "type": "rect",
          "x0": -12,
          "x1": -10,
          "y0": 0,
          "y1": 5
         },
         {
          "type": "rect",
          "x0": -10,
          "x1": -8,
          "y0": 5,
          "y1": 10
         },
         {
          "type": "rect",
          "x0": -10,
          "x1": -8,
          "y0": 10,
          "y1": 15
         },
         {
          "type": "rect",
          "x0": -10,
          "x1": -8,
          "y0": 15,
          "y1": 20
         },
         {
          "type": "rect",
          "x0": -10,
          "x1": -8,
          "y0": 20,
          "y1": 25
         },
         {
          "type": "rect",
          "x0": -10,
          "x1": -8,
          "y0": 25,
          "y1": 30
         },
         {
          "type": "rect",
          "x0": -10,
          "x1": -8,
          "y0": 30,
          "y1": 35
         },
         {
          "type": "rect",
          "x0": -10,
          "x1": -8,
          "y0": 35,
          "y1": 40
         },
         {
          "type": "rect",
          "x0": -10,
          "x1": -8,
          "y0": 40,
          "y1": -40
         },
         {
          "type": "rect",
          "x0": -10,
          "x1": -8,
          "y0": -40,
          "y1": -35
         },
         {
          "type": "rect",
          "x0": -10,
          "x1": -8,
          "y0": -35,
          "y1": -30
         },
         {
          "type": "rect",
          "x0": -10,
          "x1": -8,
          "y0": -30,
          "y1": -25
         },
         {
          "type": "rect",
          "x0": -10,
          "x1": -8,
          "y0": -25,
          "y1": -20
         },
         {
          "type": "rect",
          "x0": -10,
          "x1": -8,
          "y0": -20,
          "y1": -15
         },
         {
          "type": "rect",
          "x0": -10,
          "x1": -8,
          "y0": -15,
          "y1": -10
         },
         {
          "type": "rect",
          "x0": -10,
          "x1": -8,
          "y0": -10,
          "y1": -5
         },
         {
          "type": "rect",
          "x0": -10,
          "x1": -8,
          "y0": -5,
          "y1": 0
         },
         {
          "type": "rect",
          "x0": -10,
          "x1": -8,
          "y0": 0,
          "y1": 5
         },
         {
          "type": "rect",
          "x0": -8,
          "x1": -6,
          "y0": 5,
          "y1": 10
         },
         {
          "type": "rect",
          "x0": -8,
          "x1": -6,
          "y0": 10,
          "y1": 15
         },
         {
          "type": "rect",
          "x0": -8,
          "x1": -6,
          "y0": 15,
          "y1": 20
         },
         {
          "type": "rect",
          "x0": -8,
          "x1": -6,
          "y0": 20,
          "y1": 25
         },
         {
          "type": "rect",
          "x0": -8,
          "x1": -6,
          "y0": 25,
          "y1": 30
         },
         {
          "type": "rect",
          "x0": -8,
          "x1": -6,
          "y0": 30,
          "y1": 35
         },
         {
          "type": "rect",
          "x0": -8,
          "x1": -6,
          "y0": 35,
          "y1": 40
         },
         {
          "type": "rect",
          "x0": -8,
          "x1": -6,
          "y0": 40,
          "y1": -40
         },
         {
          "type": "rect",
          "x0": -8,
          "x1": -6,
          "y0": -40,
          "y1": -35
         },
         {
          "type": "rect",
          "x0": -8,
          "x1": -6,
          "y0": -35,
          "y1": -30
         },
         {
          "type": "rect",
          "x0": -8,
          "x1": -6,
          "y0": -30,
          "y1": -25
         },
         {
          "type": "rect",
          "x0": -8,
          "x1": -6,
          "y0": -25,
          "y1": -20
         },
         {
          "type": "rect",
          "x0": -8,
          "x1": -6,
          "y0": -20,
          "y1": -15
         },
         {
          "type": "rect",
          "x0": -8,
          "x1": -6,
          "y0": -15,
          "y1": -10
         },
         {
          "type": "rect",
          "x0": -8,
          "x1": -6,
          "y0": -10,
          "y1": -5
         },
         {
          "type": "rect",
          "x0": -8,
          "x1": -6,
          "y0": -5,
          "y1": 0
         },
         {
          "type": "rect",
          "x0": -8,
          "x1": -6,
          "y0": 0,
          "y1": 5
         },
         {
          "type": "rect",
          "x0": -6,
          "x1": -4,
          "y0": 5,
          "y1": 10
         },
         {
          "type": "rect",
          "x0": -6,
          "x1": -4,
          "y0": 10,
          "y1": 15
         },
         {
          "type": "rect",
          "x0": -6,
          "x1": -4,
          "y0": 15,
          "y1": 20
         },
         {
          "type": "rect",
          "x0": -6,
          "x1": -4,
          "y0": 20,
          "y1": 25
         },
         {
          "type": "rect",
          "x0": -6,
          "x1": -4,
          "y0": 25,
          "y1": 30
         },
         {
          "type": "rect",
          "x0": -6,
          "x1": -4,
          "y0": 30,
          "y1": 35
         },
         {
          "type": "rect",
          "x0": -6,
          "x1": -4,
          "y0": 35,
          "y1": 40
         },
         {
          "type": "rect",
          "x0": -6,
          "x1": -4,
          "y0": 40,
          "y1": -40
         },
         {
          "type": "rect",
          "x0": -6,
          "x1": -4,
          "y0": -40,
          "y1": -35
         },
         {
          "type": "rect",
          "x0": -6,
          "x1": -4,
          "y0": -35,
          "y1": -30
         },
         {
          "type": "rect",
          "x0": -6,
          "x1": -4,
          "y0": -30,
          "y1": -25
         },
         {
          "type": "rect",
          "x0": -6,
          "x1": -4,
          "y0": -25,
          "y1": -20
         },
         {
          "type": "rect",
          "x0": -6,
          "x1": -4,
          "y0": -20,
          "y1": -15
         },
         {
          "type": "rect",
          "x0": -6,
          "x1": -4,
          "y0": -15,
          "y1": -10
         },
         {
          "type": "rect",
          "x0": -6,
          "x1": -4,
          "y0": -10,
          "y1": -5
         },
         {
          "type": "rect",
          "x0": -6,
          "x1": -4,
          "y0": -5,
          "y1": 0
         },
         {
          "type": "rect",
          "x0": -6,
          "x1": -4,
          "y0": 0,
          "y1": 5
         },
         {
          "type": "rect",
          "x0": -4,
          "x1": -2,
          "y0": 5,
          "y1": 10
         },
         {
          "type": "rect",
          "x0": -4,
          "x1": -2,
          "y0": 10,
          "y1": 15
         },
         {
          "type": "rect",
          "x0": -4,
          "x1": -2,
          "y0": 15,
          "y1": 20
         },
         {
          "type": "rect",
          "x0": -4,
          "x1": -2,
          "y0": 20,
          "y1": 25
         },
         {
          "type": "rect",
          "x0": -4,
          "x1": -2,
          "y0": 25,
          "y1": 30
         },
         {
          "type": "rect",
          "x0": -4,
          "x1": -2,
          "y0": 30,
          "y1": 35
         },
         {
          "type": "rect",
          "x0": -4,
          "x1": -2,
          "y0": 35,
          "y1": 40
         },
         {
          "type": "rect",
          "x0": -4,
          "x1": -2,
          "y0": 40,
          "y1": -40
         },
         {
          "type": "rect",
          "x0": -4,
          "x1": -2,
          "y0": -40,
          "y1": -35
         },
         {
          "type": "rect",
          "x0": -4,
          "x1": -2,
          "y0": -35,
          "y1": -30
         },
         {
          "type": "rect",
          "x0": -4,
          "x1": -2,
          "y0": -30,
          "y1": -25
         },
         {
          "type": "rect",
          "x0": -4,
          "x1": -2,
          "y0": -25,
          "y1": -20
         },
         {
          "type": "rect",
          "x0": -4,
          "x1": -2,
          "y0": -20,
          "y1": -15
         },
         {
          "type": "rect",
          "x0": -4,
          "x1": -2,
          "y0": -15,
          "y1": -10
         },
         {
          "type": "rect",
          "x0": -4,
          "x1": -2,
          "y0": -10,
          "y1": -5
         },
         {
          "type": "rect",
          "x0": -4,
          "x1": -2,
          "y0": -5,
          "y1": 0
         },
         {
          "type": "rect",
          "x0": -4,
          "x1": -2,
          "y0": 0,
          "y1": 5
         },
         {
          "type": "rect",
          "x0": -2,
          "x1": 0,
          "y0": 5,
          "y1": 10
         },
         {
          "type": "rect",
          "x0": -2,
          "x1": 0,
          "y0": 10,
          "y1": 15
         },
         {
          "type": "rect",
          "x0": -2,
          "x1": 0,
          "y0": 15,
          "y1": 20
         },
         {
          "type": "rect",
          "x0": -2,
          "x1": 0,
          "y0": 20,
          "y1": 25
         },
         {
          "type": "rect",
          "x0": -2,
          "x1": 0,
          "y0": 25,
          "y1": 30
         },
         {
          "type": "rect",
          "x0": -2,
          "x1": 0,
          "y0": 30,
          "y1": 35
         },
         {
          "type": "rect",
          "x0": -2,
          "x1": 0,
          "y0": 35,
          "y1": 40
         },
         {
          "type": "rect",
          "x0": -2,
          "x1": 0,
          "y0": 40,
          "y1": -40
         },
         {
          "type": "rect",
          "x0": -2,
          "x1": 0,
          "y0": -40,
          "y1": -35
         },
         {
          "type": "rect",
          "x0": -2,
          "x1": 0,
          "y0": -35,
          "y1": -30
         },
         {
          "type": "rect",
          "x0": -2,
          "x1": 0,
          "y0": -30,
          "y1": -25
         },
         {
          "type": "rect",
          "x0": -2,
          "x1": 0,
          "y0": -25,
          "y1": -20
         },
         {
          "type": "rect",
          "x0": -2,
          "x1": 0,
          "y0": -20,
          "y1": -15
         },
         {
          "type": "rect",
          "x0": -2,
          "x1": 0,
          "y0": -15,
          "y1": -10
         },
         {
          "type": "rect",
          "x0": -2,
          "x1": 0,
          "y0": -10,
          "y1": -5
         },
         {
          "type": "rect",
          "x0": -2,
          "x1": 0,
          "y0": -5,
          "y1": 0
         },
         {
          "type": "rect",
          "x0": -2,
          "x1": 0,
          "y0": 0,
          "y1": 5
         },
         {
          "type": "rect",
          "x0": 0,
          "x1": 2,
          "y0": 5,
          "y1": 10
         },
         {
          "type": "rect",
          "x0": 0,
          "x1": 2,
          "y0": 10,
          "y1": 15
         },
         {
          "type": "rect",
          "x0": 0,
          "x1": 2,
          "y0": 15,
          "y1": 20
         },
         {
          "type": "rect",
          "x0": 0,
          "x1": 2,
          "y0": 20,
          "y1": 25
         },
         {
          "type": "rect",
          "x0": 0,
          "x1": 2,
          "y0": 25,
          "y1": 30
         },
         {
          "type": "rect",
          "x0": 0,
          "x1": 2,
          "y0": 30,
          "y1": 35
         },
         {
          "type": "rect",
          "x0": 0,
          "x1": 2,
          "y0": 35,
          "y1": 40
         },
         {
          "type": "rect",
          "x0": 0,
          "x1": 2,
          "y0": 40,
          "y1": -40
         },
         {
          "type": "rect",
          "x0": 0,
          "x1": 2,
          "y0": -40,
          "y1": -35
         },
         {
          "type": "rect",
          "x0": 0,
          "x1": 2,
          "y0": -35,
          "y1": -30
         },
         {
          "type": "rect",
          "x0": 0,
          "x1": 2,
          "y0": -30,
          "y1": -25
         },
         {
          "type": "rect",
          "x0": 0,
          "x1": 2,
          "y0": -25,
          "y1": -20
         },
         {
          "type": "rect",
          "x0": 0,
          "x1": 2,
          "y0": -20,
          "y1": -15
         },
         {
          "type": "rect",
          "x0": 0,
          "x1": 2,
          "y0": -15,
          "y1": -10
         },
         {
          "type": "rect",
          "x0": 0,
          "x1": 2,
          "y0": -10,
          "y1": -5
         },
         {
          "type": "rect",
          "x0": 0,
          "x1": 2,
          "y0": -5,
          "y1": 0
         },
         {
          "type": "rect",
          "x0": 0,
          "x1": 2,
          "y0": 0,
          "y1": 5
         },
         {
          "line": {
           "color": "Green",
           "width": 2
          },
          "type": "line",
          "x0": 1,
          "x1": 1,
          "y0": 2,
          "y1": 4
         },
         {
          "line": {
           "color": "Green",
           "width": 2
          },
          "type": "line",
          "x0": 1,
          "x1": -1,
          "y0": 2,
          "y1": 4
         },
         {
          "line": {
           "color": "Green",
           "width": 2
          },
          "type": "line",
          "x0": 1,
          "x1": 3,
          "y0": 2,
          "y1": 4
         },
         {
          "line": {
           "color": "Green",
           "width": 2
          },
          "type": "line",
          "x0": 1,
          "x1": 3,
          "y0": 2,
          "y1": 6
         },
         {
          "line": {
           "color": "Green",
           "width": 2
          },
          "type": "line",
          "x0": 1,
          "x1": -1,
          "y0": 2,
          "y1": 6
         },
         {
          "line": {
           "color": "Green",
           "width": 2
          },
          "type": "line",
          "x0": 1,
          "x1": -3,
          "y0": 2,
          "y1": 4
         },
         {
          "line": {
           "color": "Green",
           "width": 2
          },
          "type": "line",
          "x0": 1,
          "x1": 5,
          "y0": 2,
          "y1": 4
         },
         {
          "line": {
           "color": "Green",
           "width": 2
          },
          "type": "line",
          "x0": 1,
          "x1": -1,
          "y0": 2,
          "y1": -4
         },
         {
          "line": {
           "color": "Green",
           "width": 2
          },
          "type": "line",
          "x0": 1,
          "x1": 3,
          "y0": 2,
          "y1": -4
         },
         {
          "line": {
           "color": "Green",
           "width": 2
          },
          "type": "line",
          "x0": 1,
          "x1": 7,
          "y0": 2,
          "y1": 4
         },
         {
          "line": {
           "color": "Green",
           "width": 2
          },
          "type": "line",
          "x0": 1,
          "x1": -5,
          "y0": 2,
          "y1": 4
         },
         {
          "line": {
           "color": "Green",
           "width": 2
          },
          "type": "line",
          "x0": 1,
          "x1": 5,
          "y0": 2,
          "y1": -4
         },
         {
          "line": {
           "color": "Green",
           "width": 2
          },
          "type": "line",
          "x0": 1,
          "x1": -3,
          "y0": 2,
          "y1": -4
         },
         {
          "line": {
           "color": "Green",
           "width": 2
          },
          "type": "line",
          "x0": 1,
          "x1": -5,
          "y0": 2,
          "y1": 6
         },
         {
          "line": {
           "color": "Green",
           "width": 2
          },
          "type": "line",
          "x0": 1,
          "x1": 7,
          "y0": 2,
          "y1": 6
         },
         {
          "line": {
           "color": "Green",
           "width": 2
          },
          "type": "line",
          "x0": 1,
          "x1": -1,
          "y0": 2,
          "y1": -6
         },
         {
          "line": {
           "color": "Green",
           "width": 2
          },
          "type": "line",
          "x0": 1,
          "x1": 9,
          "y0": 2,
          "y1": 4
         },
         {
          "line": {
           "color": "Green",
           "width": 2
          },
          "type": "line",
          "x0": 1,
          "x1": 3,
          "y0": 2,
          "y1": -6
         },
         {
          "line": {
           "color": "Green",
           "width": 2
          },
          "type": "line",
          "x0": 1,
          "x1": -7,
          "y0": 2,
          "y1": 4
         },
         {
          "line": {
           "color": "Green",
           "width": 2
          },
          "type": "line",
          "x0": 1,
          "x1": 7,
          "y0": 2,
          "y1": -6
         },
         {
          "line": {
           "color": "Green",
           "width": 2
          },
          "type": "line",
          "x0": 1,
          "x1": -5,
          "y0": 2,
          "y1": -6
         },
         {
          "line": {
           "color": "Green",
           "width": 2
          },
          "type": "line",
          "x0": 1,
          "x1": 9,
          "y0": 2,
          "y1": -4
         },
         {
          "line": {
           "color": "Green",
           "width": 2
          },
          "type": "line",
          "x0": 1,
          "x1": -7,
          "y0": 2,
          "y1": -4
         },
         {
          "line": {
           "color": "Green",
           "width": 2
          },
          "type": "line",
          "x0": 1,
          "x1": 11,
          "y0": 2,
          "y1": 4
         },
         {
          "line": {
           "color": "Green",
           "width": 2
          },
          "type": "line",
          "x0": 1,
          "x1": -9,
          "y0": 2,
          "y1": 4
         },
         {
          "line": {
           "color": "Green",
           "width": 2
          },
          "type": "line",
          "x0": 1,
          "x1": -9,
          "y0": 2,
          "y1": 6
         },
         {
          "line": {
           "color": "Green",
           "width": 2
          },
          "type": "line",
          "x0": 1,
          "x1": 11,
          "y0": 2,
          "y1": 6
         },
         {
          "line": {
           "color": "LightSeaGreen"
          },
          "type": "circle",
          "x0": -10,
          "x1": 12,
          "y0": -9,
          "y1": 13
         }
        ],
        "template": {
         "data": {
          "bar": [
           {
            "error_x": {
             "color": "#2a3f5f"
            },
            "error_y": {
             "color": "#2a3f5f"
            },
            "marker": {
             "line": {
              "color": "#E5ECF6",
              "width": 0.5
             }
            },
            "type": "bar"
           }
          ],
          "barpolar": [
           {
            "marker": {
             "line": {
              "color": "#E5ECF6",
              "width": 0.5
             }
            },
            "type": "barpolar"
           }
          ],
          "carpet": [
           {
            "aaxis": {
             "endlinecolor": "#2a3f5f",
             "gridcolor": "white",
             "linecolor": "white",
             "minorgridcolor": "white",
             "startlinecolor": "#2a3f5f"
            },
            "baxis": {
             "endlinecolor": "#2a3f5f",
             "gridcolor": "white",
             "linecolor": "white",
             "minorgridcolor": "white",
             "startlinecolor": "#2a3f5f"
            },
            "type": "carpet"
           }
          ],
          "choropleth": [
           {
            "colorbar": {
             "outlinewidth": 0,
             "ticks": ""
            },
            "type": "choropleth"
           }
          ],
          "contour": [
           {
            "colorbar": {
             "outlinewidth": 0,
             "ticks": ""
            },
            "colorscale": [
             [
              0,
              "#0d0887"
             ],
             [
              0.1111111111111111,
              "#46039f"
             ],
             [
              0.2222222222222222,
              "#7201a8"
             ],
             [
              0.3333333333333333,
              "#9c179e"
             ],
             [
              0.4444444444444444,
              "#bd3786"
             ],
             [
              0.5555555555555556,
              "#d8576b"
             ],
             [
              0.6666666666666666,
              "#ed7953"
             ],
             [
              0.7777777777777778,
              "#fb9f3a"
             ],
             [
              0.8888888888888888,
              "#fdca26"
             ],
             [
              1,
              "#f0f921"
             ]
            ],
            "type": "contour"
           }
          ],
          "contourcarpet": [
           {
            "colorbar": {
             "outlinewidth": 0,
             "ticks": ""
            },
            "type": "contourcarpet"
           }
          ],
          "heatmap": [
           {
            "colorbar": {
             "outlinewidth": 0,
             "ticks": ""
            },
            "colorscale": [
             [
              0,
              "#0d0887"
             ],
             [
              0.1111111111111111,
              "#46039f"
             ],
             [
              0.2222222222222222,
              "#7201a8"
             ],
             [
              0.3333333333333333,
              "#9c179e"
             ],
             [
              0.4444444444444444,
              "#bd3786"
             ],
             [
              0.5555555555555556,
              "#d8576b"
             ],
             [
              0.6666666666666666,
              "#ed7953"
             ],
             [
              0.7777777777777778,
              "#fb9f3a"
             ],
             [
              0.8888888888888888,
              "#fdca26"
             ],
             [
              1,
              "#f0f921"
             ]
            ],
            "type": "heatmap"
           }
          ],
          "heatmapgl": [
           {
            "colorbar": {
             "outlinewidth": 0,
             "ticks": ""
            },
            "colorscale": [
             [
              0,
              "#0d0887"
             ],
             [
              0.1111111111111111,
              "#46039f"
             ],
             [
              0.2222222222222222,
              "#7201a8"
             ],
             [
              0.3333333333333333,
              "#9c179e"
             ],
             [
              0.4444444444444444,
              "#bd3786"
             ],
             [
              0.5555555555555556,
              "#d8576b"
             ],
             [
              0.6666666666666666,
              "#ed7953"
             ],
             [
              0.7777777777777778,
              "#fb9f3a"
             ],
             [
              0.8888888888888888,
              "#fdca26"
             ],
             [
              1,
              "#f0f921"
             ]
            ],
            "type": "heatmapgl"
           }
          ],
          "histogram": [
           {
            "marker": {
             "colorbar": {
              "outlinewidth": 0,
              "ticks": ""
             }
            },
            "type": "histogram"
           }
          ],
          "histogram2d": [
           {
            "colorbar": {
             "outlinewidth": 0,
             "ticks": ""
            },
            "colorscale": [
             [
              0,
              "#0d0887"
             ],
             [
              0.1111111111111111,
              "#46039f"
             ],
             [
              0.2222222222222222,
              "#7201a8"
             ],
             [
              0.3333333333333333,
              "#9c179e"
             ],
             [
              0.4444444444444444,
              "#bd3786"
             ],
             [
              0.5555555555555556,
              "#d8576b"
             ],
             [
              0.6666666666666666,
              "#ed7953"
             ],
             [
              0.7777777777777778,
              "#fb9f3a"
             ],
             [
              0.8888888888888888,
              "#fdca26"
             ],
             [
              1,
              "#f0f921"
             ]
            ],
            "type": "histogram2d"
           }
          ],
          "histogram2dcontour": [
           {
            "colorbar": {
             "outlinewidth": 0,
             "ticks": ""
            },
            "colorscale": [
             [
              0,
              "#0d0887"
             ],
             [
              0.1111111111111111,
              "#46039f"
             ],
             [
              0.2222222222222222,
              "#7201a8"
             ],
             [
              0.3333333333333333,
              "#9c179e"
             ],
             [
              0.4444444444444444,
              "#bd3786"
             ],
             [
              0.5555555555555556,
              "#d8576b"
             ],
             [
              0.6666666666666666,
              "#ed7953"
             ],
             [
              0.7777777777777778,
              "#fb9f3a"
             ],
             [
              0.8888888888888888,
              "#fdca26"
             ],
             [
              1,
              "#f0f921"
             ]
            ],
            "type": "histogram2dcontour"
           }
          ],
          "mesh3d": [
           {
            "colorbar": {
             "outlinewidth": 0,
             "ticks": ""
            },
            "type": "mesh3d"
           }
          ],
          "parcoords": [
           {
            "line": {
             "colorbar": {
              "outlinewidth": 0,
              "ticks": ""
             }
            },
            "type": "parcoords"
           }
          ],
          "pie": [
           {
            "automargin": true,
            "type": "pie"
           }
          ],
          "scatter": [
           {
            "marker": {
             "colorbar": {
              "outlinewidth": 0,
              "ticks": ""
             }
            },
            "type": "scatter"
           }
          ],
          "scatter3d": [
           {
            "line": {
             "colorbar": {
              "outlinewidth": 0,
              "ticks": ""
             }
            },
            "marker": {
             "colorbar": {
              "outlinewidth": 0,
              "ticks": ""
             }
            },
            "type": "scatter3d"
           }
          ],
          "scattercarpet": [
           {
            "marker": {
             "colorbar": {
              "outlinewidth": 0,
              "ticks": ""
             }
            },
            "type": "scattercarpet"
           }
          ],
          "scattergeo": [
           {
            "marker": {
             "colorbar": {
              "outlinewidth": 0,
              "ticks": ""
             }
            },
            "type": "scattergeo"
           }
          ],
          "scattergl": [
           {
            "marker": {
             "colorbar": {
              "outlinewidth": 0,
              "ticks": ""
             }
            },
            "type": "scattergl"
           }
          ],
          "scattermapbox": [
           {
            "marker": {
             "colorbar": {
              "outlinewidth": 0,
              "ticks": ""
             }
            },
            "type": "scattermapbox"
           }
          ],
          "scatterpolar": [
           {
            "marker": {
             "colorbar": {
              "outlinewidth": 0,
              "ticks": ""
             }
            },
            "type": "scatterpolar"
           }
          ],
          "scatterpolargl": [
           {
            "marker": {
             "colorbar": {
              "outlinewidth": 0,
              "ticks": ""
             }
            },
            "type": "scatterpolargl"
           }
          ],
          "scatterternary": [
           {
            "marker": {
             "colorbar": {
              "outlinewidth": 0,
              "ticks": ""
             }
            },
            "type": "scatterternary"
           }
          ],
          "surface": [
           {
            "colorbar": {
             "outlinewidth": 0,
             "ticks": ""
            },
            "colorscale": [
             [
              0,
              "#0d0887"
             ],
             [
              0.1111111111111111,
              "#46039f"
             ],
             [
              0.2222222222222222,
              "#7201a8"
             ],
             [
              0.3333333333333333,
              "#9c179e"
             ],
             [
              0.4444444444444444,
              "#bd3786"
             ],
             [
              0.5555555555555556,
              "#d8576b"
             ],
             [
              0.6666666666666666,
              "#ed7953"
             ],
             [
              0.7777777777777778,
              "#fb9f3a"
             ],
             [
              0.8888888888888888,
              "#fdca26"
             ],
             [
              1,
              "#f0f921"
             ]
            ],
            "type": "surface"
           }
          ],
          "table": [
           {
            "cells": {
             "fill": {
              "color": "#EBF0F8"
             },
             "line": {
              "color": "white"
             }
            },
            "header": {
             "fill": {
              "color": "#C8D4E3"
             },
             "line": {
              "color": "white"
             }
            },
            "type": "table"
           }
          ]
         },
         "layout": {
          "annotationdefaults": {
           "arrowcolor": "#2a3f5f",
           "arrowhead": 0,
           "arrowwidth": 1
          },
          "autotypenumbers": "strict",
          "coloraxis": {
           "colorbar": {
            "outlinewidth": 0,
            "ticks": ""
           }
          },
          "colorscale": {
           "diverging": [
            [
             0,
             "#8e0152"
            ],
            [
             0.1,
             "#c51b7d"
            ],
            [
             0.2,
             "#de77ae"
            ],
            [
             0.3,
             "#f1b6da"
            ],
            [
             0.4,
             "#fde0ef"
            ],
            [
             0.5,
             "#f7f7f7"
            ],
            [
             0.6,
             "#e6f5d0"
            ],
            [
             0.7,
             "#b8e186"
            ],
            [
             0.8,
             "#7fbc41"
            ],
            [
             0.9,
             "#4d9221"
            ],
            [
             1,
             "#276419"
            ]
           ],
           "sequential": [
            [
             0,
             "#0d0887"
            ],
            [
             0.1111111111111111,
             "#46039f"
            ],
            [
             0.2222222222222222,
             "#7201a8"
            ],
            [
             0.3333333333333333,
             "#9c179e"
            ],
            [
             0.4444444444444444,
             "#bd3786"
            ],
            [
             0.5555555555555556,
             "#d8576b"
            ],
            [
             0.6666666666666666,
             "#ed7953"
            ],
            [
             0.7777777777777778,
             "#fb9f3a"
            ],
            [
             0.8888888888888888,
             "#fdca26"
            ],
            [
             1,
             "#f0f921"
            ]
           ],
           "sequentialminus": [
            [
             0,
             "#0d0887"
            ],
            [
             0.1111111111111111,
             "#46039f"
            ],
            [
             0.2222222222222222,
             "#7201a8"
            ],
            [
             0.3333333333333333,
             "#9c179e"
            ],
            [
             0.4444444444444444,
             "#bd3786"
            ],
            [
             0.5555555555555556,
             "#d8576b"
            ],
            [
             0.6666666666666666,
             "#ed7953"
            ],
            [
             0.7777777777777778,
             "#fb9f3a"
            ],
            [
             0.8888888888888888,
             "#fdca26"
            ],
            [
             1,
             "#f0f921"
            ]
           ]
          },
          "colorway": [
           "#636efa",
           "#EF553B",
           "#00cc96",
           "#ab63fa",
           "#FFA15A",
           "#19d3f3",
           "#FF6692",
           "#B6E880",
           "#FF97FF",
           "#FECB52"
          ],
          "font": {
           "color": "#2a3f5f"
          },
          "geo": {
           "bgcolor": "white",
           "lakecolor": "white",
           "landcolor": "#E5ECF6",
           "showlakes": true,
           "showland": true,
           "subunitcolor": "white"
          },
          "hoverlabel": {
           "align": "left"
          },
          "hovermode": "closest",
          "mapbox": {
           "style": "light"
          },
          "paper_bgcolor": "white",
          "plot_bgcolor": "#E5ECF6",
          "polar": {
           "angularaxis": {
            "gridcolor": "white",
            "linecolor": "white",
            "ticks": ""
           },
           "bgcolor": "#E5ECF6",
           "radialaxis": {
            "gridcolor": "white",
            "linecolor": "white",
            "ticks": ""
           }
          },
          "scene": {
           "xaxis": {
            "backgroundcolor": "#E5ECF6",
            "gridcolor": "white",
            "gridwidth": 2,
            "linecolor": "white",
            "showbackground": true,
            "ticks": "",
            "zerolinecolor": "white"
           },
           "yaxis": {
            "backgroundcolor": "#E5ECF6",
            "gridcolor": "white",
            "gridwidth": 2,
            "linecolor": "white",
            "showbackground": true,
            "ticks": "",
            "zerolinecolor": "white"
           },
           "zaxis": {
            "backgroundcolor": "#E5ECF6",
            "gridcolor": "white",
            "gridwidth": 2,
            "linecolor": "white",
            "showbackground": true,
            "ticks": "",
            "zerolinecolor": "white"
           }
          },
          "shapedefaults": {
           "line": {
            "color": "#2a3f5f"
           }
          },
          "ternary": {
           "aaxis": {
            "gridcolor": "white",
            "linecolor": "white",
            "ticks": ""
           },
           "baxis": {
            "gridcolor": "white",
            "linecolor": "white",
            "ticks": ""
           },
           "bgcolor": "#E5ECF6",
           "caxis": {
            "gridcolor": "white",
            "linecolor": "white",
            "ticks": ""
           }
          },
          "title": {
           "x": 0.05
          },
          "xaxis": {
           "automargin": true,
           "gridcolor": "white",
           "linecolor": "white",
           "ticks": "",
           "title": {
            "standoff": 15
           },
           "zerolinecolor": "white",
           "zerolinewidth": 2
          },
          "yaxis": {
           "automargin": true,
           "gridcolor": "white",
           "linecolor": "white",
           "ticks": "",
           "title": {
            "standoff": 15
           },
           "zerolinecolor": "white",
           "zerolinewidth": 2
          }
         }
        },
        "title": {
         "text": "Beam Directions"
        },
        "width": 800,
        "xaxis": {
         "range": [
          -12.2,
          14.2
         ],
         "zeroline": false
        },
        "yaxis": {
         "range": [
          -11.2,
          15.2
         ]
        }
       }
      },
      "text/html": [
       "<div>                            <div id=\"51727bb8-7e5e-44ec-9172-ea3cf504b302\" class=\"plotly-graph-div\" style=\"height:800px; width:800px;\"></div>            <script type=\"text/javascript\">                require([\"plotly\"], function(Plotly) {                    window.PLOTLYENV=window.PLOTLYENV || {};                                    if (document.getElementById(\"51727bb8-7e5e-44ec-9172-ea3cf504b302\")) {                    Plotly.newPlot(                        \"51727bb8-7e5e-44ec-9172-ea3cf504b302\",                        [{\"marker\": {\"color\": \"red\"}, \"mode\": \"markers\", \"name\": \"your reflected pos\", \"type\": \"scatter\", \"x\": [-1, 1, 3, -1, -3, 5, 1, 3, -1, 7, -3, -5, 5, -5, 7, 9, -7, -7, 9, 3, -1, -1, 3, -3, 5, -3, 11, -9, 5], \"y\": [2, -2, -2, -2, -2, -2, 8, 8, 8, -2, 8, -2, 8, 8, 8, -2, -2, 8, 8, 12, -8, 12, -8, -8, -8, 12, -2, -2, 12]}, {\"marker\": {\"color\": \"blue\"}, \"mode\": \"markers\", \"name\": \"trainer reflected pos\", \"type\": \"scatter\", \"x\": [1, -1, 3, 3, -1, -3, 5, -1, 3, 7, -5, 5, -3, -5, 7, -1, 9, 3, -7, 7, -5, 9, -7, 11, -9, -9, 11], \"y\": [4, 4, 4, 6, 6, 4, 4, -4, -4, 4, 4, -4, -4, 6, 6, -6, 4, -6, 4, -6, -6, -4, -4, 4, 4, 6, 6]}, {\"line\": {\"color\": \"LightSeaGreen\"}, \"mode\": \"lines\", \"name\": \"range circle\", \"type\": \"scatter\", \"x\": [11], \"y\": [11]}],                        {\"height\": 800, \"shapes\": [{\"type\": \"rect\", \"x0\": 2, \"x1\": 4, \"y0\": 5, \"y1\": 10}, {\"type\": \"rect\", \"x0\": 2, \"x1\": 4, \"y0\": 10, \"y1\": 15}, {\"type\": \"rect\", \"x0\": 2, \"x1\": 4, \"y0\": 15, \"y1\": 20}, {\"type\": \"rect\", \"x0\": 2, \"x1\": 4, \"y0\": 20, \"y1\": 25}, {\"type\": \"rect\", \"x0\": 2, \"x1\": 4, \"y0\": 25, \"y1\": 30}, {\"type\": \"rect\", \"x0\": 2, \"x1\": 4, \"y0\": 30, \"y1\": 35}, {\"type\": \"rect\", \"x0\": 2, \"x1\": 4, \"y0\": 35, \"y1\": 40}, {\"type\": \"rect\", \"x0\": 2, \"x1\": 4, \"y0\": 40, \"y1\": -40}, {\"type\": \"rect\", \"x0\": 2, \"x1\": 4, \"y0\": -40, \"y1\": -35}, {\"type\": \"rect\", \"x0\": 2, \"x1\": 4, \"y0\": -35, \"y1\": -30}, {\"type\": \"rect\", \"x0\": 2, \"x1\": 4, \"y0\": -30, \"y1\": -25}, {\"type\": \"rect\", \"x0\": 2, \"x1\": 4, \"y0\": -25, \"y1\": -20}, {\"type\": \"rect\", \"x0\": 2, \"x1\": 4, \"y0\": -20, \"y1\": -15}, {\"type\": \"rect\", \"x0\": 2, \"x1\": 4, \"y0\": -15, \"y1\": -10}, {\"type\": \"rect\", \"x0\": 2, \"x1\": 4, \"y0\": -10, \"y1\": -5}, {\"type\": \"rect\", \"x0\": 2, \"x1\": 4, \"y0\": -5, \"y1\": 0}, {\"type\": \"rect\", \"x0\": 2, \"x1\": 4, \"y0\": 0, \"y1\": 5}, {\"type\": \"rect\", \"x0\": 4, \"x1\": 6, \"y0\": 5, \"y1\": 10}, {\"type\": \"rect\", \"x0\": 4, \"x1\": 6, \"y0\": 10, \"y1\": 15}, {\"type\": \"rect\", \"x0\": 4, \"x1\": 6, \"y0\": 15, \"y1\": 20}, {\"type\": \"rect\", \"x0\": 4, \"x1\": 6, \"y0\": 20, \"y1\": 25}, {\"type\": \"rect\", \"x0\": 4, \"x1\": 6, \"y0\": 25, \"y1\": 30}, {\"type\": \"rect\", \"x0\": 4, \"x1\": 6, \"y0\": 30, \"y1\": 35}, {\"type\": \"rect\", \"x0\": 4, \"x1\": 6, \"y0\": 35, \"y1\": 40}, {\"type\": \"rect\", \"x0\": 4, \"x1\": 6, \"y0\": 40, \"y1\": -40}, {\"type\": \"rect\", \"x0\": 4, \"x1\": 6, \"y0\": -40, \"y1\": -35}, {\"type\": \"rect\", \"x0\": 4, \"x1\": 6, \"y0\": -35, \"y1\": -30}, {\"type\": \"rect\", \"x0\": 4, \"x1\": 6, \"y0\": -30, \"y1\": -25}, {\"type\": \"rect\", \"x0\": 4, \"x1\": 6, \"y0\": -25, \"y1\": -20}, {\"type\": \"rect\", \"x0\": 4, \"x1\": 6, \"y0\": -20, \"y1\": -15}, {\"type\": \"rect\", \"x0\": 4, \"x1\": 6, \"y0\": -15, \"y1\": -10}, {\"type\": \"rect\", \"x0\": 4, \"x1\": 6, \"y0\": -10, \"y1\": -5}, {\"type\": \"rect\", \"x0\": 4, \"x1\": 6, \"y0\": -5, \"y1\": 0}, {\"type\": \"rect\", \"x0\": 4, \"x1\": 6, \"y0\": 0, \"y1\": 5}, {\"type\": \"rect\", \"x0\": 6, \"x1\": 8, \"y0\": 5, \"y1\": 10}, {\"type\": \"rect\", \"x0\": 6, \"x1\": 8, \"y0\": 10, \"y1\": 15}, {\"type\": \"rect\", \"x0\": 6, \"x1\": 8, \"y0\": 15, \"y1\": 20}, {\"type\": \"rect\", \"x0\": 6, \"x1\": 8, \"y0\": 20, \"y1\": 25}, {\"type\": \"rect\", \"x0\": 6, \"x1\": 8, \"y0\": 25, \"y1\": 30}, {\"type\": \"rect\", \"x0\": 6, \"x1\": 8, \"y0\": 30, \"y1\": 35}, {\"type\": \"rect\", \"x0\": 6, \"x1\": 8, \"y0\": 35, \"y1\": 40}, {\"type\": \"rect\", \"x0\": 6, \"x1\": 8, \"y0\": 40, \"y1\": -40}, {\"type\": \"rect\", \"x0\": 6, \"x1\": 8, \"y0\": -40, \"y1\": -35}, {\"type\": \"rect\", \"x0\": 6, \"x1\": 8, \"y0\": -35, \"y1\": -30}, {\"type\": \"rect\", \"x0\": 6, \"x1\": 8, \"y0\": -30, \"y1\": -25}, {\"type\": \"rect\", \"x0\": 6, \"x1\": 8, \"y0\": -25, \"y1\": -20}, {\"type\": \"rect\", \"x0\": 6, \"x1\": 8, \"y0\": -20, \"y1\": -15}, {\"type\": \"rect\", \"x0\": 6, \"x1\": 8, \"y0\": -15, \"y1\": -10}, {\"type\": \"rect\", \"x0\": 6, \"x1\": 8, \"y0\": -10, \"y1\": -5}, {\"type\": \"rect\", \"x0\": 6, \"x1\": 8, \"y0\": -5, \"y1\": 0}, {\"type\": \"rect\", \"x0\": 6, \"x1\": 8, \"y0\": 0, \"y1\": 5}, {\"type\": \"rect\", \"x0\": 8, \"x1\": 10, \"y0\": 5, \"y1\": 10}, {\"type\": \"rect\", \"x0\": 8, \"x1\": 10, \"y0\": 10, \"y1\": 15}, {\"type\": \"rect\", \"x0\": 8, \"x1\": 10, \"y0\": 15, \"y1\": 20}, {\"type\": \"rect\", \"x0\": 8, \"x1\": 10, \"y0\": 20, \"y1\": 25}, {\"type\": \"rect\", \"x0\": 8, \"x1\": 10, \"y0\": 25, \"y1\": 30}, {\"type\": \"rect\", \"x0\": 8, \"x1\": 10, \"y0\": 30, \"y1\": 35}, {\"type\": \"rect\", \"x0\": 8, \"x1\": 10, \"y0\": 35, \"y1\": 40}, {\"type\": \"rect\", \"x0\": 8, \"x1\": 10, \"y0\": 40, \"y1\": -40}, {\"type\": \"rect\", \"x0\": 8, \"x1\": 10, \"y0\": -40, \"y1\": -35}, {\"type\": \"rect\", \"x0\": 8, \"x1\": 10, \"y0\": -35, \"y1\": -30}, {\"type\": \"rect\", \"x0\": 8, \"x1\": 10, \"y0\": -30, \"y1\": -25}, {\"type\": \"rect\", \"x0\": 8, \"x1\": 10, \"y0\": -25, \"y1\": -20}, {\"type\": \"rect\", \"x0\": 8, \"x1\": 10, \"y0\": -20, \"y1\": -15}, {\"type\": \"rect\", \"x0\": 8, \"x1\": 10, \"y0\": -15, \"y1\": -10}, {\"type\": \"rect\", \"x0\": 8, \"x1\": 10, \"y0\": -10, \"y1\": -5}, {\"type\": \"rect\", \"x0\": 8, \"x1\": 10, \"y0\": -5, \"y1\": 0}, {\"type\": \"rect\", \"x0\": 8, \"x1\": 10, \"y0\": 0, \"y1\": 5}, {\"type\": \"rect\", \"x0\": 10, \"x1\": 12, \"y0\": 5, \"y1\": 10}, {\"type\": \"rect\", \"x0\": 10, \"x1\": 12, \"y0\": 10, \"y1\": 15}, {\"type\": \"rect\", \"x0\": 10, \"x1\": 12, \"y0\": 15, \"y1\": 20}, {\"type\": \"rect\", \"x0\": 10, \"x1\": 12, \"y0\": 20, \"y1\": 25}, {\"type\": \"rect\", \"x0\": 10, \"x1\": 12, \"y0\": 25, \"y1\": 30}, {\"type\": \"rect\", \"x0\": 10, \"x1\": 12, \"y0\": 30, \"y1\": 35}, {\"type\": \"rect\", \"x0\": 10, \"x1\": 12, \"y0\": 35, \"y1\": 40}, {\"type\": \"rect\", \"x0\": 10, \"x1\": 12, \"y0\": 40, \"y1\": -40}, {\"type\": \"rect\", \"x0\": 10, \"x1\": 12, \"y0\": -40, \"y1\": -35}, {\"type\": \"rect\", \"x0\": 10, \"x1\": 12, \"y0\": -35, \"y1\": -30}, {\"type\": \"rect\", \"x0\": 10, \"x1\": 12, \"y0\": -30, \"y1\": -25}, {\"type\": \"rect\", \"x0\": 10, \"x1\": 12, \"y0\": -25, \"y1\": -20}, {\"type\": \"rect\", \"x0\": 10, \"x1\": 12, \"y0\": -20, \"y1\": -15}, {\"type\": \"rect\", \"x0\": 10, \"x1\": 12, \"y0\": -15, \"y1\": -10}, {\"type\": \"rect\", \"x0\": 10, \"x1\": 12, \"y0\": -10, \"y1\": -5}, {\"type\": \"rect\", \"x0\": 10, \"x1\": 12, \"y0\": -5, \"y1\": 0}, {\"type\": \"rect\", \"x0\": 10, \"x1\": 12, \"y0\": 0, \"y1\": 5}, {\"type\": \"rect\", \"x0\": 12, \"x1\": 14, \"y0\": 5, \"y1\": 10}, {\"type\": \"rect\", \"x0\": 12, \"x1\": 14, \"y0\": 10, \"y1\": 15}, {\"type\": \"rect\", \"x0\": 12, \"x1\": 14, \"y0\": 15, \"y1\": 20}, {\"type\": \"rect\", \"x0\": 12, \"x1\": 14, \"y0\": 20, \"y1\": 25}, {\"type\": \"rect\", \"x0\": 12, \"x1\": 14, \"y0\": 25, \"y1\": 30}, {\"type\": \"rect\", \"x0\": 12, \"x1\": 14, \"y0\": 30, \"y1\": 35}, {\"type\": \"rect\", \"x0\": 12, \"x1\": 14, \"y0\": 35, \"y1\": 40}, {\"type\": \"rect\", \"x0\": 12, \"x1\": 14, \"y0\": 40, \"y1\": -40}, {\"type\": \"rect\", \"x0\": 12, \"x1\": 14, \"y0\": -40, \"y1\": -35}, {\"type\": \"rect\", \"x0\": 12, \"x1\": 14, \"y0\": -35, \"y1\": -30}, {\"type\": \"rect\", \"x0\": 12, \"x1\": 14, \"y0\": -30, \"y1\": -25}, {\"type\": \"rect\", \"x0\": 12, \"x1\": 14, \"y0\": -25, \"y1\": -20}, {\"type\": \"rect\", \"x0\": 12, \"x1\": 14, \"y0\": -20, \"y1\": -15}, {\"type\": \"rect\", \"x0\": 12, \"x1\": 14, \"y0\": -15, \"y1\": -10}, {\"type\": \"rect\", \"x0\": 12, \"x1\": 14, \"y0\": -10, \"y1\": -5}, {\"type\": \"rect\", \"x0\": 12, \"x1\": 14, \"y0\": -5, \"y1\": 0}, {\"type\": \"rect\", \"x0\": 12, \"x1\": 14, \"y0\": 0, \"y1\": 5}, {\"type\": \"rect\", \"x0\": 14, \"x1\": 16, \"y0\": 5, \"y1\": 10}, {\"type\": \"rect\", \"x0\": 14, \"x1\": 16, \"y0\": 10, \"y1\": 15}, {\"type\": \"rect\", \"x0\": 14, \"x1\": 16, \"y0\": 15, \"y1\": 20}, {\"type\": \"rect\", \"x0\": 14, \"x1\": 16, \"y0\": 20, \"y1\": 25}, {\"type\": \"rect\", \"x0\": 14, \"x1\": 16, \"y0\": 25, \"y1\": 30}, {\"type\": \"rect\", \"x0\": 14, \"x1\": 16, \"y0\": 30, \"y1\": 35}, {\"type\": \"rect\", \"x0\": 14, \"x1\": 16, \"y0\": 35, \"y1\": 40}, {\"type\": \"rect\", \"x0\": 14, \"x1\": 16, \"y0\": 40, \"y1\": -40}, {\"type\": \"rect\", \"x0\": 14, \"x1\": 16, \"y0\": -40, \"y1\": -35}, {\"type\": \"rect\", \"x0\": 14, \"x1\": 16, \"y0\": -35, \"y1\": -30}, {\"type\": \"rect\", \"x0\": 14, \"x1\": 16, \"y0\": -30, \"y1\": -25}, {\"type\": \"rect\", \"x0\": 14, \"x1\": 16, \"y0\": -25, \"y1\": -20}, {\"type\": \"rect\", \"x0\": 14, \"x1\": 16, \"y0\": -20, \"y1\": -15}, {\"type\": \"rect\", \"x0\": 14, \"x1\": 16, \"y0\": -15, \"y1\": -10}, {\"type\": \"rect\", \"x0\": 14, \"x1\": 16, \"y0\": -10, \"y1\": -5}, {\"type\": \"rect\", \"x0\": 14, \"x1\": 16, \"y0\": -5, \"y1\": 0}, {\"type\": \"rect\", \"x0\": 14, \"x1\": 16, \"y0\": 0, \"y1\": 5}, {\"type\": \"rect\", \"x0\": 16, \"x1\": -16, \"y0\": 5, \"y1\": 10}, {\"type\": \"rect\", \"x0\": 16, \"x1\": -16, \"y0\": 10, \"y1\": 15}, {\"type\": \"rect\", \"x0\": 16, \"x1\": -16, \"y0\": 15, \"y1\": 20}, {\"type\": \"rect\", \"x0\": 16, \"x1\": -16, \"y0\": 20, \"y1\": 25}, {\"type\": \"rect\", \"x0\": 16, \"x1\": -16, \"y0\": 25, \"y1\": 30}, {\"type\": \"rect\", \"x0\": 16, \"x1\": -16, \"y0\": 30, \"y1\": 35}, {\"type\": \"rect\", \"x0\": 16, \"x1\": -16, \"y0\": 35, \"y1\": 40}, {\"type\": \"rect\", \"x0\": 16, \"x1\": -16, \"y0\": 40, \"y1\": -40}, {\"type\": \"rect\", \"x0\": 16, \"x1\": -16, \"y0\": -40, \"y1\": -35}, {\"type\": \"rect\", \"x0\": 16, \"x1\": -16, \"y0\": -35, \"y1\": -30}, {\"type\": \"rect\", \"x0\": 16, \"x1\": -16, \"y0\": -30, \"y1\": -25}, {\"type\": \"rect\", \"x0\": 16, \"x1\": -16, \"y0\": -25, \"y1\": -20}, {\"type\": \"rect\", \"x0\": 16, \"x1\": -16, \"y0\": -20, \"y1\": -15}, {\"type\": \"rect\", \"x0\": 16, \"x1\": -16, \"y0\": -15, \"y1\": -10}, {\"type\": \"rect\", \"x0\": 16, \"x1\": -16, \"y0\": -10, \"y1\": -5}, {\"type\": \"rect\", \"x0\": 16, \"x1\": -16, \"y0\": -5, \"y1\": 0}, {\"type\": \"rect\", \"x0\": 16, \"x1\": -16, \"y0\": 0, \"y1\": 5}, {\"type\": \"rect\", \"x0\": -16, \"x1\": -14, \"y0\": 5, \"y1\": 10}, {\"type\": \"rect\", \"x0\": -16, \"x1\": -14, \"y0\": 10, \"y1\": 15}, {\"type\": \"rect\", \"x0\": -16, \"x1\": -14, \"y0\": 15, \"y1\": 20}, {\"type\": \"rect\", \"x0\": -16, \"x1\": -14, \"y0\": 20, \"y1\": 25}, {\"type\": \"rect\", \"x0\": -16, \"x1\": -14, \"y0\": 25, \"y1\": 30}, {\"type\": \"rect\", \"x0\": -16, \"x1\": -14, \"y0\": 30, \"y1\": 35}, {\"type\": \"rect\", \"x0\": -16, \"x1\": -14, \"y0\": 35, \"y1\": 40}, {\"type\": \"rect\", \"x0\": -16, \"x1\": -14, \"y0\": 40, \"y1\": -40}, {\"type\": \"rect\", \"x0\": -16, \"x1\": -14, \"y0\": -40, \"y1\": -35}, {\"type\": \"rect\", \"x0\": -16, \"x1\": -14, \"y0\": -35, \"y1\": -30}, {\"type\": \"rect\", \"x0\": -16, \"x1\": -14, \"y0\": -30, \"y1\": -25}, {\"type\": \"rect\", \"x0\": -16, \"x1\": -14, \"y0\": -25, \"y1\": -20}, {\"type\": \"rect\", \"x0\": -16, \"x1\": -14, \"y0\": -20, \"y1\": -15}, {\"type\": \"rect\", \"x0\": -16, \"x1\": -14, \"y0\": -15, \"y1\": -10}, {\"type\": \"rect\", \"x0\": -16, \"x1\": -14, \"y0\": -10, \"y1\": -5}, {\"type\": \"rect\", \"x0\": -16, \"x1\": -14, \"y0\": -5, \"y1\": 0}, {\"type\": \"rect\", \"x0\": -16, \"x1\": -14, \"y0\": 0, \"y1\": 5}, {\"type\": \"rect\", \"x0\": -14, \"x1\": -12, \"y0\": 5, \"y1\": 10}, {\"type\": \"rect\", \"x0\": -14, \"x1\": -12, \"y0\": 10, \"y1\": 15}, {\"type\": \"rect\", \"x0\": -14, \"x1\": -12, \"y0\": 15, \"y1\": 20}, {\"type\": \"rect\", \"x0\": -14, \"x1\": -12, \"y0\": 20, \"y1\": 25}, {\"type\": \"rect\", \"x0\": -14, \"x1\": -12, \"y0\": 25, \"y1\": 30}, {\"type\": \"rect\", \"x0\": -14, \"x1\": -12, \"y0\": 30, \"y1\": 35}, {\"type\": \"rect\", \"x0\": -14, \"x1\": -12, \"y0\": 35, \"y1\": 40}, {\"type\": \"rect\", \"x0\": -14, \"x1\": -12, \"y0\": 40, \"y1\": -40}, {\"type\": \"rect\", \"x0\": -14, \"x1\": -12, \"y0\": -40, \"y1\": -35}, {\"type\": \"rect\", \"x0\": -14, \"x1\": -12, \"y0\": -35, \"y1\": -30}, {\"type\": \"rect\", \"x0\": -14, \"x1\": -12, \"y0\": -30, \"y1\": -25}, {\"type\": \"rect\", \"x0\": -14, \"x1\": -12, \"y0\": -25, \"y1\": -20}, {\"type\": \"rect\", \"x0\": -14, \"x1\": -12, \"y0\": -20, \"y1\": -15}, {\"type\": \"rect\", \"x0\": -14, \"x1\": -12, \"y0\": -15, \"y1\": -10}, {\"type\": \"rect\", \"x0\": -14, \"x1\": -12, \"y0\": -10, \"y1\": -5}, {\"type\": \"rect\", \"x0\": -14, \"x1\": -12, \"y0\": -5, \"y1\": 0}, {\"type\": \"rect\", \"x0\": -14, \"x1\": -12, \"y0\": 0, \"y1\": 5}, {\"type\": \"rect\", \"x0\": -12, \"x1\": -10, \"y0\": 5, \"y1\": 10}, {\"type\": \"rect\", \"x0\": -12, \"x1\": -10, \"y0\": 10, \"y1\": 15}, {\"type\": \"rect\", \"x0\": -12, \"x1\": -10, \"y0\": 15, \"y1\": 20}, {\"type\": \"rect\", \"x0\": -12, \"x1\": -10, \"y0\": 20, \"y1\": 25}, {\"type\": \"rect\", \"x0\": -12, \"x1\": -10, \"y0\": 25, \"y1\": 30}, {\"type\": \"rect\", \"x0\": -12, \"x1\": -10, \"y0\": 30, \"y1\": 35}, {\"type\": \"rect\", \"x0\": -12, \"x1\": -10, \"y0\": 35, \"y1\": 40}, {\"type\": \"rect\", \"x0\": -12, \"x1\": -10, \"y0\": 40, \"y1\": -40}, {\"type\": \"rect\", \"x0\": -12, \"x1\": -10, \"y0\": -40, \"y1\": -35}, {\"type\": \"rect\", \"x0\": -12, \"x1\": -10, \"y0\": -35, \"y1\": -30}, {\"type\": \"rect\", \"x0\": -12, \"x1\": -10, \"y0\": -30, \"y1\": -25}, {\"type\": \"rect\", \"x0\": -12, \"x1\": -10, \"y0\": -25, \"y1\": -20}, {\"type\": \"rect\", \"x0\": -12, \"x1\": -10, \"y0\": -20, \"y1\": -15}, {\"type\": \"rect\", \"x0\": -12, \"x1\": -10, \"y0\": -15, \"y1\": -10}, {\"type\": \"rect\", \"x0\": -12, \"x1\": -10, \"y0\": -10, \"y1\": -5}, {\"type\": \"rect\", \"x0\": -12, \"x1\": -10, \"y0\": -5, \"y1\": 0}, {\"type\": \"rect\", \"x0\": -12, \"x1\": -10, \"y0\": 0, \"y1\": 5}, {\"type\": \"rect\", \"x0\": -10, \"x1\": -8, \"y0\": 5, \"y1\": 10}, {\"type\": \"rect\", \"x0\": -10, \"x1\": -8, \"y0\": 10, \"y1\": 15}, {\"type\": \"rect\", \"x0\": -10, \"x1\": -8, \"y0\": 15, \"y1\": 20}, {\"type\": \"rect\", \"x0\": -10, \"x1\": -8, \"y0\": 20, \"y1\": 25}, {\"type\": \"rect\", \"x0\": -10, \"x1\": -8, \"y0\": 25, \"y1\": 30}, {\"type\": \"rect\", \"x0\": -10, \"x1\": -8, \"y0\": 30, \"y1\": 35}, {\"type\": \"rect\", \"x0\": -10, \"x1\": -8, \"y0\": 35, \"y1\": 40}, {\"type\": \"rect\", \"x0\": -10, \"x1\": -8, \"y0\": 40, \"y1\": -40}, {\"type\": \"rect\", \"x0\": -10, \"x1\": -8, \"y0\": -40, \"y1\": -35}, {\"type\": \"rect\", \"x0\": -10, \"x1\": -8, \"y0\": -35, \"y1\": -30}, {\"type\": \"rect\", \"x0\": -10, \"x1\": -8, \"y0\": -30, \"y1\": -25}, {\"type\": \"rect\", \"x0\": -10, \"x1\": -8, \"y0\": -25, \"y1\": -20}, {\"type\": \"rect\", \"x0\": -10, \"x1\": -8, \"y0\": -20, \"y1\": -15}, {\"type\": \"rect\", \"x0\": -10, \"x1\": -8, \"y0\": -15, \"y1\": -10}, {\"type\": \"rect\", \"x0\": -10, \"x1\": -8, \"y0\": -10, \"y1\": -5}, {\"type\": \"rect\", \"x0\": -10, \"x1\": -8, \"y0\": -5, \"y1\": 0}, {\"type\": \"rect\", \"x0\": -10, \"x1\": -8, \"y0\": 0, \"y1\": 5}, {\"type\": \"rect\", \"x0\": -8, \"x1\": -6, \"y0\": 5, \"y1\": 10}, {\"type\": \"rect\", \"x0\": -8, \"x1\": -6, \"y0\": 10, \"y1\": 15}, {\"type\": \"rect\", \"x0\": -8, \"x1\": -6, \"y0\": 15, \"y1\": 20}, {\"type\": \"rect\", \"x0\": -8, \"x1\": -6, \"y0\": 20, \"y1\": 25}, {\"type\": \"rect\", \"x0\": -8, \"x1\": -6, \"y0\": 25, \"y1\": 30}, {\"type\": \"rect\", \"x0\": -8, \"x1\": -6, \"y0\": 30, \"y1\": 35}, {\"type\": \"rect\", \"x0\": -8, \"x1\": -6, \"y0\": 35, \"y1\": 40}, {\"type\": \"rect\", \"x0\": -8, \"x1\": -6, \"y0\": 40, \"y1\": -40}, {\"type\": \"rect\", \"x0\": -8, \"x1\": -6, \"y0\": -40, \"y1\": -35}, {\"type\": \"rect\", \"x0\": -8, \"x1\": -6, \"y0\": -35, \"y1\": -30}, {\"type\": \"rect\", \"x0\": -8, \"x1\": -6, \"y0\": -30, \"y1\": -25}, {\"type\": \"rect\", \"x0\": -8, \"x1\": -6, \"y0\": -25, \"y1\": -20}, {\"type\": \"rect\", \"x0\": -8, \"x1\": -6, \"y0\": -20, \"y1\": -15}, {\"type\": \"rect\", \"x0\": -8, \"x1\": -6, \"y0\": -15, \"y1\": -10}, {\"type\": \"rect\", \"x0\": -8, \"x1\": -6, \"y0\": -10, \"y1\": -5}, {\"type\": \"rect\", \"x0\": -8, \"x1\": -6, \"y0\": -5, \"y1\": 0}, {\"type\": \"rect\", \"x0\": -8, \"x1\": -6, \"y0\": 0, \"y1\": 5}, {\"type\": \"rect\", \"x0\": -6, \"x1\": -4, \"y0\": 5, \"y1\": 10}, {\"type\": \"rect\", \"x0\": -6, \"x1\": -4, \"y0\": 10, \"y1\": 15}, {\"type\": \"rect\", \"x0\": -6, \"x1\": -4, \"y0\": 15, \"y1\": 20}, {\"type\": \"rect\", \"x0\": -6, \"x1\": -4, \"y0\": 20, \"y1\": 25}, {\"type\": \"rect\", \"x0\": -6, \"x1\": -4, \"y0\": 25, \"y1\": 30}, {\"type\": \"rect\", \"x0\": -6, \"x1\": -4, \"y0\": 30, \"y1\": 35}, {\"type\": \"rect\", \"x0\": -6, \"x1\": -4, \"y0\": 35, \"y1\": 40}, {\"type\": \"rect\", \"x0\": -6, \"x1\": -4, \"y0\": 40, \"y1\": -40}, {\"type\": \"rect\", \"x0\": -6, \"x1\": -4, \"y0\": -40, \"y1\": -35}, {\"type\": \"rect\", \"x0\": -6, \"x1\": -4, \"y0\": -35, \"y1\": -30}, {\"type\": \"rect\", \"x0\": -6, \"x1\": -4, \"y0\": -30, \"y1\": -25}, {\"type\": \"rect\", \"x0\": -6, \"x1\": -4, \"y0\": -25, \"y1\": -20}, {\"type\": \"rect\", \"x0\": -6, \"x1\": -4, \"y0\": -20, \"y1\": -15}, {\"type\": \"rect\", \"x0\": -6, \"x1\": -4, \"y0\": -15, \"y1\": -10}, {\"type\": \"rect\", \"x0\": -6, \"x1\": -4, \"y0\": -10, \"y1\": -5}, {\"type\": \"rect\", \"x0\": -6, \"x1\": -4, \"y0\": -5, \"y1\": 0}, {\"type\": \"rect\", \"x0\": -6, \"x1\": -4, \"y0\": 0, \"y1\": 5}, {\"type\": \"rect\", \"x0\": -4, \"x1\": -2, \"y0\": 5, \"y1\": 10}, {\"type\": \"rect\", \"x0\": -4, \"x1\": -2, \"y0\": 10, \"y1\": 15}, {\"type\": \"rect\", \"x0\": -4, \"x1\": -2, \"y0\": 15, \"y1\": 20}, {\"type\": \"rect\", \"x0\": -4, \"x1\": -2, \"y0\": 20, \"y1\": 25}, {\"type\": \"rect\", \"x0\": -4, \"x1\": -2, \"y0\": 25, \"y1\": 30}, {\"type\": \"rect\", \"x0\": -4, \"x1\": -2, \"y0\": 30, \"y1\": 35}, {\"type\": \"rect\", \"x0\": -4, \"x1\": -2, \"y0\": 35, \"y1\": 40}, {\"type\": \"rect\", \"x0\": -4, \"x1\": -2, \"y0\": 40, \"y1\": -40}, {\"type\": \"rect\", \"x0\": -4, \"x1\": -2, \"y0\": -40, \"y1\": -35}, {\"type\": \"rect\", \"x0\": -4, \"x1\": -2, \"y0\": -35, \"y1\": -30}, {\"type\": \"rect\", \"x0\": -4, \"x1\": -2, \"y0\": -30, \"y1\": -25}, {\"type\": \"rect\", \"x0\": -4, \"x1\": -2, \"y0\": -25, \"y1\": -20}, {\"type\": \"rect\", \"x0\": -4, \"x1\": -2, \"y0\": -20, \"y1\": -15}, {\"type\": \"rect\", \"x0\": -4, \"x1\": -2, \"y0\": -15, \"y1\": -10}, {\"type\": \"rect\", \"x0\": -4, \"x1\": -2, \"y0\": -10, \"y1\": -5}, {\"type\": \"rect\", \"x0\": -4, \"x1\": -2, \"y0\": -5, \"y1\": 0}, {\"type\": \"rect\", \"x0\": -4, \"x1\": -2, \"y0\": 0, \"y1\": 5}, {\"type\": \"rect\", \"x0\": -2, \"x1\": 0, \"y0\": 5, \"y1\": 10}, {\"type\": \"rect\", \"x0\": -2, \"x1\": 0, \"y0\": 10, \"y1\": 15}, {\"type\": \"rect\", \"x0\": -2, \"x1\": 0, \"y0\": 15, \"y1\": 20}, {\"type\": \"rect\", \"x0\": -2, \"x1\": 0, \"y0\": 20, \"y1\": 25}, {\"type\": \"rect\", \"x0\": -2, \"x1\": 0, \"y0\": 25, \"y1\": 30}, {\"type\": \"rect\", \"x0\": -2, \"x1\": 0, \"y0\": 30, \"y1\": 35}, {\"type\": \"rect\", \"x0\": -2, \"x1\": 0, \"y0\": 35, \"y1\": 40}, {\"type\": \"rect\", \"x0\": -2, \"x1\": 0, \"y0\": 40, \"y1\": -40}, {\"type\": \"rect\", \"x0\": -2, \"x1\": 0, \"y0\": -40, \"y1\": -35}, {\"type\": \"rect\", \"x0\": -2, \"x1\": 0, \"y0\": -35, \"y1\": -30}, {\"type\": \"rect\", \"x0\": -2, \"x1\": 0, \"y0\": -30, \"y1\": -25}, {\"type\": \"rect\", \"x0\": -2, \"x1\": 0, \"y0\": -25, \"y1\": -20}, {\"type\": \"rect\", \"x0\": -2, \"x1\": 0, \"y0\": -20, \"y1\": -15}, {\"type\": \"rect\", \"x0\": -2, \"x1\": 0, \"y0\": -15, \"y1\": -10}, {\"type\": \"rect\", \"x0\": -2, \"x1\": 0, \"y0\": -10, \"y1\": -5}, {\"type\": \"rect\", \"x0\": -2, \"x1\": 0, \"y0\": -5, \"y1\": 0}, {\"type\": \"rect\", \"x0\": -2, \"x1\": 0, \"y0\": 0, \"y1\": 5}, {\"type\": \"rect\", \"x0\": 0, \"x1\": 2, \"y0\": 5, \"y1\": 10}, {\"type\": \"rect\", \"x0\": 0, \"x1\": 2, \"y0\": 10, \"y1\": 15}, {\"type\": \"rect\", \"x0\": 0, \"x1\": 2, \"y0\": 15, \"y1\": 20}, {\"type\": \"rect\", \"x0\": 0, \"x1\": 2, \"y0\": 20, \"y1\": 25}, {\"type\": \"rect\", \"x0\": 0, \"x1\": 2, \"y0\": 25, \"y1\": 30}, {\"type\": \"rect\", \"x0\": 0, \"x1\": 2, \"y0\": 30, \"y1\": 35}, {\"type\": \"rect\", \"x0\": 0, \"x1\": 2, \"y0\": 35, \"y1\": 40}, {\"type\": \"rect\", \"x0\": 0, \"x1\": 2, \"y0\": 40, \"y1\": -40}, {\"type\": \"rect\", \"x0\": 0, \"x1\": 2, \"y0\": -40, \"y1\": -35}, {\"type\": \"rect\", \"x0\": 0, \"x1\": 2, \"y0\": -35, \"y1\": -30}, {\"type\": \"rect\", \"x0\": 0, \"x1\": 2, \"y0\": -30, \"y1\": -25}, {\"type\": \"rect\", \"x0\": 0, \"x1\": 2, \"y0\": -25, \"y1\": -20}, {\"type\": \"rect\", \"x0\": 0, \"x1\": 2, \"y0\": -20, \"y1\": -15}, {\"type\": \"rect\", \"x0\": 0, \"x1\": 2, \"y0\": -15, \"y1\": -10}, {\"type\": \"rect\", \"x0\": 0, \"x1\": 2, \"y0\": -10, \"y1\": -5}, {\"type\": \"rect\", \"x0\": 0, \"x1\": 2, \"y0\": -5, \"y1\": 0}, {\"type\": \"rect\", \"x0\": 0, \"x1\": 2, \"y0\": 0, \"y1\": 5}, {\"line\": {\"color\": \"Green\", \"width\": 2}, \"type\": \"line\", \"x0\": 1, \"x1\": 1, \"y0\": 2, \"y1\": 4}, {\"line\": {\"color\": \"Green\", \"width\": 2}, \"type\": \"line\", \"x0\": 1, \"x1\": -1, \"y0\": 2, \"y1\": 4}, {\"line\": {\"color\": \"Green\", \"width\": 2}, \"type\": \"line\", \"x0\": 1, \"x1\": 3, \"y0\": 2, \"y1\": 4}, {\"line\": {\"color\": \"Green\", \"width\": 2}, \"type\": \"line\", \"x0\": 1, \"x1\": 3, \"y0\": 2, \"y1\": 6}, {\"line\": {\"color\": \"Green\", \"width\": 2}, \"type\": \"line\", \"x0\": 1, \"x1\": -1, \"y0\": 2, \"y1\": 6}, {\"line\": {\"color\": \"Green\", \"width\": 2}, \"type\": \"line\", \"x0\": 1, \"x1\": -3, \"y0\": 2, \"y1\": 4}, {\"line\": {\"color\": \"Green\", \"width\": 2}, \"type\": \"line\", \"x0\": 1, \"x1\": 5, \"y0\": 2, \"y1\": 4}, {\"line\": {\"color\": \"Green\", \"width\": 2}, \"type\": \"line\", \"x0\": 1, \"x1\": -1, \"y0\": 2, \"y1\": -4}, {\"line\": {\"color\": \"Green\", \"width\": 2}, \"type\": \"line\", \"x0\": 1, \"x1\": 3, \"y0\": 2, \"y1\": -4}, {\"line\": {\"color\": \"Green\", \"width\": 2}, \"type\": \"line\", \"x0\": 1, \"x1\": 7, \"y0\": 2, \"y1\": 4}, {\"line\": {\"color\": \"Green\", \"width\": 2}, \"type\": \"line\", \"x0\": 1, \"x1\": -5, \"y0\": 2, \"y1\": 4}, {\"line\": {\"color\": \"Green\", \"width\": 2}, \"type\": \"line\", \"x0\": 1, \"x1\": 5, \"y0\": 2, \"y1\": -4}, {\"line\": {\"color\": \"Green\", \"width\": 2}, \"type\": \"line\", \"x0\": 1, \"x1\": -3, \"y0\": 2, \"y1\": -4}, {\"line\": {\"color\": \"Green\", \"width\": 2}, \"type\": \"line\", \"x0\": 1, \"x1\": -5, \"y0\": 2, \"y1\": 6}, {\"line\": {\"color\": \"Green\", \"width\": 2}, \"type\": \"line\", \"x0\": 1, \"x1\": 7, \"y0\": 2, \"y1\": 6}, {\"line\": {\"color\": \"Green\", \"width\": 2}, \"type\": \"line\", \"x0\": 1, \"x1\": -1, \"y0\": 2, \"y1\": -6}, {\"line\": {\"color\": \"Green\", \"width\": 2}, \"type\": \"line\", \"x0\": 1, \"x1\": 9, \"y0\": 2, \"y1\": 4}, {\"line\": {\"color\": \"Green\", \"width\": 2}, \"type\": \"line\", \"x0\": 1, \"x1\": 3, \"y0\": 2, \"y1\": -6}, {\"line\": {\"color\": \"Green\", \"width\": 2}, \"type\": \"line\", \"x0\": 1, \"x1\": -7, \"y0\": 2, \"y1\": 4}, {\"line\": {\"color\": \"Green\", \"width\": 2}, \"type\": \"line\", \"x0\": 1, \"x1\": 7, \"y0\": 2, \"y1\": -6}, {\"line\": {\"color\": \"Green\", \"width\": 2}, \"type\": \"line\", \"x0\": 1, \"x1\": -5, \"y0\": 2, \"y1\": -6}, {\"line\": {\"color\": \"Green\", \"width\": 2}, \"type\": \"line\", \"x0\": 1, \"x1\": 9, \"y0\": 2, \"y1\": -4}, {\"line\": {\"color\": \"Green\", \"width\": 2}, \"type\": \"line\", \"x0\": 1, \"x1\": -7, \"y0\": 2, \"y1\": -4}, {\"line\": {\"color\": \"Green\", \"width\": 2}, \"type\": \"line\", \"x0\": 1, \"x1\": 11, \"y0\": 2, \"y1\": 4}, {\"line\": {\"color\": \"Green\", \"width\": 2}, \"type\": \"line\", \"x0\": 1, \"x1\": -9, \"y0\": 2, \"y1\": 4}, {\"line\": {\"color\": \"Green\", \"width\": 2}, \"type\": \"line\", \"x0\": 1, \"x1\": -9, \"y0\": 2, \"y1\": 6}, {\"line\": {\"color\": \"Green\", \"width\": 2}, \"type\": \"line\", \"x0\": 1, \"x1\": 11, \"y0\": 2, \"y1\": 6}, {\"line\": {\"color\": \"LightSeaGreen\"}, \"type\": \"circle\", \"x0\": -10, \"x1\": 12, \"y0\": -9, \"y1\": 13}], \"template\": {\"data\": {\"bar\": [{\"error_x\": {\"color\": \"#2a3f5f\"}, \"error_y\": {\"color\": \"#2a3f5f\"}, \"marker\": {\"line\": {\"color\": \"#E5ECF6\", \"width\": 0.5}}, \"type\": \"bar\"}], \"barpolar\": [{\"marker\": {\"line\": {\"color\": \"#E5ECF6\", \"width\": 0.5}}, \"type\": \"barpolar\"}], \"carpet\": [{\"aaxis\": {\"endlinecolor\": \"#2a3f5f\", \"gridcolor\": \"white\", \"linecolor\": \"white\", \"minorgridcolor\": \"white\", \"startlinecolor\": \"#2a3f5f\"}, \"baxis\": {\"endlinecolor\": \"#2a3f5f\", \"gridcolor\": \"white\", \"linecolor\": \"white\", \"minorgridcolor\": \"white\", \"startlinecolor\": \"#2a3f5f\"}, \"type\": \"carpet\"}], \"choropleth\": [{\"colorbar\": {\"outlinewidth\": 0, \"ticks\": \"\"}, \"type\": \"choropleth\"}], \"contour\": [{\"colorbar\": {\"outlinewidth\": 0, \"ticks\": \"\"}, \"colorscale\": [[0.0, \"#0d0887\"], [0.1111111111111111, \"#46039f\"], [0.2222222222222222, \"#7201a8\"], [0.3333333333333333, \"#9c179e\"], [0.4444444444444444, \"#bd3786\"], [0.5555555555555556, \"#d8576b\"], [0.6666666666666666, \"#ed7953\"], [0.7777777777777778, \"#fb9f3a\"], [0.8888888888888888, \"#fdca26\"], [1.0, \"#f0f921\"]], \"type\": \"contour\"}], \"contourcarpet\": [{\"colorbar\": {\"outlinewidth\": 0, \"ticks\": \"\"}, \"type\": \"contourcarpet\"}], \"heatmap\": [{\"colorbar\": {\"outlinewidth\": 0, \"ticks\": \"\"}, \"colorscale\": [[0.0, \"#0d0887\"], [0.1111111111111111, \"#46039f\"], [0.2222222222222222, \"#7201a8\"], [0.3333333333333333, \"#9c179e\"], [0.4444444444444444, \"#bd3786\"], [0.5555555555555556, \"#d8576b\"], [0.6666666666666666, \"#ed7953\"], [0.7777777777777778, \"#fb9f3a\"], [0.8888888888888888, \"#fdca26\"], [1.0, \"#f0f921\"]], \"type\": \"heatmap\"}], \"heatmapgl\": [{\"colorbar\": {\"outlinewidth\": 0, \"ticks\": \"\"}, \"colorscale\": [[0.0, \"#0d0887\"], [0.1111111111111111, \"#46039f\"], [0.2222222222222222, \"#7201a8\"], [0.3333333333333333, \"#9c179e\"], [0.4444444444444444, \"#bd3786\"], [0.5555555555555556, \"#d8576b\"], [0.6666666666666666, \"#ed7953\"], [0.7777777777777778, \"#fb9f3a\"], [0.8888888888888888, \"#fdca26\"], [1.0, \"#f0f921\"]], \"type\": \"heatmapgl\"}], \"histogram\": [{\"marker\": {\"colorbar\": {\"outlinewidth\": 0, \"ticks\": \"\"}}, \"type\": \"histogram\"}], \"histogram2d\": [{\"colorbar\": {\"outlinewidth\": 0, \"ticks\": \"\"}, \"colorscale\": [[0.0, \"#0d0887\"], [0.1111111111111111, \"#46039f\"], [0.2222222222222222, \"#7201a8\"], [0.3333333333333333, \"#9c179e\"], [0.4444444444444444, \"#bd3786\"], [0.5555555555555556, \"#d8576b\"], [0.6666666666666666, \"#ed7953\"], [0.7777777777777778, \"#fb9f3a\"], [0.8888888888888888, \"#fdca26\"], [1.0, \"#f0f921\"]], \"type\": \"histogram2d\"}], \"histogram2dcontour\": [{\"colorbar\": {\"outlinewidth\": 0, \"ticks\": \"\"}, \"colorscale\": [[0.0, \"#0d0887\"], [0.1111111111111111, \"#46039f\"], [0.2222222222222222, \"#7201a8\"], [0.3333333333333333, \"#9c179e\"], [0.4444444444444444, \"#bd3786\"], [0.5555555555555556, \"#d8576b\"], [0.6666666666666666, \"#ed7953\"], [0.7777777777777778, \"#fb9f3a\"], [0.8888888888888888, \"#fdca26\"], [1.0, \"#f0f921\"]], \"type\": \"histogram2dcontour\"}], \"mesh3d\": [{\"colorbar\": {\"outlinewidth\": 0, \"ticks\": \"\"}, \"type\": \"mesh3d\"}], \"parcoords\": [{\"line\": {\"colorbar\": {\"outlinewidth\": 0, \"ticks\": \"\"}}, \"type\": \"parcoords\"}], \"pie\": [{\"automargin\": true, \"type\": \"pie\"}], \"scatter\": [{\"marker\": {\"colorbar\": {\"outlinewidth\": 0, \"ticks\": \"\"}}, \"type\": \"scatter\"}], \"scatter3d\": [{\"line\": {\"colorbar\": {\"outlinewidth\": 0, \"ticks\": \"\"}}, \"marker\": {\"colorbar\": {\"outlinewidth\": 0, \"ticks\": \"\"}}, \"type\": \"scatter3d\"}], \"scattercarpet\": [{\"marker\": {\"colorbar\": {\"outlinewidth\": 0, \"ticks\": \"\"}}, \"type\": \"scattercarpet\"}], \"scattergeo\": [{\"marker\": {\"colorbar\": {\"outlinewidth\": 0, \"ticks\": \"\"}}, \"type\": \"scattergeo\"}], \"scattergl\": [{\"marker\": {\"colorbar\": {\"outlinewidth\": 0, \"ticks\": \"\"}}, \"type\": \"scattergl\"}], \"scattermapbox\": [{\"marker\": {\"colorbar\": {\"outlinewidth\": 0, \"ticks\": \"\"}}, \"type\": \"scattermapbox\"}], \"scatterpolar\": [{\"marker\": {\"colorbar\": {\"outlinewidth\": 0, \"ticks\": \"\"}}, \"type\": \"scatterpolar\"}], \"scatterpolargl\": [{\"marker\": {\"colorbar\": {\"outlinewidth\": 0, \"ticks\": \"\"}}, \"type\": \"scatterpolargl\"}], \"scatterternary\": [{\"marker\": {\"colorbar\": {\"outlinewidth\": 0, \"ticks\": \"\"}}, \"type\": \"scatterternary\"}], \"surface\": [{\"colorbar\": {\"outlinewidth\": 0, \"ticks\": \"\"}, \"colorscale\": [[0.0, \"#0d0887\"], [0.1111111111111111, \"#46039f\"], [0.2222222222222222, \"#7201a8\"], [0.3333333333333333, \"#9c179e\"], [0.4444444444444444, \"#bd3786\"], [0.5555555555555556, \"#d8576b\"], [0.6666666666666666, \"#ed7953\"], [0.7777777777777778, \"#fb9f3a\"], [0.8888888888888888, \"#fdca26\"], [1.0, \"#f0f921\"]], \"type\": \"surface\"}], \"table\": [{\"cells\": {\"fill\": {\"color\": \"#EBF0F8\"}, \"line\": {\"color\": \"white\"}}, \"header\": {\"fill\": {\"color\": \"#C8D4E3\"}, \"line\": {\"color\": \"white\"}}, \"type\": \"table\"}]}, \"layout\": {\"annotationdefaults\": {\"arrowcolor\": \"#2a3f5f\", \"arrowhead\": 0, \"arrowwidth\": 1}, \"autotypenumbers\": \"strict\", \"coloraxis\": {\"colorbar\": {\"outlinewidth\": 0, \"ticks\": \"\"}}, \"colorscale\": {\"diverging\": [[0, \"#8e0152\"], [0.1, \"#c51b7d\"], [0.2, \"#de77ae\"], [0.3, \"#f1b6da\"], [0.4, \"#fde0ef\"], [0.5, \"#f7f7f7\"], [0.6, \"#e6f5d0\"], [0.7, \"#b8e186\"], [0.8, \"#7fbc41\"], [0.9, \"#4d9221\"], [1, \"#276419\"]], \"sequential\": [[0.0, \"#0d0887\"], [0.1111111111111111, \"#46039f\"], [0.2222222222222222, \"#7201a8\"], [0.3333333333333333, \"#9c179e\"], [0.4444444444444444, \"#bd3786\"], [0.5555555555555556, \"#d8576b\"], [0.6666666666666666, \"#ed7953\"], [0.7777777777777778, \"#fb9f3a\"], [0.8888888888888888, \"#fdca26\"], [1.0, \"#f0f921\"]], \"sequentialminus\": [[0.0, \"#0d0887\"], [0.1111111111111111, \"#46039f\"], [0.2222222222222222, \"#7201a8\"], [0.3333333333333333, \"#9c179e\"], [0.4444444444444444, \"#bd3786\"], [0.5555555555555556, \"#d8576b\"], [0.6666666666666666, \"#ed7953\"], [0.7777777777777778, \"#fb9f3a\"], [0.8888888888888888, \"#fdca26\"], [1.0, \"#f0f921\"]]}, \"colorway\": [\"#636efa\", \"#EF553B\", \"#00cc96\", \"#ab63fa\", \"#FFA15A\", \"#19d3f3\", \"#FF6692\", \"#B6E880\", \"#FF97FF\", \"#FECB52\"], \"font\": {\"color\": \"#2a3f5f\"}, \"geo\": {\"bgcolor\": \"white\", \"lakecolor\": \"white\", \"landcolor\": \"#E5ECF6\", \"showlakes\": true, \"showland\": true, \"subunitcolor\": \"white\"}, \"hoverlabel\": {\"align\": \"left\"}, \"hovermode\": \"closest\", \"mapbox\": {\"style\": \"light\"}, \"paper_bgcolor\": \"white\", \"plot_bgcolor\": \"#E5ECF6\", \"polar\": {\"angularaxis\": {\"gridcolor\": \"white\", \"linecolor\": \"white\", \"ticks\": \"\"}, \"bgcolor\": \"#E5ECF6\", \"radialaxis\": {\"gridcolor\": \"white\", \"linecolor\": \"white\", \"ticks\": \"\"}}, \"scene\": {\"xaxis\": {\"backgroundcolor\": \"#E5ECF6\", \"gridcolor\": \"white\", \"gridwidth\": 2, \"linecolor\": \"white\", \"showbackground\": true, \"ticks\": \"\", \"zerolinecolor\": \"white\"}, \"yaxis\": {\"backgroundcolor\": \"#E5ECF6\", \"gridcolor\": \"white\", \"gridwidth\": 2, \"linecolor\": \"white\", \"showbackground\": true, \"ticks\": \"\", \"zerolinecolor\": \"white\"}, \"zaxis\": {\"backgroundcolor\": \"#E5ECF6\", \"gridcolor\": \"white\", \"gridwidth\": 2, \"linecolor\": \"white\", \"showbackground\": true, \"ticks\": \"\", \"zerolinecolor\": \"white\"}}, \"shapedefaults\": {\"line\": {\"color\": \"#2a3f5f\"}}, \"ternary\": {\"aaxis\": {\"gridcolor\": \"white\", \"linecolor\": \"white\", \"ticks\": \"\"}, \"baxis\": {\"gridcolor\": \"white\", \"linecolor\": \"white\", \"ticks\": \"\"}, \"bgcolor\": \"#E5ECF6\", \"caxis\": {\"gridcolor\": \"white\", \"linecolor\": \"white\", \"ticks\": \"\"}}, \"title\": {\"x\": 0.05}, \"xaxis\": {\"automargin\": true, \"gridcolor\": \"white\", \"linecolor\": \"white\", \"ticks\": \"\", \"title\": {\"standoff\": 15}, \"zerolinecolor\": \"white\", \"zerolinewidth\": 2}, \"yaxis\": {\"automargin\": true, \"gridcolor\": \"white\", \"linecolor\": \"white\", \"ticks\": \"\", \"title\": {\"standoff\": 15}, \"zerolinecolor\": \"white\", \"zerolinewidth\": 2}}}, \"title\": {\"text\": \"Beam Directions\"}, \"width\": 800, \"xaxis\": {\"range\": [-12.2, 14.2], \"zeroline\": false}, \"yaxis\": {\"range\": [-11.2, 15.2]}},                        {\"responsive\": true}                    ).then(function(){\n",
       "                            \n",
       "var gd = document.getElementById('51727bb8-7e5e-44ec-9172-ea3cf504b302');\n",
       "var x = new MutationObserver(function (mutations, observer) {{\n",
       "        var display = window.getComputedStyle(gd).display;\n",
       "        if (!display || display === 'none') {{\n",
       "            console.log([gd, 'removed!']);\n",
       "            Plotly.purge(gd);\n",
       "            observer.disconnect();\n",
       "        }}\n",
       "}});\n",
       "\n",
       "// Listen for the removal of the full notebook cells\n",
       "var notebookContainer = gd.closest('#notebook-container');\n",
       "if (notebookContainer) {{\n",
       "    x.observe(notebookContainer, {childList: true});\n",
       "}}\n",
       "\n",
       "// Listen for the clearing of the current output cell\n",
       "var outputEl = gd.closest('.output');\n",
       "if (outputEl) {{\n",
       "    x.observe(outputEl, {childList: true});\n",
       "}}\n",
       "\n",
       "                        })                };                });            </script>        </div>"
      ]
     },
     "metadata": {},
     "output_type": "display_data"
    }
   ],
   "source": [
    "result_plot([2,5],[1,2],[1,4],11)"
   ]
  },
  {
   "cell_type": "markdown",
   "id": "6dc2ad28",
   "metadata": {},
   "source": [
    "## Level 4: Distract the Guards\n",
    "_____\n",
    "\n",
    "The time for the mass escape has come, and you need to distract the guards so that the bunny prisoners can make it out! Unfortunately for you, they're watching the bunnies closely. Fortunately, this means they haven't realized yet that the space station is about to explode due to the destruction of the LAMBCHOP doomsday device. Also fortunately, all that time you spent working as first a minion and then a henchman means that you know the guards are fond of bananas. And gambling. And thumb wrestling.\n",
    "\n",
    "The guards, being bored, readily accept your suggestion to play the Banana Games.\n",
    "\n",
    "You will set up simultaneous thumb wrestling matches. In each match, two guards will pair off to thumb wrestle. The guard with fewer bananas will bet all their bananas, and the other guard will match the bet. The winner will receive all of the bet bananas. You don't pair off guards with the same number of bananas (you will see why, shortly). You know enough guard psychology to know that the one who has more bananas always gets over-confident and loses. Once a match begins, the pair of guards will continue to thumb wrestle and exchange bananas, until both of them have the same number of bananas. Once that happens, both of them will lose interest and go back to guarding the prisoners, and you don't want THAT to happen!\n",
    "\n",
    "For example, if the two guards that were paired started with 3 and 5 bananas, after the first round of thumb wrestling they will have 6 and 2 (the one with 3 bananas wins and gets 3 bananas from the loser). After the second round, they will have 4 and 4 (the one with 6 bananas loses 2 bananas). At that point they stop and get back to guarding.\n",
    "\n",
    "How is all this useful to distract the guards? Notice that if the guards had started with 1 and 4 bananas, then they keep thumb wrestling! 1, 4 -> 2, 3 -> 4, 1 -> 3, 2 -> 1, 4 and so on.\n",
    "\n",
    "Now your plan is clear. You must pair up the guards in such a way that the maximum number of guards go into an infinite thumb wrestling loop!\n",
    "\n",
    "Write a function solution(banana_list) which, given a list of positive integers depicting the amount of bananas the each guard starts with, returns the fewest possible number of guards that will be left to watch the prisoners. Element i of the list will be the number of bananas that guard i (counting from 0) starts with.\n",
    "\n",
    "The number of guards will be at least 1 and not more than 100, and the number of bananas each guard starts with will be a positive integer no more than 1073741823 (i.e. 2^30 -1). Some of them stockpile a LOT of bananas.\n",
    "\n",
    "\n",
    "\n",
    "### Solution Ideas:\n",
    "\n",
    "A good explanation using Blossom Algorithm:  https://yifan.lu/2017/09/13/foobar-blossoms-and-isomorphism/\n",
    "\n",
    "For this particular problem I adopted a large chunk of code from: \n",
    "\n",
    "ref: https://github.com/shreykshah/google-foobar/blob/master/bringing-a-gun-to-a-guard-fight/bringing-a-gun-to-a-guard-fight.py"
   ]
  },
  {
   "cell_type": "code",
   "execution_count": 16,
   "id": "af37158d",
   "metadata": {},
   "outputs": [],
   "source": [
    "def solution2(l):\n",
    "    g = generate_graph(l)\n",
    "    matches = reduce(g)\n",
    "    return len(l) - matches\n",
    "\n",
    "def loop(x,y):\n",
    "    base = int((x+y)/gcd(x,y))\n",
    "    return bool(base & (base - 1))\n",
    "\n",
    "def gcd(a,b):\n",
    "    while b:\n",
    "        a, b = b, a % b\n",
    "    return a\n",
    "\n",
    "def generate_graph(l):\n",
    "    G = {i: [] for i in range(len(l))}\n",
    "    for i in range(len(l)):\n",
    "        for j in range(i, len(l)):\n",
    "            if i != j and loop(l[i], l[j]):\n",
    "                G[i].append(j)\n",
    "                G[j].append(i)\n",
    "    return G\n",
    "\n",
    "def reduce(g):\n",
    "    matched = 0\n",
    "    checks = len(g[max(g, key=lambda key: len(g[key]))])\n",
    "    while len(g) > 1 and checks >= 1:\n",
    "        init_mw_node = min(g, key=lambda key: len(g[key]))\n",
    "        if (len(g[init_mw_node])) < 1 :\n",
    "            del g[init_mw_node]\n",
    "        else:\n",
    "            temp_sec_min = [len(g[g[init_mw_node][0]])+1,1]\n",
    "            for node_i in g[init_mw_node]:\n",
    "                if len(g[node_i]) < temp_sec_min[0]:\n",
    "                    temp_sec_min = [len(g[node_i]), node_i]\n",
    "                for check_i in range(len(g[node_i])):\n",
    "                    if g[node_i][check_i] == init_mw_node:\n",
    "                        del g[node_i][check_i]\n",
    "                        break\n",
    "            for node_i in g[temp_sec_min[1]]:\n",
    "                for check_i in range(len(g[node_i])):\n",
    "                    if g[node_i][check_i] == temp_sec_min[1]:\n",
    "                        del g[node_i][check_i]\n",
    "                        break\n",
    "            del g[init_mw_node]\n",
    "            del g[temp_sec_min[1]]\n",
    "            matched += 2\n",
    "        if len(g) > 1:\n",
    "            checks = len(g[max(g, key=lambda key: len(g[key]))])\n",
    "    return matched\n",
    "    "
   ]
  },
  {
   "cell_type": "markdown",
   "id": "049a404d",
   "metadata": {},
   "source": [
    "## Level 5: Expanding Nebula\n",
    "_____\n",
    "\n",
    "\n",
    "You've escaped Commander Lambda's exploding space station along with numerous escape pods full of bunnies. But -- oh no! -- one of the escape pods has flown into a nearby nebula, causing you to lose track of it. You start monitoring the nebula, but unfortunately, just a moment too late to find where the pod went. However, you do find that the gas of the steadily expanding nebula follows a simple pattern, meaning that you should be able to determine the previous state of the gas and narrow down where you might find the pod.\n",
    "\n",
    "From the scans of the nebula, you have found that it is very flat and distributed in distinct patches, so you can model it as a 2D grid. You find that the current existence of gas in a cell of the grid is determined exactly by its 4 nearby cells, specifically, (1) that cell, (2) the cell below it, (3) the cell to the right of it, and (4) the cell below and to the right of it. If, in the current state, exactly 1 of those 4 cells in the 2x2 block has gas, then it will also have gas in the next state. Otherwise, the cell will be empty in the next state.\n",
    "\n",
    "For example, let's say the previous state of the grid (p) was:\n",
    ".O..\n",
    "..O.\n",
    "...O\n",
    "O...\n",
    "\n",
    "To see how this grid will change to become the current grid (c) over the next time step, consider the 2x2 blocks of cells around each cell.  Of the 2x2 block of [p[0][0], p[0][1], p[1][0], p[1][1]], only p[0][1] has gas in it, which means this 2x2 block would become cell c[0][0] with gas in the next time step:\n",
    ".O -> O\n",
    "..\n",
    "\n",
    "Likewise, in the next 2x2 block to the right consisting of [p[0][1], p[0][2], p[1][1], p[1][2]], two of the containing cells have gas, so in the next state of the grid, c[0][1] will NOT have gas:\n",
    "O. -> .\n",
    ".O\n",
    "\n",
    "Following this pattern to its conclusion, from the previous state p, the current state of the grid c will be:\n",
    "O.O\n",
    ".O.\n",
    "O.O\n",
    "\n",
    "Note that the resulting output will have 1 fewer row and column, since the bottom and rightmost cells do not have a cell below and to the right of them, respectively.\n",
    "\n",
    "Write a function solution(g) where g is an array of array of bools saying whether there is gas in each cell (the current scan of the nebula), and return an int with the number of possible previous states that could have resulted in that grid after 1 time step.  For instance, if the function were given the current state c above, it would deduce that the possible previous states were p (given above) as well as its horizontal and vertical reflections, and would return 4. The width of the grid will be between 3 and 50 inclusive, and the height of the grid will be between 3 and 9 inclusive.  The solution will always be less than one billion (10^9).\n",
    "\n",
    "__Languages__\n",
    "\n",
    "\n",
    "To provide a Java solution, edit Solution.java\n",
    "To provide a Python solution, edit solution.py\n",
    "\n",
    "__Test cases__\n",
    "\n",
    "Your code should pass the following test cases.\n",
    "Note that it may also be run against hidden test cases not shown here.\n",
    "\n",
    "\n",
    "-- Python cases --\n",
    "Input:\n",
    "solution.solution([[True, True, False, True, False, True, False, True, True, False], [True, True, False, False, False, False, True, True, True, False], [True, True, False, False, False, False, False, False, False, True], [False, True, False, False, False, False, True, True, False, False]])\n",
    "Output:\n",
    "    11567\n",
    "\n",
    "Input:\n",
    "solution.solution([[True, False, True], [False, True, False], [True, False, True]])\n",
    "Output:\n",
    "    4\n",
    "\n",
    "Input:\n",
    "solution.solution([[True, False, True, False, False, True, True, True], [True, False, True, False, False, False, True, False], [True, True, True, False, False, False, True, False], [True, False, True, False, False, False, True, False], [True, False, True, False, False, True, True, True]])\n",
    "Output:\n",
    "    254"
   ]
  },
  {
   "attachments": {
    "foo_bar_L5_2022-05-08%20175640.png": {
     "image/png": "[encoded data removed]"
    }
   },
   "cell_type": "markdown",
   "id": "b44c43c6",
   "metadata": {},
   "source": [
    "### Solution Ideas\n",
    "\n",
    "Idea used:\n",
    "\n",
    "Let's a for a given [1,0,1] --> we can generate all preimages (this is done by gen_col func). The preimage will have two cols + 1 row.\n",
    "\n",
    "Given $i^{th}$ and $i+1^{th}$ column of nebula.  We have a dict with keys as containing second col of preimage all feasible preimages. The values corresponds to numbers of ways to reach that preimage starting from preimages of first col of nebula\n",
    "\n",
    "Now check the mathcing preimages for col i+1 and update our values in dict and do this till last col\n",
    "\n",
    "The sum of values of dict in the ending is solution. \n",
    "\n",
    "We are trying to count the number of paths to connect acceptable preimages as shown in fig below:\n",
    "\n",
    "![foo_bar_L5_2022-05-08%20175640.png](attachment:foo_bar_L5_2022-05-08%20175640.png)\n"
   ]
  },
  {
   "cell_type": "code",
   "execution_count": 17,
   "id": "1c09f3b2",
   "metadata": {},
   "outputs": [],
   "source": [
    "import numpy as np\n",
    "import itertools as itr\n",
    "def bool_to_int(g):\n",
    "    bin_g=[]\n",
    "    for row in g:\n",
    "         bin_g.append([int(elem) for elem in row])\n",
    "    return bin_g\n",
    "\n",
    "def gen_col(col):\n",
    "  \n",
    "    rows=[list(item) for item in list(itr.product([0,1], repeat=2))]\n",
    "    grid1=[np.array(item).reshape(2,2).tolist() for item in \\\n",
    "           list(itr.product([0,1], repeat=4)) if np.array(item).sum()==1]\n",
    "    grid0=[np.array(item).reshape(2,2).tolist() for item in \\\n",
    "           list(itr.product([0,1], repeat=4)) if np.array(item).sum()!=1]\n",
    "\n",
    "    if col[0]==1: \n",
    "        res=grid1\n",
    "    else:\n",
    "        res=grid0\n",
    "    \n",
    "    for elem in col[1:]:\n",
    "        res_temp=[]\n",
    "        for grid in res:\n",
    "            for row in rows:\n",
    "                if elem==1 and np.sum(grid[-1])+np.sum(row)==1: \n",
    "                    res_temp.append(grid+[row])\n",
    "                elif elem==0 and np.sum(grid[-1])+np.sum(row)!=1:\n",
    "                    res_temp.append(grid+[row])\n",
    "        res=res_temp\n",
    "        \n",
    "    return np.array(res)\n",
    "\n",
    "\n",
    "def solution(g):\n",
    "    g=bool_to_int(g)\n",
    "    g=np.array(g)\n",
    "    col1=gen_col(g[:,0])\n",
    "    \n",
    "    col1_arr=np.array([image[:,1] for image in col1])\n",
    "    col1_map={tuple(image):np.all(image==col1_arr, axis=1).sum() for image in col1_arr}\n",
    "\n",
    "    #Column wise operations\n",
    "    for i in range(1, len(g[0])):\n",
    "        \n",
    "        col2=gen_col(g[:,i])\n",
    "        col2_map={}\n",
    "        for image2 in col2:\n",
    "                if tuple(image2[:,0]) in col1_map.keys():\n",
    "                    if tuple(image2[:,1]) in col2_map.keys():\n",
    "                        col2_map[tuple(image2[:,1])]=col1_map[tuple(image2[:,0])]+col2_map[tuple(image2[:,1])]\n",
    "                    else:\n",
    "                        col2_map[tuple(image2[:,1])]=col1_map[tuple(image2[:,0])]\n",
    "                else:\n",
    "                    pass\n",
    "        col1_map=col2_map\n",
    "        \n",
    "    return sum(col1_map.values())\n"
   ]
  },
  {
   "cell_type": "code",
   "execution_count": 18,
   "id": "57cc60e2",
   "metadata": {},
   "outputs": [
    {
     "data": {
      "text/plain": [
       "4"
      ]
     },
     "execution_count": 18,
     "metadata": {},
     "output_type": "execute_result"
    }
   ],
   "source": [
    "solution([[1,0,1],[0,1,0],[1,0,1]])"
   ]
  },
  {
   "cell_type": "markdown",
   "id": "cc9e8a8c",
   "metadata": {},
   "source": [
    "## Final Message ! "
   ]
  },
  {
   "cell_type": "markdown",
   "id": "a2eb1ee8",
   "metadata": {},
   "source": [
    "{'success' : 'great', 'colleague' : 'esteemed', 'efforts' : 'incredible', 'achievement' : 'unlocked', 'rabbits' : 'safe', 'foo' : 'win!'}"
   ]
  }
 ],
 "metadata": {
  "kernelspec": {
   "display_name": "Python 2.7",
   "language": "python",
   "name": "ipykernel_py2"
  },
  "language_info": {
   "codemirror_mode": {
    "name": "ipython",
    "version": 2
   },
   "file_extension": ".py",
   "mimetype": "text/x-python",
   "name": "python",
   "nbconvert_exporter": "python",
   "pygments_lexer": "ipython2",
   "version": "2.7.15"
  }
 },
 "nbformat": 4,
 "nbformat_minor": 5
}
